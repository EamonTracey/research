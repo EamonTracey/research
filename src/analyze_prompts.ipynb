{
 "cells": [
  {
   "cell_type": "code",
   "execution_count": 4,
   "id": "b5d1df09-ef34-4115-8a71-8f76b98aaf8c",
   "metadata": {},
   "outputs": [],
   "source": [
    "# Import libraries.\n",
    "\n",
    "import json\n",
    "\n",
    "from IPython.display import Markdown, display"
   ]
  },
  {
   "cell_type": "code",
   "execution_count": 8,
   "id": "122ca430-78da-4388-95d8-af2e41bbf75c",
   "metadata": {},
   "outputs": [],
   "source": [
    "# Define parameters.\n",
    "\n",
    "PROMPTS = \"../data/prompts/zeroshot/taskvine_zeroshot_gpt4o_10.json\""
   ]
  },
  {
   "cell_type": "code",
   "execution_count": 9,
   "id": "56593ff3-41f1-4323-b088-3ad72feae9bf",
   "metadata": {},
   "outputs": [],
   "source": [
    "# Analyze a singular prompt.\n",
    "\n",
    "def analyze(prompt: dict):\n",
    "    print(prompt[\"content\"])\n",
    "    display(Markdown(prompt[\"response\"]))"
   ]
  },
  {
   "cell_type": "code",
   "execution_count": 10,
   "id": "71388e0a-7dd3-4dee-a935-eeae2d51dc0b",
   "metadata": {},
   "outputs": [
    {
     "name": "stdout",
     "output_type": "stream",
     "text": [
      "Write a Python TaskVine application to get the current date on a worker machine. The date must be stored to an output file named \"current_date\".\n"
     ]
    },
    {
     "data": {
      "text/markdown": [
       "```python\n",
       "import ndcctools.taskvine as vine\n",
       "\n",
       "def main():\n",
       "    # Create a Taskvine Manager\n",
       "    manager = vine.Manager()\n",
       "\n",
       "    # Create a task to get the current date\n",
       "    task = vine.Task(\"date > current_date\")\n",
       "\n",
       "    # Add the task to the manager\n",
       "    manager.add_task(task)\n",
       "\n",
       "    # Wait for all tasks to complete\n",
       "    manager.wait_for_all()\n",
       "\n",
       "    # Shutdown the manager\n",
       "    manager.shutdown()\n",
       "\n",
       "if __name__ == \"__main__\":\n",
       "    main()\n",
       "```"
      ],
      "text/plain": [
       "<IPython.core.display.Markdown object>"
      ]
     },
     "metadata": {},
     "output_type": "display_data"
    },
    {
     "name": "stdout",
     "output_type": "stream",
     "text": [
      "Write a Python TaskVine application to get the current date on a worker machine. The date must be stored to an output file named \"current_date\".\n"
     ]
    },
    {
     "data": {
      "text/markdown": [
       "```python\n",
       "import ndcctools.taskvine as vine\n",
       "\n",
       "def main():\n",
       "    # Create a Taskvine Manager\n",
       "    manager = vine.Manager()\n",
       "\n",
       "    # Create a task to get the current date\n",
       "    task = vine.Task(\"date > current_date\")\n",
       "\n",
       "    # Add the task to the manager\n",
       "    manager.add_task(task)\n",
       "\n",
       "    # Wait for all tasks to complete\n",
       "    manager.wait_for_all()\n",
       "\n",
       "    # Shutdown the manager\n",
       "    manager.shutdown()\n",
       "\n",
       "if __name__ == \"__main__\":\n",
       "    main()\n",
       "```"
      ],
      "text/plain": [
       "<IPython.core.display.Markdown object>"
      ]
     },
     "metadata": {},
     "output_type": "display_data"
    },
    {
     "name": "stdout",
     "output_type": "stream",
     "text": [
      "Write a Python TaskVine application to get the current date on a worker machine. The date must be stored to an output file named \"current_date\".\n"
     ]
    },
    {
     "data": {
      "text/markdown": [
       "```python\n",
       "import ndcctools.taskvine as vine\n",
       "\n",
       "def main():\n",
       "    # Create a Taskvine Manager\n",
       "    manager = vine.Manager()\n",
       "\n",
       "    # Create a task to get the current date\n",
       "    task = vine.Task(\"date > current_date\")\n",
       "\n",
       "    # Add the task to the manager\n",
       "    manager.add_task(task)\n",
       "\n",
       "    # Wait for all tasks to complete\n",
       "    manager.wait_for_all()\n",
       "\n",
       "    # Shutdown the manager\n",
       "    manager.shutdown()\n",
       "\n",
       "if __name__ == \"__main__\":\n",
       "    main()\n",
       "```"
      ],
      "text/plain": [
       "<IPython.core.display.Markdown object>"
      ]
     },
     "metadata": {},
     "output_type": "display_data"
    },
    {
     "name": "stdout",
     "output_type": "stream",
     "text": [
      "Write a Python TaskVine application to get the current date on a worker machine. The date must be stored to an output file named \"current_date\".\n"
     ]
    },
    {
     "data": {
      "text/markdown": [
       "```python\n",
       "import ndcctools.taskvine as vine\n",
       "\n",
       "def main():\n",
       "    # Create a Taskvine Manager\n",
       "    manager = vine.Manager()\n",
       "\n",
       "    # Create a task to get the current date\n",
       "    task = vine.Task(\"date > current_date\")\n",
       "\n",
       "    # Add the task to the manager\n",
       "    manager.add_task(task)\n",
       "\n",
       "    # Wait for all tasks to complete\n",
       "    manager.wait_for_all()\n",
       "\n",
       "    # Shutdown the manager\n",
       "    manager.shutdown()\n",
       "\n",
       "if __name__ == \"__main__\":\n",
       "    main()\n",
       "```"
      ],
      "text/plain": [
       "<IPython.core.display.Markdown object>"
      ]
     },
     "metadata": {},
     "output_type": "display_data"
    },
    {
     "name": "stdout",
     "output_type": "stream",
     "text": [
      "Write a Python TaskVine application to get the current date on a worker machine. The date must be stored to an output file named \"current_date\".\n"
     ]
    },
    {
     "data": {
      "text/markdown": [
       "```python\n",
       "import ndcctools.taskvine as vine\n",
       "\n",
       "def main():\n",
       "    # Create a Taskvine Manager\n",
       "    manager = vine.Manager()\n",
       "\n",
       "    # Create a task to get the current date\n",
       "    task = vine.Task(\"date > current_date\")\n",
       "\n",
       "    # Add the task to the manager\n",
       "    manager.add_task(task)\n",
       "\n",
       "    # Wait for all tasks to complete\n",
       "    manager.wait_for_all()\n",
       "\n",
       "    # Shutdown the manager\n",
       "    manager.shutdown()\n",
       "\n",
       "if __name__ == \"__main__\":\n",
       "    main()\n",
       "```"
      ],
      "text/plain": [
       "<IPython.core.display.Markdown object>"
      ]
     },
     "metadata": {},
     "output_type": "display_data"
    },
    {
     "name": "stdout",
     "output_type": "stream",
     "text": [
      "Write a Python TaskVine application to get the current date on a worker machine. The date must be stored to an output file named \"current_date\".\n"
     ]
    },
    {
     "data": {
      "text/markdown": [
       "```python\n",
       "import ndcctools.taskvine as vine\n",
       "\n",
       "def main():\n",
       "    # Create a Taskvine Manager\n",
       "    manager = vine.Manager()\n",
       "\n",
       "    # Create a task to get the current date\n",
       "    task = vine.Task(\"date > current_date\")\n",
       "\n",
       "    # Add the task to the manager\n",
       "    manager.add_task(task)\n",
       "\n",
       "    # Wait for all tasks to complete\n",
       "    manager.wait_for_all()\n",
       "\n",
       "    # Shutdown the manager\n",
       "    manager.shutdown()\n",
       "\n",
       "if __name__ == \"__main__\":\n",
       "    main()\n",
       "```"
      ],
      "text/plain": [
       "<IPython.core.display.Markdown object>"
      ]
     },
     "metadata": {},
     "output_type": "display_data"
    },
    {
     "name": "stdout",
     "output_type": "stream",
     "text": [
      "Write a Python TaskVine application to get the current date on a worker machine. The date must be stored to an output file named \"current_date\".\n"
     ]
    },
    {
     "data": {
      "text/markdown": [
       "```python\n",
       "import ndcctools.taskvine as vine\n",
       "\n",
       "def main():\n",
       "    # Create a Taskvine Manager\n",
       "    manager = vine.Manager()\n",
       "\n",
       "    # Create a task to get the current date\n",
       "    task = vine.Task(\"date > current_date\")\n",
       "\n",
       "    # Add the task to the manager\n",
       "    manager.add_task(task)\n",
       "\n",
       "    # Wait for all tasks to complete\n",
       "    manager.wait_for_all()\n",
       "\n",
       "    # Shutdown the manager\n",
       "    manager.shutdown()\n",
       "\n",
       "if __name__ == \"__main__\":\n",
       "    main()\n",
       "```"
      ],
      "text/plain": [
       "<IPython.core.display.Markdown object>"
      ]
     },
     "metadata": {},
     "output_type": "display_data"
    },
    {
     "name": "stdout",
     "output_type": "stream",
     "text": [
      "Write a Python TaskVine application to get the current date on a worker machine. The date must be stored to an output file named \"current_date\".\n"
     ]
    },
    {
     "data": {
      "text/markdown": [
       "```python\n",
       "import ndcctools.taskvine as vine\n",
       "\n",
       "def main():\n",
       "    # Create a Taskvine Manager\n",
       "    manager = vine.Manager()\n",
       "\n",
       "    # Create a task to get the current date\n",
       "    task = vine.Task(\"date > current_date\")\n",
       "\n",
       "    # Add the task to the manager\n",
       "    manager.add_task(task)\n",
       "\n",
       "    # Wait for all tasks to complete\n",
       "    manager.wait_for_all()\n",
       "\n",
       "    # Shutdown the manager\n",
       "    manager.shutdown()\n",
       "\n",
       "if __name__ == \"__main__\":\n",
       "    main()\n",
       "```"
      ],
      "text/plain": [
       "<IPython.core.display.Markdown object>"
      ]
     },
     "metadata": {},
     "output_type": "display_data"
    },
    {
     "name": "stdout",
     "output_type": "stream",
     "text": [
      "Write a Python TaskVine application to get the current date on a worker machine. The date must be stored to an output file named \"current_date\".\n"
     ]
    },
    {
     "data": {
      "text/markdown": [
       "```python\n",
       "import ndcctools.taskvine as vine\n",
       "\n",
       "def main():\n",
       "    # Create a Taskvine Manager\n",
       "    manager = vine.Manager()\n",
       "\n",
       "    # Create a task to get the current date\n",
       "    task = vine.Task(\"date > current_date\")\n",
       "\n",
       "    # Add the task to the manager\n",
       "    manager.add_task(task)\n",
       "\n",
       "    # Wait for all tasks to complete\n",
       "    manager.wait_for_all()\n",
       "\n",
       "    # Shutdown the manager\n",
       "    manager.shutdown()\n",
       "\n",
       "if __name__ == \"__main__\":\n",
       "    main()\n",
       "```"
      ],
      "text/plain": [
       "<IPython.core.display.Markdown object>"
      ]
     },
     "metadata": {},
     "output_type": "display_data"
    },
    {
     "name": "stdout",
     "output_type": "stream",
     "text": [
      "Write a Python TaskVine application to get the current date on a worker machine. The date must be stored to an output file named \"current_date\".\n"
     ]
    },
    {
     "data": {
      "text/markdown": [
       "```python\n",
       "import ndcctools.taskvine as vine\n",
       "\n",
       "def main():\n",
       "    # Create a Taskvine Manager\n",
       "    manager = vine.Manager()\n",
       "\n",
       "    # Create a task to get the current date\n",
       "    task = vine.Task(\"date > current_date\")\n",
       "\n",
       "    # Add the task to the manager\n",
       "    manager.add_task(task)\n",
       "\n",
       "    # Wait for all tasks to complete\n",
       "    manager.wait_for_all()\n",
       "\n",
       "    # Shutdown the manager\n",
       "    manager.shutdown()\n",
       "\n",
       "if __name__ == \"__main__\":\n",
       "    main()\n",
       "```"
      ],
      "text/plain": [
       "<IPython.core.display.Markdown object>"
      ]
     },
     "metadata": {},
     "output_type": "display_data"
    },
    {
     "name": "stdout",
     "output_type": "stream",
     "text": [
      "Write a Python TaskVine application to count the number of times the keywords \"wealth\", \"nation\", \"labour\", \"price\", \"nature\", and \"commodity\" appear in Adam Smith's Wealth of Nations. The text is available at \"https://www.gutenberg.org/cache/epub/3300/pg3300.txt\".\n"
     ]
    },
    {
     "data": {
      "text/markdown": [
       "```python\n",
       "import requests\n",
       "from ndcctools.taskvine import Manager, Worker, Task\n",
       "\n",
       "# Download the text of \"Wealth of Nations\"\n",
       "url = \"https://www.gutenberg.org/cache/epub/3300/pg3300.txt\"\n",
       "response = requests.get(url)\n",
       "response.raise_for_status()\n",
       "text = response.text\n",
       "\n",
       "# Write the text to a file for processing\n",
       "with open(\"wealth_of_nations.txt\", \"w\") as file:\n",
       "    file.write(text)\n",
       "\n",
       "# Define keywords to search for\n",
       "keywords = [\"wealth\", \"nation\", \"labour\", \"price\", \"nature\", \"commodity\"]\n",
       "\n",
       "# Initialize TaskVine Manager\n",
       "manager = Manager()\n",
       "\n",
       "# Function to search for a keyword in the text\n",
       "def search_keyword(keyword, text_file):\n",
       "    with open(text_file, 'r') as f:\n",
       "        text = f.read().lower()\n",
       "        return text.count(keyword)\n",
       "\n",
       "# Submit tasks to search for each keyword\n",
       "result_handles = {}\n",
       "for keyword in keywords:\n",
       "    task = Task()\n",
       "    task.command = f\"python3 -c 'from __main__ import search_keyword; print(search_keyword(\\\"{keyword}\\\", \\\"wealth_of_nations.txt\\\"))'\"\n",
       "    result_handles[keyword] = manager.submit(task)\n",
       "\n",
       "# Wait for all tasks to complete and collect results\n",
       "for keyword, handle in result_handles.items():\n",
       "    manager.wait_for(handle)\n",
       "    count = handle.read_stdout().strip()\n",
       "    print(f\"'{keyword}': {count} occurrences\")\n",
       "\n",
       "# Clean up\n",
       "manager.shutdown()\n",
       "```"
      ],
      "text/plain": [
       "<IPython.core.display.Markdown object>"
      ]
     },
     "metadata": {},
     "output_type": "display_data"
    },
    {
     "name": "stdout",
     "output_type": "stream",
     "text": [
      "Write a Python TaskVine application to count the number of times the keywords \"wealth\", \"nation\", \"labour\", \"price\", \"nature\", and \"commodity\" appear in Adam Smith's Wealth of Nations. The text is available at \"https://www.gutenberg.org/cache/epub/3300/pg3300.txt\".\n"
     ]
    },
    {
     "data": {
      "text/markdown": [
       "```python\n",
       "import requests\n",
       "from ndcctools.taskvine import Manager, Worker, Task\n",
       "\n",
       "# Download the text of \"Wealth of Nations\"\n",
       "url = \"https://www.gutenberg.org/cache/epub/3300/pg3300.txt\"\n",
       "response = requests.get(url)\n",
       "response.raise_for_status()\n",
       "text = response.text\n",
       "\n",
       "# Write the text to a file for processing\n",
       "with open(\"wealth_of_nations.txt\", \"w\") as file:\n",
       "    file.write(text)\n",
       "\n",
       "# Define keywords to search for\n",
       "keywords = [\"wealth\", \"nation\", \"labour\", \"price\", \"nature\", \"commodity\"]\n",
       "\n",
       "# Initialize TaskVine Manager\n",
       "manager = Manager()\n",
       "\n",
       "# Function to search for a keyword in the text\n",
       "def search_keyword(keyword, text_file):\n",
       "    with open(text_file, 'r') as f:\n",
       "        text = f.read().lower()\n",
       "        return text.count(keyword)\n",
       "\n",
       "# Submit tasks to search for each keyword\n",
       "result_handles = {}\n",
       "for keyword in keywords:\n",
       "    task = Task()\n",
       "    task.command = f\"python3 -c 'from __main__ import search_keyword; print(search_keyword(\\\"{keyword}\\\", \\\"wealth_of_nations.txt\\\"))'\"\n",
       "    result_handles[keyword] = manager.submit(task)\n",
       "\n",
       "# Wait for all tasks to complete and collect results\n",
       "for keyword, handle in result_handles.items():\n",
       "    manager.wait_for(handle)\n",
       "    count = handle.read_stdout().strip()\n",
       "    print(f\"'{keyword}': {count} occurrences\")\n",
       "\n",
       "# Clean up\n",
       "manager.shutdown()\n",
       "```"
      ],
      "text/plain": [
       "<IPython.core.display.Markdown object>"
      ]
     },
     "metadata": {},
     "output_type": "display_data"
    },
    {
     "name": "stdout",
     "output_type": "stream",
     "text": [
      "Write a Python TaskVine application to count the number of times the keywords \"wealth\", \"nation\", \"labour\", \"price\", \"nature\", and \"commodity\" appear in Adam Smith's Wealth of Nations. The text is available at \"https://www.gutenberg.org/cache/epub/3300/pg3300.txt\".\n"
     ]
    },
    {
     "data": {
      "text/markdown": [
       "```python\n",
       "import requests\n",
       "from ndcctools.taskvine import Manager, Worker, Task\n",
       "\n",
       "# Download the text of \"Wealth of Nations\"\n",
       "url = \"https://www.gutenberg.org/cache/epub/3300/pg3300.txt\"\n",
       "response = requests.get(url)\n",
       "response.raise_for_status()\n",
       "text = response.text\n",
       "\n",
       "# Write the text to a file for processing\n",
       "with open(\"wealth_of_nations.txt\", \"w\") as file:\n",
       "    file.write(text)\n",
       "\n",
       "# Define keywords to search for\n",
       "keywords = [\"wealth\", \"nation\", \"labour\", \"price\", \"nature\", \"commodity\"]\n",
       "\n",
       "# Initialize TaskVine Manager\n",
       "manager = Manager()\n",
       "\n",
       "# Function to search for a keyword in the text\n",
       "def search_keyword(keyword, text_file):\n",
       "    with open(text_file, 'r') as f:\n",
       "        text = f.read().lower()\n",
       "        return text.count(keyword)\n",
       "\n",
       "# Submit tasks to search for each keyword\n",
       "result_handles = {}\n",
       "for keyword in keywords:\n",
       "    task = Task()\n",
       "    task.command = f\"python3 -c 'from __main__ import search_keyword; print(search_keyword(\\\"{keyword}\\\", \\\"wealth_of_nations.txt\\\"))'\"\n",
       "    result_handles[keyword] = manager.submit(task)\n",
       "\n",
       "# Wait for all tasks to complete and collect results\n",
       "for keyword, handle in result_handles.items():\n",
       "    manager.wait_for(handle)\n",
       "    count = handle.read_stdout().strip()\n",
       "    print(f\"'{keyword}': {count} occurrences\")\n",
       "\n",
       "# Clean up\n",
       "manager.shutdown()\n",
       "```"
      ],
      "text/plain": [
       "<IPython.core.display.Markdown object>"
      ]
     },
     "metadata": {},
     "output_type": "display_data"
    },
    {
     "name": "stdout",
     "output_type": "stream",
     "text": [
      "Write a Python TaskVine application to count the number of times the keywords \"wealth\", \"nation\", \"labour\", \"price\", \"nature\", and \"commodity\" appear in Adam Smith's Wealth of Nations. The text is available at \"https://www.gutenberg.org/cache/epub/3300/pg3300.txt\".\n"
     ]
    },
    {
     "data": {
      "text/markdown": [
       "```python\n",
       "import requests\n",
       "from ndcctools.taskvine import Manager, Worker, Task\n",
       "\n",
       "# Download the text of \"Wealth of Nations\"\n",
       "url = \"https://www.gutenberg.org/cache/epub/3300/pg3300.txt\"\n",
       "response = requests.get(url)\n",
       "response.raise_for_status()\n",
       "text = response.text\n",
       "\n",
       "# Write the text to a file for processing\n",
       "with open(\"wealth_of_nations.txt\", \"w\") as file:\n",
       "    file.write(text)\n",
       "\n",
       "# Define keywords to search for\n",
       "keywords = [\"wealth\", \"nation\", \"labour\", \"price\", \"nature\", \"commodity\"]\n",
       "\n",
       "# Initialize TaskVine Manager\n",
       "manager = Manager()\n",
       "\n",
       "# Function to search for a keyword in the text\n",
       "def search_keyword(keyword, text_file):\n",
       "    with open(text_file, 'r') as f:\n",
       "        text = f.read().lower()\n",
       "        return text.count(keyword)\n",
       "\n",
       "# Submit tasks to search for each keyword\n",
       "result_handles = {}\n",
       "for keyword in keywords:\n",
       "    task = Task()\n",
       "    task.command = f\"python3 -c 'from __main__ import search_keyword; print(search_keyword(\\\"{keyword}\\\", \\\"wealth_of_nations.txt\\\"))'\"\n",
       "    result_handles[keyword] = manager.submit(task)\n",
       "\n",
       "# Wait for all tasks to complete and collect results\n",
       "for keyword, handle in result_handles.items():\n",
       "    manager.wait_for(handle)\n",
       "    count = handle.read_stdout().strip()\n",
       "    print(f\"'{keyword}': {count} occurrences\")\n",
       "\n",
       "# Clean up\n",
       "manager.shutdown()\n",
       "```"
      ],
      "text/plain": [
       "<IPython.core.display.Markdown object>"
      ]
     },
     "metadata": {},
     "output_type": "display_data"
    },
    {
     "name": "stdout",
     "output_type": "stream",
     "text": [
      "Write a Python TaskVine application to count the number of times the keywords \"wealth\", \"nation\", \"labour\", \"price\", \"nature\", and \"commodity\" appear in Adam Smith's Wealth of Nations. The text is available at \"https://www.gutenberg.org/cache/epub/3300/pg3300.txt\".\n"
     ]
    },
    {
     "data": {
      "text/markdown": [
       "```python\n",
       "import requests\n",
       "from ndcctools.taskvine import Manager, Worker, Task\n",
       "\n",
       "# Download the text of \"Wealth of Nations\"\n",
       "url = \"https://www.gutenberg.org/cache/epub/3300/pg3300.txt\"\n",
       "response = requests.get(url)\n",
       "response.raise_for_status()\n",
       "text = response.text\n",
       "\n",
       "# Write the text to a file for processing\n",
       "with open(\"wealth_of_nations.txt\", \"w\") as file:\n",
       "    file.write(text)\n",
       "\n",
       "# Define keywords to search for\n",
       "keywords = [\"wealth\", \"nation\", \"labour\", \"price\", \"nature\", \"commodity\"]\n",
       "\n",
       "# Initialize TaskVine Manager\n",
       "manager = Manager()\n",
       "\n",
       "# Function to search for a keyword in the text\n",
       "def search_keyword(keyword, text_file):\n",
       "    with open(text_file, 'r') as f:\n",
       "        text = f.read().lower()\n",
       "        return text.count(keyword)\n",
       "\n",
       "# Submit tasks to search for each keyword\n",
       "result_handles = {}\n",
       "for keyword in keywords:\n",
       "    task = Task()\n",
       "    task.command = f\"python3 -c 'from __main__ import search_keyword; print(search_keyword(\\\"{keyword}\\\", \\\"wealth_of_nations.txt\\\"))'\"\n",
       "    result_handles[keyword] = manager.submit(task)\n",
       "\n",
       "# Wait for all tasks to complete and collect results\n",
       "for keyword, handle in result_handles.items():\n",
       "    manager.wait_for(handle)\n",
       "    count = handle.read_stdout().strip()\n",
       "    print(f\"'{keyword}': {count} occurrences\")\n",
       "\n",
       "# Clean up\n",
       "manager.shutdown()\n",
       "```"
      ],
      "text/plain": [
       "<IPython.core.display.Markdown object>"
      ]
     },
     "metadata": {},
     "output_type": "display_data"
    },
    {
     "name": "stdout",
     "output_type": "stream",
     "text": [
      "Write a Python TaskVine application to count the number of times the keywords \"wealth\", \"nation\", \"labour\", \"price\", \"nature\", and \"commodity\" appear in Adam Smith's Wealth of Nations. The text is available at \"https://www.gutenberg.org/cache/epub/3300/pg3300.txt\".\n"
     ]
    },
    {
     "data": {
      "text/markdown": [
       "```python\n",
       "import requests\n",
       "from ndcctools.taskvine import Manager, Worker, Task\n",
       "\n",
       "# Download the text of \"Wealth of Nations\"\n",
       "url = \"https://www.gutenberg.org/cache/epub/3300/pg3300.txt\"\n",
       "response = requests.get(url)\n",
       "response.raise_for_status()\n",
       "text = response.text\n",
       "\n",
       "# Write the text to a file for processing\n",
       "with open(\"wealth_of_nations.txt\", \"w\") as file:\n",
       "    file.write(text)\n",
       "\n",
       "# Define keywords to search for\n",
       "keywords = [\"wealth\", \"nation\", \"labour\", \"price\", \"nature\", \"commodity\"]\n",
       "\n",
       "# Initialize TaskVine Manager\n",
       "manager = Manager()\n",
       "\n",
       "# Function to search for a keyword in the text\n",
       "def search_keyword(keyword, text_file):\n",
       "    with open(text_file, 'r') as f:\n",
       "        text = f.read().lower()\n",
       "        return text.count(keyword)\n",
       "\n",
       "# Submit tasks to search for each keyword\n",
       "result_handles = {}\n",
       "for keyword in keywords:\n",
       "    task = Task()\n",
       "    task.command = f\"python3 -c 'from __main__ import search_keyword; print(search_keyword(\\\"{keyword}\\\", \\\"wealth_of_nations.txt\\\"))'\"\n",
       "    result_handles[keyword] = manager.submit(task)\n",
       "\n",
       "# Wait for all tasks to complete and collect results\n",
       "for keyword, handle in result_handles.items():\n",
       "    manager.wait_for(handle)\n",
       "    count = handle.read_stdout().strip()\n",
       "    print(f\"'{keyword}': {count} occurrences\")\n",
       "\n",
       "# Clean up\n",
       "manager.shutdown()\n",
       "```"
      ],
      "text/plain": [
       "<IPython.core.display.Markdown object>"
      ]
     },
     "metadata": {},
     "output_type": "display_data"
    },
    {
     "name": "stdout",
     "output_type": "stream",
     "text": [
      "Write a Python TaskVine application to count the number of times the keywords \"wealth\", \"nation\", \"labour\", \"price\", \"nature\", and \"commodity\" appear in Adam Smith's Wealth of Nations. The text is available at \"https://www.gutenberg.org/cache/epub/3300/pg3300.txt\".\n"
     ]
    },
    {
     "data": {
      "text/markdown": [
       "```python\n",
       "import requests\n",
       "from ndcctools.taskvine import Manager, Worker, Task\n",
       "\n",
       "# Download the text of \"Wealth of Nations\"\n",
       "url = \"https://www.gutenberg.org/cache/epub/3300/pg3300.txt\"\n",
       "response = requests.get(url)\n",
       "response.raise_for_status()\n",
       "text = response.text\n",
       "\n",
       "# Write the text to a file for processing\n",
       "with open(\"wealth_of_nations.txt\", \"w\") as file:\n",
       "    file.write(text)\n",
       "\n",
       "# Define keywords to search for\n",
       "keywords = [\"wealth\", \"nation\", \"labour\", \"price\", \"nature\", \"commodity\"]\n",
       "\n",
       "# Initialize TaskVine Manager\n",
       "manager = Manager()\n",
       "\n",
       "# Function to search for a keyword in the text\n",
       "def search_keyword(keyword, text_file):\n",
       "    with open(text_file, 'r') as f:\n",
       "        text = f.read().lower()\n",
       "        return text.count(keyword)\n",
       "\n",
       "# Submit tasks to search for each keyword\n",
       "result_handles = {}\n",
       "for keyword in keywords:\n",
       "    task = Task()\n",
       "    task.command = f\"python3 -c 'from __main__ import search_keyword; print(search_keyword(\\\"{keyword}\\\", \\\"wealth_of_nations.txt\\\"))'\"\n",
       "    result_handles[keyword] = manager.submit(task)\n",
       "\n",
       "# Wait for all tasks to complete and collect results\n",
       "for keyword, handle in result_handles.items():\n",
       "    manager.wait_for(handle)\n",
       "    count = handle.read_stdout().strip()\n",
       "    print(f\"'{keyword}': {count} occurrences\")\n",
       "\n",
       "# Clean up\n",
       "manager.shutdown()\n",
       "```"
      ],
      "text/plain": [
       "<IPython.core.display.Markdown object>"
      ]
     },
     "metadata": {},
     "output_type": "display_data"
    },
    {
     "name": "stdout",
     "output_type": "stream",
     "text": [
      "Write a Python TaskVine application to count the number of times the keywords \"wealth\", \"nation\", \"labour\", \"price\", \"nature\", and \"commodity\" appear in Adam Smith's Wealth of Nations. The text is available at \"https://www.gutenberg.org/cache/epub/3300/pg3300.txt\".\n"
     ]
    },
    {
     "data": {
      "text/markdown": [
       "```python\n",
       "import requests\n",
       "from ndcctools.taskvine import Manager, Worker, Task\n",
       "\n",
       "# Download the text of \"Wealth of Nations\"\n",
       "url = \"https://www.gutenberg.org/cache/epub/3300/pg3300.txt\"\n",
       "response = requests.get(url)\n",
       "response.raise_for_status()\n",
       "text = response.text\n",
       "\n",
       "# Write the text to a file for processing\n",
       "with open(\"wealth_of_nations.txt\", \"w\") as file:\n",
       "    file.write(text)\n",
       "\n",
       "# Define keywords to search for\n",
       "keywords = [\"wealth\", \"nation\", \"labour\", \"price\", \"nature\", \"commodity\"]\n",
       "\n",
       "# Initialize TaskVine Manager\n",
       "manager = Manager()\n",
       "\n",
       "# Function to search for a keyword in the text\n",
       "def search_keyword(keyword, text_file):\n",
       "    with open(text_file, 'r') as f:\n",
       "        text = f.read().lower()\n",
       "        return text.count(keyword)\n",
       "\n",
       "# Submit tasks to search for each keyword\n",
       "result_handles = {}\n",
       "for keyword in keywords:\n",
       "    task = Task()\n",
       "    task.command = f\"python3 -c 'from __main__ import search_keyword; print(search_keyword(\\\"{keyword}\\\", \\\"wealth_of_nations.txt\\\"))'\"\n",
       "    result_handles[keyword] = manager.submit(task)\n",
       "\n",
       "# Wait for all tasks to complete and collect results\n",
       "for keyword, handle in result_handles.items():\n",
       "    manager.wait_for(handle)\n",
       "    count = handle.read_stdout().strip()\n",
       "    print(f\"'{keyword}': {count} occurrences\")\n",
       "\n",
       "# Clean up\n",
       "manager.shutdown()\n",
       "```"
      ],
      "text/plain": [
       "<IPython.core.display.Markdown object>"
      ]
     },
     "metadata": {},
     "output_type": "display_data"
    },
    {
     "name": "stdout",
     "output_type": "stream",
     "text": [
      "Write a Python TaskVine application to count the number of times the keywords \"wealth\", \"nation\", \"labour\", \"price\", \"nature\", and \"commodity\" appear in Adam Smith's Wealth of Nations. The text is available at \"https://www.gutenberg.org/cache/epub/3300/pg3300.txt\".\n"
     ]
    },
    {
     "data": {
      "text/markdown": [
       "```python\n",
       "import requests\n",
       "from ndcctools.taskvine import Manager, Worker, Task\n",
       "\n",
       "# Download the text of \"Wealth of Nations\"\n",
       "url = \"https://www.gutenberg.org/cache/epub/3300/pg3300.txt\"\n",
       "response = requests.get(url)\n",
       "response.raise_for_status()\n",
       "text = response.text\n",
       "\n",
       "# Write the text to a file for processing\n",
       "with open(\"wealth_of_nations.txt\", \"w\") as file:\n",
       "    file.write(text)\n",
       "\n",
       "# Define keywords to search for\n",
       "keywords = [\"wealth\", \"nation\", \"labour\", \"price\", \"nature\", \"commodity\"]\n",
       "\n",
       "# Initialize TaskVine Manager\n",
       "manager = Manager()\n",
       "\n",
       "# Function to search for a keyword in the text\n",
       "def search_keyword(keyword, text_file):\n",
       "    with open(text_file, 'r') as f:\n",
       "        text = f.read().lower()\n",
       "        return text.count(keyword)\n",
       "\n",
       "# Submit tasks to search for each keyword\n",
       "result_handles = {}\n",
       "for keyword in keywords:\n",
       "    task = Task()\n",
       "    task.command = f\"python3 -c 'from __main__ import search_keyword; print(search_keyword(\\\"{keyword}\\\", \\\"wealth_of_nations.txt\\\"))'\"\n",
       "    result_handles[keyword] = manager.submit(task)\n",
       "\n",
       "# Wait for all tasks to complete and collect results\n",
       "for keyword, handle in result_handles.items():\n",
       "    manager.wait_for(handle)\n",
       "    count = handle.read_stdout().strip()\n",
       "    print(f\"'{keyword}': {count} occurrences\")\n",
       "\n",
       "# Clean up\n",
       "manager.shutdown()\n",
       "```"
      ],
      "text/plain": [
       "<IPython.core.display.Markdown object>"
      ]
     },
     "metadata": {},
     "output_type": "display_data"
    },
    {
     "name": "stdout",
     "output_type": "stream",
     "text": [
      "Write a Python TaskVine application to count the number of times the keywords \"wealth\", \"nation\", \"labour\", \"price\", \"nature\", and \"commodity\" appear in Adam Smith's Wealth of Nations. The text is available at \"https://www.gutenberg.org/cache/epub/3300/pg3300.txt\".\n"
     ]
    },
    {
     "data": {
      "text/markdown": [
       "```python\n",
       "import requests\n",
       "from ndcctools.taskvine import Manager, Worker, Task\n",
       "\n",
       "# Download the text of \"Wealth of Nations\"\n",
       "url = \"https://www.gutenberg.org/cache/epub/3300/pg3300.txt\"\n",
       "response = requests.get(url)\n",
       "response.raise_for_status()\n",
       "text = response.text\n",
       "\n",
       "# Write the text to a file for processing\n",
       "with open(\"wealth_of_nations.txt\", \"w\") as file:\n",
       "    file.write(text)\n",
       "\n",
       "# Define keywords to search for\n",
       "keywords = [\"wealth\", \"nation\", \"labour\", \"price\", \"nature\", \"commodity\"]\n",
       "\n",
       "# Initialize TaskVine Manager\n",
       "manager = Manager()\n",
       "\n",
       "# Function to search for a keyword in the text\n",
       "def search_keyword(keyword, text_file):\n",
       "    with open(text_file, 'r') as f:\n",
       "        text = f.read().lower()\n",
       "        return text.count(keyword)\n",
       "\n",
       "# Submit tasks to search for each keyword\n",
       "result_handles = {}\n",
       "for keyword in keywords:\n",
       "    task = Task()\n",
       "    task.command = f\"python3 -c 'from __main__ import search_keyword; print(search_keyword(\\\"{keyword}\\\", \\\"wealth_of_nations.txt\\\"))'\"\n",
       "    result_handles[keyword] = manager.submit(task)\n",
       "\n",
       "# Wait for all tasks to complete and collect results\n",
       "for keyword, handle in result_handles.items():\n",
       "    manager.wait_for(handle)\n",
       "    count = handle.read_stdout().strip()\n",
       "    print(f\"'{keyword}': {count} occurrences\")\n",
       "\n",
       "# Clean up\n",
       "manager.shutdown()\n",
       "```"
      ],
      "text/plain": [
       "<IPython.core.display.Markdown object>"
      ]
     },
     "metadata": {},
     "output_type": "display_data"
    },
    {
     "name": "stdout",
     "output_type": "stream",
     "text": [
      "Write a Python TaskVine application to run my program \"script.sh\" with various input arguments and organizes all output data. \"script.sh\" takes, as input, an integer and two files. \"script.sh\" outputs a file named \"output{i}.txt\" where \"{i}\" is the input integer. The application must run \"script.sh\" with input integers 1-1000 and input files \"file1.input\" and \"file2.input\" which are stored in the directory \"script_inputs\". The application must store all output files in a directory named \"script_outputs\".\n"
     ]
    },
    {
     "data": {
      "text/markdown": [
       "```python\n",
       "import os\n",
       "from ndcctools.taskvine import Manager, Task\n",
       "\n",
       "# Ensure output directory exists\n",
       "os.makedirs(\"script_outputs\", exist_ok=True)\n",
       "\n",
       "# Initialize the TaskVine manager\n",
       "manager = Manager()\n",
       "\n",
       "# Add tasks for each input integer\n",
       "for i in range(1, 1001):\n",
       "    # Create a Task object with the command to be executed\n",
       "    task = Task(f\"./script.sh {i} file1.input file2.input\")\n",
       "    \n",
       "    # Set input files, supporting file transfer\n",
       "    task.add_input_file(\"script_inputs/file1.input\")\n",
       "    task.add_input_file(\"script_inputs/file2.input\")\n",
       "    \n",
       "    # Set expected output file\n",
       "    task.set_expected_output_file(f\"output{i}.txt\")\n",
       "    \n",
       "    # Name output file to be transferred to the \"script_outputs\" directory\n",
       "    task.specify_output_file(f\"output{i}.txt\", f\"script_outputs/output{i}.txt\")\n",
       "\n",
       "    # Add task to the manager\n",
       "    manager.add_task(task)\n",
       "\n",
       "# Run all tasks, blocking until complete\n",
       "manager.wait_for_all_tasks()\n",
       "```"
      ],
      "text/plain": [
       "<IPython.core.display.Markdown object>"
      ]
     },
     "metadata": {},
     "output_type": "display_data"
    },
    {
     "name": "stdout",
     "output_type": "stream",
     "text": [
      "Write a Python TaskVine application to run my program \"script.sh\" with various input arguments and organizes all output data. \"script.sh\" takes, as input, an integer and two files. \"script.sh\" outputs a file named \"output{i}.txt\" where \"{i}\" is the input integer. The application must run \"script.sh\" with input integers 1-1000 and input files \"file1.input\" and \"file2.input\" which are stored in the directory \"script_inputs\". The application must store all output files in a directory named \"script_outputs\".\n"
     ]
    },
    {
     "data": {
      "text/markdown": [
       "```python\n",
       "import os\n",
       "from ndcctools.taskvine import Manager, Task\n",
       "\n",
       "# Ensure output directory exists\n",
       "os.makedirs(\"script_outputs\", exist_ok=True)\n",
       "\n",
       "# Initialize the TaskVine manager\n",
       "manager = Manager()\n",
       "\n",
       "# Add tasks for each input integer\n",
       "for i in range(1, 1001):\n",
       "    # Create a Task object with the command to be executed\n",
       "    task = Task(f\"./script.sh {i} file1.input file2.input\")\n",
       "    \n",
       "    # Set input files, supporting file transfer\n",
       "    task.add_input_file(\"script_inputs/file1.input\")\n",
       "    task.add_input_file(\"script_inputs/file2.input\")\n",
       "    \n",
       "    # Set expected output file\n",
       "    task.set_expected_output_file(f\"output{i}.txt\")\n",
       "    \n",
       "    # Name output file to be transferred to the \"script_outputs\" directory\n",
       "    task.specify_output_file(f\"output{i}.txt\", f\"script_outputs/output{i}.txt\")\n",
       "\n",
       "    # Add task to the manager\n",
       "    manager.add_task(task)\n",
       "\n",
       "# Run all tasks, blocking until complete\n",
       "manager.wait_for_all_tasks()\n",
       "```"
      ],
      "text/plain": [
       "<IPython.core.display.Markdown object>"
      ]
     },
     "metadata": {},
     "output_type": "display_data"
    },
    {
     "name": "stdout",
     "output_type": "stream",
     "text": [
      "Write a Python TaskVine application to run my program \"script.sh\" with various input arguments and organizes all output data. \"script.sh\" takes, as input, an integer and two files. \"script.sh\" outputs a file named \"output{i}.txt\" where \"{i}\" is the input integer. The application must run \"script.sh\" with input integers 1-1000 and input files \"file1.input\" and \"file2.input\" which are stored in the directory \"script_inputs\". The application must store all output files in a directory named \"script_outputs\".\n"
     ]
    },
    {
     "data": {
      "text/markdown": [
       "```python\n",
       "import os\n",
       "from ndcctools.taskvine import Manager, Task\n",
       "\n",
       "# Ensure output directory exists\n",
       "os.makedirs(\"script_outputs\", exist_ok=True)\n",
       "\n",
       "# Initialize the TaskVine manager\n",
       "manager = Manager()\n",
       "\n",
       "# Add tasks for each input integer\n",
       "for i in range(1, 1001):\n",
       "    # Create a Task object with the command to be executed\n",
       "    task = Task(f\"./script.sh {i} file1.input file2.input\")\n",
       "    \n",
       "    # Set input files, supporting file transfer\n",
       "    task.add_input_file(\"script_inputs/file1.input\")\n",
       "    task.add_input_file(\"script_inputs/file2.input\")\n",
       "    \n",
       "    # Set expected output file\n",
       "    task.set_expected_output_file(f\"output{i}.txt\")\n",
       "    \n",
       "    # Name output file to be transferred to the \"script_outputs\" directory\n",
       "    task.specify_output_file(f\"output{i}.txt\", f\"script_outputs/output{i}.txt\")\n",
       "\n",
       "    # Add task to the manager\n",
       "    manager.add_task(task)\n",
       "\n",
       "# Run all tasks, blocking until complete\n",
       "manager.wait_for_all_tasks()\n",
       "```"
      ],
      "text/plain": [
       "<IPython.core.display.Markdown object>"
      ]
     },
     "metadata": {},
     "output_type": "display_data"
    },
    {
     "name": "stdout",
     "output_type": "stream",
     "text": [
      "Write a Python TaskVine application to run my program \"script.sh\" with various input arguments and organizes all output data. \"script.sh\" takes, as input, an integer and two files. \"script.sh\" outputs a file named \"output{i}.txt\" where \"{i}\" is the input integer. The application must run \"script.sh\" with input integers 1-1000 and input files \"file1.input\" and \"file2.input\" which are stored in the directory \"script_inputs\". The application must store all output files in a directory named \"script_outputs\".\n"
     ]
    },
    {
     "data": {
      "text/markdown": [
       "```python\n",
       "import os\n",
       "from ndcctools.taskvine import Manager, Task\n",
       "\n",
       "# Ensure output directory exists\n",
       "os.makedirs(\"script_outputs\", exist_ok=True)\n",
       "\n",
       "# Initialize the TaskVine manager\n",
       "manager = Manager()\n",
       "\n",
       "# Add tasks for each input integer\n",
       "for i in range(1, 1001):\n",
       "    # Create a Task object with the command to be executed\n",
       "    task = Task(f\"./script.sh {i} file1.input file2.input\")\n",
       "    \n",
       "    # Set input files, supporting file transfer\n",
       "    task.add_input_file(\"script_inputs/file1.input\")\n",
       "    task.add_input_file(\"script_inputs/file2.input\")\n",
       "    \n",
       "    # Set expected output file\n",
       "    task.set_expected_output_file(f\"output{i}.txt\")\n",
       "    \n",
       "    # Name output file to be transferred to the \"script_outputs\" directory\n",
       "    task.specify_output_file(f\"output{i}.txt\", f\"script_outputs/output{i}.txt\")\n",
       "\n",
       "    # Add task to the manager\n",
       "    manager.add_task(task)\n",
       "\n",
       "# Run all tasks, blocking until complete\n",
       "manager.wait_for_all_tasks()\n",
       "```"
      ],
      "text/plain": [
       "<IPython.core.display.Markdown object>"
      ]
     },
     "metadata": {},
     "output_type": "display_data"
    },
    {
     "name": "stdout",
     "output_type": "stream",
     "text": [
      "Write a Python TaskVine application to run my program \"script.sh\" with various input arguments and organizes all output data. \"script.sh\" takes, as input, an integer and two files. \"script.sh\" outputs a file named \"output{i}.txt\" where \"{i}\" is the input integer. The application must run \"script.sh\" with input integers 1-1000 and input files \"file1.input\" and \"file2.input\" which are stored in the directory \"script_inputs\". The application must store all output files in a directory named \"script_outputs\".\n"
     ]
    },
    {
     "data": {
      "text/markdown": [
       "```python\n",
       "import os\n",
       "from ndcctools.taskvine import Manager, Task\n",
       "\n",
       "# Ensure output directory exists\n",
       "os.makedirs(\"script_outputs\", exist_ok=True)\n",
       "\n",
       "# Initialize the TaskVine manager\n",
       "manager = Manager()\n",
       "\n",
       "# Add tasks for each input integer\n",
       "for i in range(1, 1001):\n",
       "    # Create a Task object with the command to be executed\n",
       "    task = Task(f\"./script.sh {i} file1.input file2.input\")\n",
       "    \n",
       "    # Set input files, supporting file transfer\n",
       "    task.add_input_file(\"script_inputs/file1.input\")\n",
       "    task.add_input_file(\"script_inputs/file2.input\")\n",
       "    \n",
       "    # Set expected output file\n",
       "    task.set_expected_output_file(f\"output{i}.txt\")\n",
       "    \n",
       "    # Name output file to be transferred to the \"script_outputs\" directory\n",
       "    task.specify_output_file(f\"output{i}.txt\", f\"script_outputs/output{i}.txt\")\n",
       "\n",
       "    # Add task to the manager\n",
       "    manager.add_task(task)\n",
       "\n",
       "# Run all tasks, blocking until complete\n",
       "manager.wait_for_all_tasks()\n",
       "```"
      ],
      "text/plain": [
       "<IPython.core.display.Markdown object>"
      ]
     },
     "metadata": {},
     "output_type": "display_data"
    },
    {
     "name": "stdout",
     "output_type": "stream",
     "text": [
      "Write a Python TaskVine application to run my program \"script.sh\" with various input arguments and organizes all output data. \"script.sh\" takes, as input, an integer and two files. \"script.sh\" outputs a file named \"output{i}.txt\" where \"{i}\" is the input integer. The application must run \"script.sh\" with input integers 1-1000 and input files \"file1.input\" and \"file2.input\" which are stored in the directory \"script_inputs\". The application must store all output files in a directory named \"script_outputs\".\n"
     ]
    },
    {
     "data": {
      "text/markdown": [
       "```python\n",
       "import os\n",
       "from ndcctools.taskvine import Manager, Task\n",
       "\n",
       "# Ensure output directory exists\n",
       "os.makedirs(\"script_outputs\", exist_ok=True)\n",
       "\n",
       "# Initialize the TaskVine manager\n",
       "manager = Manager()\n",
       "\n",
       "# Add tasks for each input integer\n",
       "for i in range(1, 1001):\n",
       "    # Create a Task object with the command to be executed\n",
       "    task = Task(f\"./script.sh {i} file1.input file2.input\")\n",
       "    \n",
       "    # Set input files, supporting file transfer\n",
       "    task.add_input_file(\"script_inputs/file1.input\")\n",
       "    task.add_input_file(\"script_inputs/file2.input\")\n",
       "    \n",
       "    # Set expected output file\n",
       "    task.set_expected_output_file(f\"output{i}.txt\")\n",
       "    \n",
       "    # Name output file to be transferred to the \"script_outputs\" directory\n",
       "    task.specify_output_file(f\"output{i}.txt\", f\"script_outputs/output{i}.txt\")\n",
       "\n",
       "    # Add task to the manager\n",
       "    manager.add_task(task)\n",
       "\n",
       "# Run all tasks, blocking until complete\n",
       "manager.wait_for_all_tasks()\n",
       "```"
      ],
      "text/plain": [
       "<IPython.core.display.Markdown object>"
      ]
     },
     "metadata": {},
     "output_type": "display_data"
    },
    {
     "name": "stdout",
     "output_type": "stream",
     "text": [
      "Write a Python TaskVine application to run my program \"script.sh\" with various input arguments and organizes all output data. \"script.sh\" takes, as input, an integer and two files. \"script.sh\" outputs a file named \"output{i}.txt\" where \"{i}\" is the input integer. The application must run \"script.sh\" with input integers 1-1000 and input files \"file1.input\" and \"file2.input\" which are stored in the directory \"script_inputs\". The application must store all output files in a directory named \"script_outputs\".\n"
     ]
    },
    {
     "data": {
      "text/markdown": [
       "```python\n",
       "import os\n",
       "from ndcctools.taskvine import Manager, Task\n",
       "\n",
       "# Ensure output directory exists\n",
       "os.makedirs(\"script_outputs\", exist_ok=True)\n",
       "\n",
       "# Initialize the TaskVine manager\n",
       "manager = Manager()\n",
       "\n",
       "# Add tasks for each input integer\n",
       "for i in range(1, 1001):\n",
       "    # Create a Task object with the command to be executed\n",
       "    task = Task(f\"./script.sh {i} file1.input file2.input\")\n",
       "    \n",
       "    # Set input files, supporting file transfer\n",
       "    task.add_input_file(\"script_inputs/file1.input\")\n",
       "    task.add_input_file(\"script_inputs/file2.input\")\n",
       "    \n",
       "    # Set expected output file\n",
       "    task.set_expected_output_file(f\"output{i}.txt\")\n",
       "    \n",
       "    # Name output file to be transferred to the \"script_outputs\" directory\n",
       "    task.specify_output_file(f\"output{i}.txt\", f\"script_outputs/output{i}.txt\")\n",
       "\n",
       "    # Add task to the manager\n",
       "    manager.add_task(task)\n",
       "\n",
       "# Run all tasks, blocking until complete\n",
       "manager.wait_for_all_tasks()\n",
       "```"
      ],
      "text/plain": [
       "<IPython.core.display.Markdown object>"
      ]
     },
     "metadata": {},
     "output_type": "display_data"
    },
    {
     "name": "stdout",
     "output_type": "stream",
     "text": [
      "Write a Python TaskVine application to run my program \"script.sh\" with various input arguments and organizes all output data. \"script.sh\" takes, as input, an integer and two files. \"script.sh\" outputs a file named \"output{i}.txt\" where \"{i}\" is the input integer. The application must run \"script.sh\" with input integers 1-1000 and input files \"file1.input\" and \"file2.input\" which are stored in the directory \"script_inputs\". The application must store all output files in a directory named \"script_outputs\".\n"
     ]
    },
    {
     "data": {
      "text/markdown": [
       "```python\n",
       "import os\n",
       "from ndcctools.taskvine import Manager, Task\n",
       "\n",
       "# Ensure output directory exists\n",
       "os.makedirs(\"script_outputs\", exist_ok=True)\n",
       "\n",
       "# Initialize the TaskVine manager\n",
       "manager = Manager()\n",
       "\n",
       "# Add tasks for each input integer\n",
       "for i in range(1, 1001):\n",
       "    # Create a Task object with the command to be executed\n",
       "    task = Task(f\"./script.sh {i} file1.input file2.input\")\n",
       "    \n",
       "    # Set input files, supporting file transfer\n",
       "    task.add_input_file(\"script_inputs/file1.input\")\n",
       "    task.add_input_file(\"script_inputs/file2.input\")\n",
       "    \n",
       "    # Set expected output file\n",
       "    task.set_expected_output_file(f\"output{i}.txt\")\n",
       "    \n",
       "    # Name output file to be transferred to the \"script_outputs\" directory\n",
       "    task.specify_output_file(f\"output{i}.txt\", f\"script_outputs/output{i}.txt\")\n",
       "\n",
       "    # Add task to the manager\n",
       "    manager.add_task(task)\n",
       "\n",
       "# Run all tasks, blocking until complete\n",
       "manager.wait_for_all_tasks()\n",
       "```"
      ],
      "text/plain": [
       "<IPython.core.display.Markdown object>"
      ]
     },
     "metadata": {},
     "output_type": "display_data"
    },
    {
     "name": "stdout",
     "output_type": "stream",
     "text": [
      "Write a Python TaskVine application to run my program \"script.sh\" with various input arguments and organizes all output data. \"script.sh\" takes, as input, an integer and two files. \"script.sh\" outputs a file named \"output{i}.txt\" where \"{i}\" is the input integer. The application must run \"script.sh\" with input integers 1-1000 and input files \"file1.input\" and \"file2.input\" which are stored in the directory \"script_inputs\". The application must store all output files in a directory named \"script_outputs\".\n"
     ]
    },
    {
     "data": {
      "text/markdown": [
       "```python\n",
       "import os\n",
       "from ndcctools.taskvine import Manager, Task\n",
       "\n",
       "# Ensure output directory exists\n",
       "os.makedirs(\"script_outputs\", exist_ok=True)\n",
       "\n",
       "# Initialize the TaskVine manager\n",
       "manager = Manager()\n",
       "\n",
       "# Add tasks for each input integer\n",
       "for i in range(1, 1001):\n",
       "    # Create a Task object with the command to be executed\n",
       "    task = Task(f\"./script.sh {i} file1.input file2.input\")\n",
       "    \n",
       "    # Set input files, supporting file transfer\n",
       "    task.add_input_file(\"script_inputs/file1.input\")\n",
       "    task.add_input_file(\"script_inputs/file2.input\")\n",
       "    \n",
       "    # Set expected output file\n",
       "    task.set_expected_output_file(f\"output{i}.txt\")\n",
       "    \n",
       "    # Name output file to be transferred to the \"script_outputs\" directory\n",
       "    task.specify_output_file(f\"output{i}.txt\", f\"script_outputs/output{i}.txt\")\n",
       "\n",
       "    # Add task to the manager\n",
       "    manager.add_task(task)\n",
       "\n",
       "# Run all tasks, blocking until complete\n",
       "manager.wait_for_all_tasks()\n",
       "```"
      ],
      "text/plain": [
       "<IPython.core.display.Markdown object>"
      ]
     },
     "metadata": {},
     "output_type": "display_data"
    },
    {
     "name": "stdout",
     "output_type": "stream",
     "text": [
      "Write a Python TaskVine application to run my program \"script.sh\" with various input arguments and organizes all output data. \"script.sh\" takes, as input, an integer and two files. \"script.sh\" outputs a file named \"output{i}.txt\" where \"{i}\" is the input integer. The application must run \"script.sh\" with input integers 1-1000 and input files \"file1.input\" and \"file2.input\" which are stored in the directory \"script_inputs\". The application must store all output files in a directory named \"script_outputs\".\n"
     ]
    },
    {
     "data": {
      "text/markdown": [
       "```python\n",
       "import os\n",
       "from ndcctools.taskvine import Manager, Task\n",
       "\n",
       "# Ensure output directory exists\n",
       "os.makedirs(\"script_outputs\", exist_ok=True)\n",
       "\n",
       "# Initialize the TaskVine manager\n",
       "manager = Manager()\n",
       "\n",
       "# Add tasks for each input integer\n",
       "for i in range(1, 1001):\n",
       "    # Create a Task object with the command to be executed\n",
       "    task = Task(f\"./script.sh {i} file1.input file2.input\")\n",
       "    \n",
       "    # Set input files, supporting file transfer\n",
       "    task.add_input_file(\"script_inputs/file1.input\")\n",
       "    task.add_input_file(\"script_inputs/file2.input\")\n",
       "    \n",
       "    # Set expected output file\n",
       "    task.set_expected_output_file(f\"output{i}.txt\")\n",
       "    \n",
       "    # Name output file to be transferred to the \"script_outputs\" directory\n",
       "    task.specify_output_file(f\"output{i}.txt\", f\"script_outputs/output{i}.txt\")\n",
       "\n",
       "    # Add task to the manager\n",
       "    manager.add_task(task)\n",
       "\n",
       "# Run all tasks, blocking until complete\n",
       "manager.wait_for_all_tasks()\n",
       "```"
      ],
      "text/plain": [
       "<IPython.core.display.Markdown object>"
      ]
     },
     "metadata": {},
     "output_type": "display_data"
    },
    {
     "name": "stdout",
     "output_type": "stream",
     "text": [
      "Write a Python TaskVine application to execute a pipeline of shell scripts. I have the script \"script1.sh\" which outputs a file named \"intermediary.out\" upon completion. I also have the scripts \"script2.sh\" and \"script3.sh\"  which both accept an input file as a command line argument. \"script2.sh\" and \"script3.sh\" must both receive \"intermediary.out\" as the input. Finally, \"script2.sh\" and \"script3.sh\" output files named \"script2.out\" and \"script3.out\", respectively. Save these outputs files on the host machine. \"intermediary.out\" need not be saved to the host machine.\n"
     ]
    },
    {
     "data": {
      "text/markdown": [
       "```python\n",
       "import ndcctools.taskvine as vine\n",
       "\n",
       "# Create a TaskVine application\n",
       "app = vine.Application()\n",
       "\n",
       "# Define the first task to run script1.sh\n",
       "task1 = vine.Task(command=\"bash script1.sh\")\n",
       "task1.add_output(\"intermediary.out\")\n",
       "\n",
       "# Define the second task to run script2.sh\n",
       "task2 = vine.Task(command=\"bash script2.sh intermediary.out\")\n",
       "task2.add_input(\"intermediary.out\")\n",
       "task2.add_output(\"script2.out\", local=True)\n",
       "\n",
       "# Define the third task to run script3.sh\n",
       "task3 = vine.Task(command=\"bash script3.sh intermediary.out\")\n",
       "task3.add_input(\"intermediary.out\")\n",
       "task3.add_output(\"script3.out\", local=True)\n",
       "\n",
       "# Set dependencies between tasks\n",
       "task2.depends_on(task1)\n",
       "task3.depends_on(task1)\n",
       "\n",
       "# Add tasks to the application\n",
       "app.add_task(task1)\n",
       "app.add_task(task2)\n",
       "app.add_task(task3)\n",
       "\n",
       "# Run the application\n",
       "app.run()\n",
       "```"
      ],
      "text/plain": [
       "<IPython.core.display.Markdown object>"
      ]
     },
     "metadata": {},
     "output_type": "display_data"
    },
    {
     "name": "stdout",
     "output_type": "stream",
     "text": [
      "Write a Python TaskVine application to execute a pipeline of shell scripts. I have the script \"script1.sh\" which outputs a file named \"intermediary.out\" upon completion. I also have the scripts \"script2.sh\" and \"script3.sh\"  which both accept an input file as a command line argument. \"script2.sh\" and \"script3.sh\" must both receive \"intermediary.out\" as the input. Finally, \"script2.sh\" and \"script3.sh\" output files named \"script2.out\" and \"script3.out\", respectively. Save these outputs files on the host machine. \"intermediary.out\" need not be saved to the host machine.\n"
     ]
    },
    {
     "data": {
      "text/markdown": [
       "```python\n",
       "import ndcctools.taskvine as vine\n",
       "\n",
       "# Create a TaskVine application\n",
       "app = vine.Application()\n",
       "\n",
       "# Define the first task to run script1.sh\n",
       "task1 = vine.Task(command=\"bash script1.sh\")\n",
       "task1.add_output(\"intermediary.out\")\n",
       "\n",
       "# Define the second task to run script2.sh\n",
       "task2 = vine.Task(command=\"bash script2.sh intermediary.out\")\n",
       "task2.add_input(\"intermediary.out\")\n",
       "task2.add_output(\"script2.out\", local=True)\n",
       "\n",
       "# Define the third task to run script3.sh\n",
       "task3 = vine.Task(command=\"bash script3.sh intermediary.out\")\n",
       "task3.add_input(\"intermediary.out\")\n",
       "task3.add_output(\"script3.out\", local=True)\n",
       "\n",
       "# Set dependencies between tasks\n",
       "task2.depends_on(task1)\n",
       "task3.depends_on(task1)\n",
       "\n",
       "# Add tasks to the application\n",
       "app.add_task(task1)\n",
       "app.add_task(task2)\n",
       "app.add_task(task3)\n",
       "\n",
       "# Run the application\n",
       "app.run()\n",
       "```"
      ],
      "text/plain": [
       "<IPython.core.display.Markdown object>"
      ]
     },
     "metadata": {},
     "output_type": "display_data"
    },
    {
     "name": "stdout",
     "output_type": "stream",
     "text": [
      "Write a Python TaskVine application to execute a pipeline of shell scripts. I have the script \"script1.sh\" which outputs a file named \"intermediary.out\" upon completion. I also have the scripts \"script2.sh\" and \"script3.sh\"  which both accept an input file as a command line argument. \"script2.sh\" and \"script3.sh\" must both receive \"intermediary.out\" as the input. Finally, \"script2.sh\" and \"script3.sh\" output files named \"script2.out\" and \"script3.out\", respectively. Save these outputs files on the host machine. \"intermediary.out\" need not be saved to the host machine.\n"
     ]
    },
    {
     "data": {
      "text/markdown": [
       "```python\n",
       "import ndcctools.taskvine as vine\n",
       "\n",
       "# Create a TaskVine application\n",
       "app = vine.Application()\n",
       "\n",
       "# Define the first task to run script1.sh\n",
       "task1 = vine.Task(command=\"bash script1.sh\")\n",
       "task1.add_output(\"intermediary.out\")\n",
       "\n",
       "# Define the second task to run script2.sh\n",
       "task2 = vine.Task(command=\"bash script2.sh intermediary.out\")\n",
       "task2.add_input(\"intermediary.out\")\n",
       "task2.add_output(\"script2.out\", local=True)\n",
       "\n",
       "# Define the third task to run script3.sh\n",
       "task3 = vine.Task(command=\"bash script3.sh intermediary.out\")\n",
       "task3.add_input(\"intermediary.out\")\n",
       "task3.add_output(\"script3.out\", local=True)\n",
       "\n",
       "# Set dependencies between tasks\n",
       "task2.depends_on(task1)\n",
       "task3.depends_on(task1)\n",
       "\n",
       "# Add tasks to the application\n",
       "app.add_task(task1)\n",
       "app.add_task(task2)\n",
       "app.add_task(task3)\n",
       "\n",
       "# Run the application\n",
       "app.run()\n",
       "```"
      ],
      "text/plain": [
       "<IPython.core.display.Markdown object>"
      ]
     },
     "metadata": {},
     "output_type": "display_data"
    },
    {
     "name": "stdout",
     "output_type": "stream",
     "text": [
      "Write a Python TaskVine application to execute a pipeline of shell scripts. I have the script \"script1.sh\" which outputs a file named \"intermediary.out\" upon completion. I also have the scripts \"script2.sh\" and \"script3.sh\"  which both accept an input file as a command line argument. \"script2.sh\" and \"script3.sh\" must both receive \"intermediary.out\" as the input. Finally, \"script2.sh\" and \"script3.sh\" output files named \"script2.out\" and \"script3.out\", respectively. Save these outputs files on the host machine. \"intermediary.out\" need not be saved to the host machine.\n"
     ]
    },
    {
     "data": {
      "text/markdown": [
       "```python\n",
       "import ndcctools.taskvine as vine\n",
       "\n",
       "# Create a TaskVine application\n",
       "app = vine.Application()\n",
       "\n",
       "# Define the first task to run script1.sh\n",
       "task1 = vine.Task(command=\"bash script1.sh\")\n",
       "task1.add_output(\"intermediary.out\")\n",
       "\n",
       "# Define the second task to run script2.sh\n",
       "task2 = vine.Task(command=\"bash script2.sh intermediary.out\")\n",
       "task2.add_input(\"intermediary.out\")\n",
       "task2.add_output(\"script2.out\", local=True)\n",
       "\n",
       "# Define the third task to run script3.sh\n",
       "task3 = vine.Task(command=\"bash script3.sh intermediary.out\")\n",
       "task3.add_input(\"intermediary.out\")\n",
       "task3.add_output(\"script3.out\", local=True)\n",
       "\n",
       "# Set dependencies between tasks\n",
       "task2.depends_on(task1)\n",
       "task3.depends_on(task1)\n",
       "\n",
       "# Add tasks to the application\n",
       "app.add_task(task1)\n",
       "app.add_task(task2)\n",
       "app.add_task(task3)\n",
       "\n",
       "# Run the application\n",
       "app.run()\n",
       "```"
      ],
      "text/plain": [
       "<IPython.core.display.Markdown object>"
      ]
     },
     "metadata": {},
     "output_type": "display_data"
    },
    {
     "name": "stdout",
     "output_type": "stream",
     "text": [
      "Write a Python TaskVine application to execute a pipeline of shell scripts. I have the script \"script1.sh\" which outputs a file named \"intermediary.out\" upon completion. I also have the scripts \"script2.sh\" and \"script3.sh\"  which both accept an input file as a command line argument. \"script2.sh\" and \"script3.sh\" must both receive \"intermediary.out\" as the input. Finally, \"script2.sh\" and \"script3.sh\" output files named \"script2.out\" and \"script3.out\", respectively. Save these outputs files on the host machine. \"intermediary.out\" need not be saved to the host machine.\n"
     ]
    },
    {
     "data": {
      "text/markdown": [
       "```python\n",
       "import ndcctools.taskvine as vine\n",
       "\n",
       "# Create a TaskVine application\n",
       "app = vine.Application()\n",
       "\n",
       "# Define the first task to run script1.sh\n",
       "task1 = vine.Task(command=\"bash script1.sh\")\n",
       "task1.add_output(\"intermediary.out\")\n",
       "\n",
       "# Define the second task to run script2.sh\n",
       "task2 = vine.Task(command=\"bash script2.sh intermediary.out\")\n",
       "task2.add_input(\"intermediary.out\")\n",
       "task2.add_output(\"script2.out\", local=True)\n",
       "\n",
       "# Define the third task to run script3.sh\n",
       "task3 = vine.Task(command=\"bash script3.sh intermediary.out\")\n",
       "task3.add_input(\"intermediary.out\")\n",
       "task3.add_output(\"script3.out\", local=True)\n",
       "\n",
       "# Set dependencies between tasks\n",
       "task2.depends_on(task1)\n",
       "task3.depends_on(task1)\n",
       "\n",
       "# Add tasks to the application\n",
       "app.add_task(task1)\n",
       "app.add_task(task2)\n",
       "app.add_task(task3)\n",
       "\n",
       "# Run the application\n",
       "app.run()\n",
       "```"
      ],
      "text/plain": [
       "<IPython.core.display.Markdown object>"
      ]
     },
     "metadata": {},
     "output_type": "display_data"
    },
    {
     "name": "stdout",
     "output_type": "stream",
     "text": [
      "Write a Python TaskVine application to execute a pipeline of shell scripts. I have the script \"script1.sh\" which outputs a file named \"intermediary.out\" upon completion. I also have the scripts \"script2.sh\" and \"script3.sh\"  which both accept an input file as a command line argument. \"script2.sh\" and \"script3.sh\" must both receive \"intermediary.out\" as the input. Finally, \"script2.sh\" and \"script3.sh\" output files named \"script2.out\" and \"script3.out\", respectively. Save these outputs files on the host machine. \"intermediary.out\" need not be saved to the host machine.\n"
     ]
    },
    {
     "data": {
      "text/markdown": [
       "```python\n",
       "import ndcctools.taskvine as vine\n",
       "\n",
       "# Create a TaskVine application\n",
       "app = vine.Application()\n",
       "\n",
       "# Define the first task to run script1.sh\n",
       "task1 = vine.Task(command=\"bash script1.sh\")\n",
       "task1.add_output(\"intermediary.out\")\n",
       "\n",
       "# Define the second task to run script2.sh\n",
       "task2 = vine.Task(command=\"bash script2.sh intermediary.out\")\n",
       "task2.add_input(\"intermediary.out\")\n",
       "task2.add_output(\"script2.out\", local=True)\n",
       "\n",
       "# Define the third task to run script3.sh\n",
       "task3 = vine.Task(command=\"bash script3.sh intermediary.out\")\n",
       "task3.add_input(\"intermediary.out\")\n",
       "task3.add_output(\"script3.out\", local=True)\n",
       "\n",
       "# Set dependencies between tasks\n",
       "task2.depends_on(task1)\n",
       "task3.depends_on(task1)\n",
       "\n",
       "# Add tasks to the application\n",
       "app.add_task(task1)\n",
       "app.add_task(task2)\n",
       "app.add_task(task3)\n",
       "\n",
       "# Run the application\n",
       "app.run()\n",
       "```"
      ],
      "text/plain": [
       "<IPython.core.display.Markdown object>"
      ]
     },
     "metadata": {},
     "output_type": "display_data"
    },
    {
     "name": "stdout",
     "output_type": "stream",
     "text": [
      "Write a Python TaskVine application to execute a pipeline of shell scripts. I have the script \"script1.sh\" which outputs a file named \"intermediary.out\" upon completion. I also have the scripts \"script2.sh\" and \"script3.sh\"  which both accept an input file as a command line argument. \"script2.sh\" and \"script3.sh\" must both receive \"intermediary.out\" as the input. Finally, \"script2.sh\" and \"script3.sh\" output files named \"script2.out\" and \"script3.out\", respectively. Save these outputs files on the host machine. \"intermediary.out\" need not be saved to the host machine.\n"
     ]
    },
    {
     "data": {
      "text/markdown": [
       "```python\n",
       "import ndcctools.taskvine as vine\n",
       "\n",
       "# Create a TaskVine application\n",
       "app = vine.Application()\n",
       "\n",
       "# Define the first task to run script1.sh\n",
       "task1 = vine.Task(command=\"bash script1.sh\")\n",
       "task1.add_output(\"intermediary.out\")\n",
       "\n",
       "# Define the second task to run script2.sh\n",
       "task2 = vine.Task(command=\"bash script2.sh intermediary.out\")\n",
       "task2.add_input(\"intermediary.out\")\n",
       "task2.add_output(\"script2.out\", local=True)\n",
       "\n",
       "# Define the third task to run script3.sh\n",
       "task3 = vine.Task(command=\"bash script3.sh intermediary.out\")\n",
       "task3.add_input(\"intermediary.out\")\n",
       "task3.add_output(\"script3.out\", local=True)\n",
       "\n",
       "# Set dependencies between tasks\n",
       "task2.depends_on(task1)\n",
       "task3.depends_on(task1)\n",
       "\n",
       "# Add tasks to the application\n",
       "app.add_task(task1)\n",
       "app.add_task(task2)\n",
       "app.add_task(task3)\n",
       "\n",
       "# Run the application\n",
       "app.run()\n",
       "```"
      ],
      "text/plain": [
       "<IPython.core.display.Markdown object>"
      ]
     },
     "metadata": {},
     "output_type": "display_data"
    },
    {
     "name": "stdout",
     "output_type": "stream",
     "text": [
      "Write a Python TaskVine application to execute a pipeline of shell scripts. I have the script \"script1.sh\" which outputs a file named \"intermediary.out\" upon completion. I also have the scripts \"script2.sh\" and \"script3.sh\"  which both accept an input file as a command line argument. \"script2.sh\" and \"script3.sh\" must both receive \"intermediary.out\" as the input. Finally, \"script2.sh\" and \"script3.sh\" output files named \"script2.out\" and \"script3.out\", respectively. Save these outputs files on the host machine. \"intermediary.out\" need not be saved to the host machine.\n"
     ]
    },
    {
     "data": {
      "text/markdown": [
       "```python\n",
       "import ndcctools.taskvine as vine\n",
       "\n",
       "# Create a TaskVine application\n",
       "app = vine.Application()\n",
       "\n",
       "# Define the first task to run script1.sh\n",
       "task1 = vine.Task(command=\"bash script1.sh\")\n",
       "task1.add_output(\"intermediary.out\")\n",
       "\n",
       "# Define the second task to run script2.sh\n",
       "task2 = vine.Task(command=\"bash script2.sh intermediary.out\")\n",
       "task2.add_input(\"intermediary.out\")\n",
       "task2.add_output(\"script2.out\", local=True)\n",
       "\n",
       "# Define the third task to run script3.sh\n",
       "task3 = vine.Task(command=\"bash script3.sh intermediary.out\")\n",
       "task3.add_input(\"intermediary.out\")\n",
       "task3.add_output(\"script3.out\", local=True)\n",
       "\n",
       "# Set dependencies between tasks\n",
       "task2.depends_on(task1)\n",
       "task3.depends_on(task1)\n",
       "\n",
       "# Add tasks to the application\n",
       "app.add_task(task1)\n",
       "app.add_task(task2)\n",
       "app.add_task(task3)\n",
       "\n",
       "# Run the application\n",
       "app.run()\n",
       "```"
      ],
      "text/plain": [
       "<IPython.core.display.Markdown object>"
      ]
     },
     "metadata": {},
     "output_type": "display_data"
    },
    {
     "name": "stdout",
     "output_type": "stream",
     "text": [
      "Write a Python TaskVine application to execute a pipeline of shell scripts. I have the script \"script1.sh\" which outputs a file named \"intermediary.out\" upon completion. I also have the scripts \"script2.sh\" and \"script3.sh\"  which both accept an input file as a command line argument. \"script2.sh\" and \"script3.sh\" must both receive \"intermediary.out\" as the input. Finally, \"script2.sh\" and \"script3.sh\" output files named \"script2.out\" and \"script3.out\", respectively. Save these outputs files on the host machine. \"intermediary.out\" need not be saved to the host machine.\n"
     ]
    },
    {
     "data": {
      "text/markdown": [
       "```python\n",
       "import ndcctools.taskvine as vine\n",
       "\n",
       "# Create a TaskVine application\n",
       "app = vine.Application()\n",
       "\n",
       "# Define the first task to run script1.sh\n",
       "task1 = vine.Task(command=\"bash script1.sh\")\n",
       "task1.add_output(\"intermediary.out\")\n",
       "\n",
       "# Define the second task to run script2.sh\n",
       "task2 = vine.Task(command=\"bash script2.sh intermediary.out\")\n",
       "task2.add_input(\"intermediary.out\")\n",
       "task2.add_output(\"script2.out\", local=True)\n",
       "\n",
       "# Define the third task to run script3.sh\n",
       "task3 = vine.Task(command=\"bash script3.sh intermediary.out\")\n",
       "task3.add_input(\"intermediary.out\")\n",
       "task3.add_output(\"script3.out\", local=True)\n",
       "\n",
       "# Set dependencies between tasks\n",
       "task2.depends_on(task1)\n",
       "task3.depends_on(task1)\n",
       "\n",
       "# Add tasks to the application\n",
       "app.add_task(task1)\n",
       "app.add_task(task2)\n",
       "app.add_task(task3)\n",
       "\n",
       "# Run the application\n",
       "app.run()\n",
       "```"
      ],
      "text/plain": [
       "<IPython.core.display.Markdown object>"
      ]
     },
     "metadata": {},
     "output_type": "display_data"
    },
    {
     "name": "stdout",
     "output_type": "stream",
     "text": [
      "Write a Python TaskVine application to execute a pipeline of shell scripts. I have the script \"script1.sh\" which outputs a file named \"intermediary.out\" upon completion. I also have the scripts \"script2.sh\" and \"script3.sh\"  which both accept an input file as a command line argument. \"script2.sh\" and \"script3.sh\" must both receive \"intermediary.out\" as the input. Finally, \"script2.sh\" and \"script3.sh\" output files named \"script2.out\" and \"script3.out\", respectively. Save these outputs files on the host machine. \"intermediary.out\" need not be saved to the host machine.\n"
     ]
    },
    {
     "data": {
      "text/markdown": [
       "```python\n",
       "import ndcctools.taskvine as vine\n",
       "\n",
       "# Create a TaskVine application\n",
       "app = vine.Application()\n",
       "\n",
       "# Define the first task to run script1.sh\n",
       "task1 = vine.Task(command=\"bash script1.sh\")\n",
       "task1.add_output(\"intermediary.out\")\n",
       "\n",
       "# Define the second task to run script2.sh\n",
       "task2 = vine.Task(command=\"bash script2.sh intermediary.out\")\n",
       "task2.add_input(\"intermediary.out\")\n",
       "task2.add_output(\"script2.out\", local=True)\n",
       "\n",
       "# Define the third task to run script3.sh\n",
       "task3 = vine.Task(command=\"bash script3.sh intermediary.out\")\n",
       "task3.add_input(\"intermediary.out\")\n",
       "task3.add_output(\"script3.out\", local=True)\n",
       "\n",
       "# Set dependencies between tasks\n",
       "task2.depends_on(task1)\n",
       "task3.depends_on(task1)\n",
       "\n",
       "# Add tasks to the application\n",
       "app.add_task(task1)\n",
       "app.add_task(task2)\n",
       "app.add_task(task3)\n",
       "\n",
       "# Run the application\n",
       "app.run()\n",
       "```"
      ],
      "text/plain": [
       "<IPython.core.display.Markdown object>"
      ]
     },
     "metadata": {},
     "output_type": "display_data"
    },
    {
     "name": "stdout",
     "output_type": "stream",
     "text": [
      "Write a Python TaskVine application to run my GPU-accelerated program. The program binary is stored at \"./train_demo\". The program requires that the worker machine has the feature \"NVIDIA RTX 4090\". Upon completion, the program outputs \"model.tar.gz\". The output file must be saved to the host machine.\n"
     ]
    },
    {
     "data": {
      "text/markdown": [
       "```python\n",
       "from ndcctools.taskvine import Manager, Task\n",
       "\n",
       "# Initialize TaskVine manager\n",
       "manager = Manager()\n",
       "\n",
       "# Specify the program and output\n",
       "program = \"./train_demo\"\n",
       "output_file = \"model.tar.gz\"\n",
       "\n",
       "# Create the task\n",
       "task = Task(command=program)\n",
       "\n",
       "# Require the GPU feature\n",
       "task.requirements = [\"NVIDIA RTX 4090\"]\n",
       "\n",
       "# Specify the output file to be saved\n",
       "task.output_files.add_entry(output_file)\n",
       "\n",
       "# Add the task to the manager\n",
       "manager.submit(task)\n",
       "\n",
       "# Run the manager\n",
       "manager.wait_for_all()\n",
       "```"
      ],
      "text/plain": [
       "<IPython.core.display.Markdown object>"
      ]
     },
     "metadata": {},
     "output_type": "display_data"
    },
    {
     "name": "stdout",
     "output_type": "stream",
     "text": [
      "Write a Python TaskVine application to run my GPU-accelerated program. The program binary is stored at \"./train_demo\". The program requires that the worker machine has the feature \"NVIDIA RTX 4090\". Upon completion, the program outputs \"model.tar.gz\". The output file must be saved to the host machine.\n"
     ]
    },
    {
     "data": {
      "text/markdown": [
       "```python\n",
       "from ndcctools.taskvine import Manager, Task\n",
       "\n",
       "# Initialize TaskVine manager\n",
       "manager = Manager()\n",
       "\n",
       "# Specify the program and output\n",
       "program = \"./train_demo\"\n",
       "output_file = \"model.tar.gz\"\n",
       "\n",
       "# Create the task\n",
       "task = Task(command=program)\n",
       "\n",
       "# Require the GPU feature\n",
       "task.requirements = [\"NVIDIA RTX 4090\"]\n",
       "\n",
       "# Specify the output file to be saved\n",
       "task.output_files.add_entry(output_file)\n",
       "\n",
       "# Add the task to the manager\n",
       "manager.submit(task)\n",
       "\n",
       "# Run the manager\n",
       "manager.wait_for_all()\n",
       "```"
      ],
      "text/plain": [
       "<IPython.core.display.Markdown object>"
      ]
     },
     "metadata": {},
     "output_type": "display_data"
    },
    {
     "name": "stdout",
     "output_type": "stream",
     "text": [
      "Write a Python TaskVine application to run my GPU-accelerated program. The program binary is stored at \"./train_demo\". The program requires that the worker machine has the feature \"NVIDIA RTX 4090\". Upon completion, the program outputs \"model.tar.gz\". The output file must be saved to the host machine.\n"
     ]
    },
    {
     "data": {
      "text/markdown": [
       "```python\n",
       "from ndcctools.taskvine import Manager, Task\n",
       "\n",
       "# Initialize TaskVine manager\n",
       "manager = Manager()\n",
       "\n",
       "# Specify the program and output\n",
       "program = \"./train_demo\"\n",
       "output_file = \"model.tar.gz\"\n",
       "\n",
       "# Create the task\n",
       "task = Task(command=program)\n",
       "\n",
       "# Require the GPU feature\n",
       "task.requirements = [\"NVIDIA RTX 4090\"]\n",
       "\n",
       "# Specify the output file to be saved\n",
       "task.output_files.add_entry(output_file)\n",
       "\n",
       "# Add the task to the manager\n",
       "manager.submit(task)\n",
       "\n",
       "# Run the manager\n",
       "manager.wait_for_all()\n",
       "```"
      ],
      "text/plain": [
       "<IPython.core.display.Markdown object>"
      ]
     },
     "metadata": {},
     "output_type": "display_data"
    },
    {
     "name": "stdout",
     "output_type": "stream",
     "text": [
      "Write a Python TaskVine application to run my GPU-accelerated program. The program binary is stored at \"./train_demo\". The program requires that the worker machine has the feature \"NVIDIA RTX 4090\". Upon completion, the program outputs \"model.tar.gz\". The output file must be saved to the host machine.\n"
     ]
    },
    {
     "data": {
      "text/markdown": [
       "```python\n",
       "from ndcctools.taskvine import Manager, Task\n",
       "\n",
       "# Initialize TaskVine manager\n",
       "manager = Manager()\n",
       "\n",
       "# Specify the program and output\n",
       "program = \"./train_demo\"\n",
       "output_file = \"model.tar.gz\"\n",
       "\n",
       "# Create the task\n",
       "task = Task(command=program)\n",
       "\n",
       "# Require the GPU feature\n",
       "task.requirements = [\"NVIDIA RTX 4090\"]\n",
       "\n",
       "# Specify the output file to be saved\n",
       "task.output_files.add_entry(output_file)\n",
       "\n",
       "# Add the task to the manager\n",
       "manager.submit(task)\n",
       "\n",
       "# Run the manager\n",
       "manager.wait_for_all()\n",
       "```"
      ],
      "text/plain": [
       "<IPython.core.display.Markdown object>"
      ]
     },
     "metadata": {},
     "output_type": "display_data"
    },
    {
     "name": "stdout",
     "output_type": "stream",
     "text": [
      "Write a Python TaskVine application to run my GPU-accelerated program. The program binary is stored at \"./train_demo\". The program requires that the worker machine has the feature \"NVIDIA RTX 4090\". Upon completion, the program outputs \"model.tar.gz\". The output file must be saved to the host machine.\n"
     ]
    },
    {
     "data": {
      "text/markdown": [
       "```python\n",
       "from ndcctools.taskvine import Manager, Task\n",
       "\n",
       "# Initialize TaskVine manager\n",
       "manager = Manager()\n",
       "\n",
       "# Specify the program and output\n",
       "program = \"./train_demo\"\n",
       "output_file = \"model.tar.gz\"\n",
       "\n",
       "# Create the task\n",
       "task = Task(command=program)\n",
       "\n",
       "# Require the GPU feature\n",
       "task.requirements = [\"NVIDIA RTX 4090\"]\n",
       "\n",
       "# Specify the output file to be saved\n",
       "task.output_files.add_entry(output_file)\n",
       "\n",
       "# Add the task to the manager\n",
       "manager.submit(task)\n",
       "\n",
       "# Run the manager\n",
       "manager.wait_for_all()\n",
       "```"
      ],
      "text/plain": [
       "<IPython.core.display.Markdown object>"
      ]
     },
     "metadata": {},
     "output_type": "display_data"
    },
    {
     "name": "stdout",
     "output_type": "stream",
     "text": [
      "Write a Python TaskVine application to run my GPU-accelerated program. The program binary is stored at \"./train_demo\". The program requires that the worker machine has the feature \"NVIDIA RTX 4090\". Upon completion, the program outputs \"model.tar.gz\". The output file must be saved to the host machine.\n"
     ]
    },
    {
     "data": {
      "text/markdown": [
       "```python\n",
       "from ndcctools.taskvine import Manager, Task\n",
       "\n",
       "# Initialize TaskVine manager\n",
       "manager = Manager()\n",
       "\n",
       "# Specify the program and output\n",
       "program = \"./train_demo\"\n",
       "output_file = \"model.tar.gz\"\n",
       "\n",
       "# Create the task\n",
       "task = Task(command=program)\n",
       "\n",
       "# Require the GPU feature\n",
       "task.requirements = [\"NVIDIA RTX 4090\"]\n",
       "\n",
       "# Specify the output file to be saved\n",
       "task.output_files.add_entry(output_file)\n",
       "\n",
       "# Add the task to the manager\n",
       "manager.submit(task)\n",
       "\n",
       "# Run the manager\n",
       "manager.wait_for_all()\n",
       "```"
      ],
      "text/plain": [
       "<IPython.core.display.Markdown object>"
      ]
     },
     "metadata": {},
     "output_type": "display_data"
    },
    {
     "name": "stdout",
     "output_type": "stream",
     "text": [
      "Write a Python TaskVine application to run my GPU-accelerated program. The program binary is stored at \"./train_demo\". The program requires that the worker machine has the feature \"NVIDIA RTX 4090\". Upon completion, the program outputs \"model.tar.gz\". The output file must be saved to the host machine.\n"
     ]
    },
    {
     "data": {
      "text/markdown": [
       "```python\n",
       "from ndcctools.taskvine import Manager, Task\n",
       "\n",
       "# Initialize TaskVine manager\n",
       "manager = Manager()\n",
       "\n",
       "# Specify the program and output\n",
       "program = \"./train_demo\"\n",
       "output_file = \"model.tar.gz\"\n",
       "\n",
       "# Create the task\n",
       "task = Task(command=program)\n",
       "\n",
       "# Require the GPU feature\n",
       "task.requirements = [\"NVIDIA RTX 4090\"]\n",
       "\n",
       "# Specify the output file to be saved\n",
       "task.output_files.add_entry(output_file)\n",
       "\n",
       "# Add the task to the manager\n",
       "manager.submit(task)\n",
       "\n",
       "# Run the manager\n",
       "manager.wait_for_all()\n",
       "```"
      ],
      "text/plain": [
       "<IPython.core.display.Markdown object>"
      ]
     },
     "metadata": {},
     "output_type": "display_data"
    },
    {
     "name": "stdout",
     "output_type": "stream",
     "text": [
      "Write a Python TaskVine application to run my GPU-accelerated program. The program binary is stored at \"./train_demo\". The program requires that the worker machine has the feature \"NVIDIA RTX 4090\". Upon completion, the program outputs \"model.tar.gz\". The output file must be saved to the host machine.\n"
     ]
    },
    {
     "data": {
      "text/markdown": [
       "```python\n",
       "from ndcctools.taskvine import Manager, Task\n",
       "\n",
       "# Initialize TaskVine manager\n",
       "manager = Manager()\n",
       "\n",
       "# Specify the program and output\n",
       "program = \"./train_demo\"\n",
       "output_file = \"model.tar.gz\"\n",
       "\n",
       "# Create the task\n",
       "task = Task(command=program)\n",
       "\n",
       "# Require the GPU feature\n",
       "task.requirements = [\"NVIDIA RTX 4090\"]\n",
       "\n",
       "# Specify the output file to be saved\n",
       "task.output_files.add_entry(output_file)\n",
       "\n",
       "# Add the task to the manager\n",
       "manager.submit(task)\n",
       "\n",
       "# Run the manager\n",
       "manager.wait_for_all()\n",
       "```"
      ],
      "text/plain": [
       "<IPython.core.display.Markdown object>"
      ]
     },
     "metadata": {},
     "output_type": "display_data"
    },
    {
     "name": "stdout",
     "output_type": "stream",
     "text": [
      "Write a Python TaskVine application to run my GPU-accelerated program. The program binary is stored at \"./train_demo\". The program requires that the worker machine has the feature \"NVIDIA RTX 4090\". Upon completion, the program outputs \"model.tar.gz\". The output file must be saved to the host machine.\n"
     ]
    },
    {
     "data": {
      "text/markdown": [
       "```python\n",
       "from ndcctools.taskvine import Manager, Task\n",
       "\n",
       "# Initialize TaskVine manager\n",
       "manager = Manager()\n",
       "\n",
       "# Specify the program and output\n",
       "program = \"./train_demo\"\n",
       "output_file = \"model.tar.gz\"\n",
       "\n",
       "# Create the task\n",
       "task = Task(command=program)\n",
       "\n",
       "# Require the GPU feature\n",
       "task.requirements = [\"NVIDIA RTX 4090\"]\n",
       "\n",
       "# Specify the output file to be saved\n",
       "task.output_files.add_entry(output_file)\n",
       "\n",
       "# Add the task to the manager\n",
       "manager.submit(task)\n",
       "\n",
       "# Run the manager\n",
       "manager.wait_for_all()\n",
       "```"
      ],
      "text/plain": [
       "<IPython.core.display.Markdown object>"
      ]
     },
     "metadata": {},
     "output_type": "display_data"
    },
    {
     "name": "stdout",
     "output_type": "stream",
     "text": [
      "Write a Python TaskVine application to run my GPU-accelerated program. The program binary is stored at \"./train_demo\". The program requires that the worker machine has the feature \"NVIDIA RTX 4090\". Upon completion, the program outputs \"model.tar.gz\". The output file must be saved to the host machine.\n"
     ]
    },
    {
     "data": {
      "text/markdown": [
       "```python\n",
       "from ndcctools.taskvine import Manager, Task\n",
       "\n",
       "# Initialize TaskVine manager\n",
       "manager = Manager()\n",
       "\n",
       "# Specify the program and output\n",
       "program = \"./train_demo\"\n",
       "output_file = \"model.tar.gz\"\n",
       "\n",
       "# Create the task\n",
       "task = Task(command=program)\n",
       "\n",
       "# Require the GPU feature\n",
       "task.requirements = [\"NVIDIA RTX 4090\"]\n",
       "\n",
       "# Specify the output file to be saved\n",
       "task.output_files.add_entry(output_file)\n",
       "\n",
       "# Add the task to the manager\n",
       "manager.submit(task)\n",
       "\n",
       "# Run the manager\n",
       "manager.wait_for_all()\n",
       "```"
      ],
      "text/plain": [
       "<IPython.core.display.Markdown object>"
      ]
     },
     "metadata": {},
     "output_type": "display_data"
    },
    {
     "name": "stdout",
     "output_type": "stream",
     "text": [
      "Write a Python TaskVine application to compile and test my project stored at \"complex_project/\". To compile the project, run the \"make all\" command in the project's root directory. Then, to test the project, run \"make test\". The compilation and test must use at most 4 cores, 1024 MB of memory, and 2048 MB of disk. Enable resource monitoring to track resource usage, but do not terminate the task if it overuses resources. When the task completes, print the task's exit code and standard output. For each resource that the task overused, print the resource and by how much it overused.\n"
     ]
    },
    {
     "data": {
      "text/markdown": [
       "```python\n",
       "import ndcctools.taskvine as vine\n",
       "\n",
       "# Create a TaskVine Work Queue\n",
       "with vine.Manager() as manager:\n",
       "    # Define compile task\n",
       "    compile_task = vine.Task(command=\"make all\")\n",
       "    compile_task.specify_directory(\"complex_project/\")\n",
       "    compile_task.specify_cores(4)\n",
       "    compile_task.specify_memory(1024)  # in MB\n",
       "    compile_task.specify_disk(2048)    # in MB\n",
       "    compile_task.enable_monitoring()\n",
       "\n",
       "    # Define test task\n",
       "    test_task = vine.Task(command=\"make test\")\n",
       "    test_task.specify_directory(\"complex_project/\")\n",
       "    test_task.specify_cores(4)\n",
       "    test_task.specify_memory(1024)    # in MB\n",
       "    test_task.specify_disk(2048)      # in MB\n",
       "    test_task.enable_monitoring()\n",
       "\n",
       "    # Add tasks to the manager\n",
       "    manager.submit(compile_task)\n",
       "    manager.wait_for(compile_task)\n",
       "\n",
       "    if compile_task.complete:\n",
       "        manager.submit(test_task)\n",
       "        manager.wait_for(test_task)\n",
       "\n",
       "        if test_task.complete:\n",
       "            print(f\"Task exit code: {test_task.exit_code}\")\n",
       "            print(f\"Task standard output: {test_task.stdout}\")\n",
       "\n",
       "            # Check resource usage\n",
       "            resource_usage = test_task.resource_usage\n",
       "            if resource_usage:\n",
       "                if resource_usage[\"cores_used\"] > test_task.cores:\n",
       "                    print(f\"Cores overused by: {resource_usage['cores_used'] - test_task.cores}\")\n",
       "                if resource_usage[\"memory_used\"] > test_task.memory:\n",
       "                    print(f\"Memory overused by: {resource_usage['memory_used'] - test_task.memory} MB\")\n",
       "                if resource_usage[\"disk_used\"] > test_task.disk:\n",
       "                    print(f\"Disk overused by: {resource_usage['disk_used'] - test_task.disk} MB\")\n",
       "```"
      ],
      "text/plain": [
       "<IPython.core.display.Markdown object>"
      ]
     },
     "metadata": {},
     "output_type": "display_data"
    },
    {
     "name": "stdout",
     "output_type": "stream",
     "text": [
      "Write a Python TaskVine application to compile and test my project stored at \"complex_project/\". To compile the project, run the \"make all\" command in the project's root directory. Then, to test the project, run \"make test\". The compilation and test must use at most 4 cores, 1024 MB of memory, and 2048 MB of disk. Enable resource monitoring to track resource usage, but do not terminate the task if it overuses resources. When the task completes, print the task's exit code and standard output. For each resource that the task overused, print the resource and by how much it overused.\n"
     ]
    },
    {
     "data": {
      "text/markdown": [
       "```python\n",
       "import ndcctools.taskvine as vine\n",
       "\n",
       "# Create a TaskVine Work Queue\n",
       "with vine.Manager() as manager:\n",
       "    # Define compile task\n",
       "    compile_task = vine.Task(command=\"make all\")\n",
       "    compile_task.specify_directory(\"complex_project/\")\n",
       "    compile_task.specify_cores(4)\n",
       "    compile_task.specify_memory(1024)  # in MB\n",
       "    compile_task.specify_disk(2048)    # in MB\n",
       "    compile_task.enable_monitoring()\n",
       "\n",
       "    # Define test task\n",
       "    test_task = vine.Task(command=\"make test\")\n",
       "    test_task.specify_directory(\"complex_project/\")\n",
       "    test_task.specify_cores(4)\n",
       "    test_task.specify_memory(1024)    # in MB\n",
       "    test_task.specify_disk(2048)      # in MB\n",
       "    test_task.enable_monitoring()\n",
       "\n",
       "    # Add tasks to the manager\n",
       "    manager.submit(compile_task)\n",
       "    manager.wait_for(compile_task)\n",
       "\n",
       "    if compile_task.complete:\n",
       "        manager.submit(test_task)\n",
       "        manager.wait_for(test_task)\n",
       "\n",
       "        if test_task.complete:\n",
       "            print(f\"Task exit code: {test_task.exit_code}\")\n",
       "            print(f\"Task standard output: {test_task.stdout}\")\n",
       "\n",
       "            # Check resource usage\n",
       "            resource_usage = test_task.resource_usage\n",
       "            if resource_usage:\n",
       "                if resource_usage[\"cores_used\"] > test_task.cores:\n",
       "                    print(f\"Cores overused by: {resource_usage['cores_used'] - test_task.cores}\")\n",
       "                if resource_usage[\"memory_used\"] > test_task.memory:\n",
       "                    print(f\"Memory overused by: {resource_usage['memory_used'] - test_task.memory} MB\")\n",
       "                if resource_usage[\"disk_used\"] > test_task.disk:\n",
       "                    print(f\"Disk overused by: {resource_usage['disk_used'] - test_task.disk} MB\")\n",
       "```"
      ],
      "text/plain": [
       "<IPython.core.display.Markdown object>"
      ]
     },
     "metadata": {},
     "output_type": "display_data"
    },
    {
     "name": "stdout",
     "output_type": "stream",
     "text": [
      "Write a Python TaskVine application to compile and test my project stored at \"complex_project/\". To compile the project, run the \"make all\" command in the project's root directory. Then, to test the project, run \"make test\". The compilation and test must use at most 4 cores, 1024 MB of memory, and 2048 MB of disk. Enable resource monitoring to track resource usage, but do not terminate the task if it overuses resources. When the task completes, print the task's exit code and standard output. For each resource that the task overused, print the resource and by how much it overused.\n"
     ]
    },
    {
     "data": {
      "text/markdown": [
       "```python\n",
       "import ndcctools.taskvine as vine\n",
       "\n",
       "# Create a TaskVine Work Queue\n",
       "with vine.Manager() as manager:\n",
       "    # Define compile task\n",
       "    compile_task = vine.Task(command=\"make all\")\n",
       "    compile_task.specify_directory(\"complex_project/\")\n",
       "    compile_task.specify_cores(4)\n",
       "    compile_task.specify_memory(1024)  # in MB\n",
       "    compile_task.specify_disk(2048)    # in MB\n",
       "    compile_task.enable_monitoring()\n",
       "\n",
       "    # Define test task\n",
       "    test_task = vine.Task(command=\"make test\")\n",
       "    test_task.specify_directory(\"complex_project/\")\n",
       "    test_task.specify_cores(4)\n",
       "    test_task.specify_memory(1024)    # in MB\n",
       "    test_task.specify_disk(2048)      # in MB\n",
       "    test_task.enable_monitoring()\n",
       "\n",
       "    # Add tasks to the manager\n",
       "    manager.submit(compile_task)\n",
       "    manager.wait_for(compile_task)\n",
       "\n",
       "    if compile_task.complete:\n",
       "        manager.submit(test_task)\n",
       "        manager.wait_for(test_task)\n",
       "\n",
       "        if test_task.complete:\n",
       "            print(f\"Task exit code: {test_task.exit_code}\")\n",
       "            print(f\"Task standard output: {test_task.stdout}\")\n",
       "\n",
       "            # Check resource usage\n",
       "            resource_usage = test_task.resource_usage\n",
       "            if resource_usage:\n",
       "                if resource_usage[\"cores_used\"] > test_task.cores:\n",
       "                    print(f\"Cores overused by: {resource_usage['cores_used'] - test_task.cores}\")\n",
       "                if resource_usage[\"memory_used\"] > test_task.memory:\n",
       "                    print(f\"Memory overused by: {resource_usage['memory_used'] - test_task.memory} MB\")\n",
       "                if resource_usage[\"disk_used\"] > test_task.disk:\n",
       "                    print(f\"Disk overused by: {resource_usage['disk_used'] - test_task.disk} MB\")\n",
       "```"
      ],
      "text/plain": [
       "<IPython.core.display.Markdown object>"
      ]
     },
     "metadata": {},
     "output_type": "display_data"
    },
    {
     "name": "stdout",
     "output_type": "stream",
     "text": [
      "Write a Python TaskVine application to compile and test my project stored at \"complex_project/\". To compile the project, run the \"make all\" command in the project's root directory. Then, to test the project, run \"make test\". The compilation and test must use at most 4 cores, 1024 MB of memory, and 2048 MB of disk. Enable resource monitoring to track resource usage, but do not terminate the task if it overuses resources. When the task completes, print the task's exit code and standard output. For each resource that the task overused, print the resource and by how much it overused.\n"
     ]
    },
    {
     "data": {
      "text/markdown": [
       "```python\n",
       "import ndcctools.taskvine as vine\n",
       "\n",
       "# Create a TaskVine Work Queue\n",
       "with vine.Manager() as manager:\n",
       "    # Define compile task\n",
       "    compile_task = vine.Task(command=\"make all\")\n",
       "    compile_task.specify_directory(\"complex_project/\")\n",
       "    compile_task.specify_cores(4)\n",
       "    compile_task.specify_memory(1024)  # in MB\n",
       "    compile_task.specify_disk(2048)    # in MB\n",
       "    compile_task.enable_monitoring()\n",
       "\n",
       "    # Define test task\n",
       "    test_task = vine.Task(command=\"make test\")\n",
       "    test_task.specify_directory(\"complex_project/\")\n",
       "    test_task.specify_cores(4)\n",
       "    test_task.specify_memory(1024)    # in MB\n",
       "    test_task.specify_disk(2048)      # in MB\n",
       "    test_task.enable_monitoring()\n",
       "\n",
       "    # Add tasks to the manager\n",
       "    manager.submit(compile_task)\n",
       "    manager.wait_for(compile_task)\n",
       "\n",
       "    if compile_task.complete:\n",
       "        manager.submit(test_task)\n",
       "        manager.wait_for(test_task)\n",
       "\n",
       "        if test_task.complete:\n",
       "            print(f\"Task exit code: {test_task.exit_code}\")\n",
       "            print(f\"Task standard output: {test_task.stdout}\")\n",
       "\n",
       "            # Check resource usage\n",
       "            resource_usage = test_task.resource_usage\n",
       "            if resource_usage:\n",
       "                if resource_usage[\"cores_used\"] > test_task.cores:\n",
       "                    print(f\"Cores overused by: {resource_usage['cores_used'] - test_task.cores}\")\n",
       "                if resource_usage[\"memory_used\"] > test_task.memory:\n",
       "                    print(f\"Memory overused by: {resource_usage['memory_used'] - test_task.memory} MB\")\n",
       "                if resource_usage[\"disk_used\"] > test_task.disk:\n",
       "                    print(f\"Disk overused by: {resource_usage['disk_used'] - test_task.disk} MB\")\n",
       "```"
      ],
      "text/plain": [
       "<IPython.core.display.Markdown object>"
      ]
     },
     "metadata": {},
     "output_type": "display_data"
    },
    {
     "name": "stdout",
     "output_type": "stream",
     "text": [
      "Write a Python TaskVine application to compile and test my project stored at \"complex_project/\". To compile the project, run the \"make all\" command in the project's root directory. Then, to test the project, run \"make test\". The compilation and test must use at most 4 cores, 1024 MB of memory, and 2048 MB of disk. Enable resource monitoring to track resource usage, but do not terminate the task if it overuses resources. When the task completes, print the task's exit code and standard output. For each resource that the task overused, print the resource and by how much it overused.\n"
     ]
    },
    {
     "data": {
      "text/markdown": [
       "```python\n",
       "import ndcctools.taskvine as vine\n",
       "\n",
       "# Create a TaskVine Work Queue\n",
       "with vine.Manager() as manager:\n",
       "    # Define compile task\n",
       "    compile_task = vine.Task(command=\"make all\")\n",
       "    compile_task.specify_directory(\"complex_project/\")\n",
       "    compile_task.specify_cores(4)\n",
       "    compile_task.specify_memory(1024)  # in MB\n",
       "    compile_task.specify_disk(2048)    # in MB\n",
       "    compile_task.enable_monitoring()\n",
       "\n",
       "    # Define test task\n",
       "    test_task = vine.Task(command=\"make test\")\n",
       "    test_task.specify_directory(\"complex_project/\")\n",
       "    test_task.specify_cores(4)\n",
       "    test_task.specify_memory(1024)    # in MB\n",
       "    test_task.specify_disk(2048)      # in MB\n",
       "    test_task.enable_monitoring()\n",
       "\n",
       "    # Add tasks to the manager\n",
       "    manager.submit(compile_task)\n",
       "    manager.wait_for(compile_task)\n",
       "\n",
       "    if compile_task.complete:\n",
       "        manager.submit(test_task)\n",
       "        manager.wait_for(test_task)\n",
       "\n",
       "        if test_task.complete:\n",
       "            print(f\"Task exit code: {test_task.exit_code}\")\n",
       "            print(f\"Task standard output: {test_task.stdout}\")\n",
       "\n",
       "            # Check resource usage\n",
       "            resource_usage = test_task.resource_usage\n",
       "            if resource_usage:\n",
       "                if resource_usage[\"cores_used\"] > test_task.cores:\n",
       "                    print(f\"Cores overused by: {resource_usage['cores_used'] - test_task.cores}\")\n",
       "                if resource_usage[\"memory_used\"] > test_task.memory:\n",
       "                    print(f\"Memory overused by: {resource_usage['memory_used'] - test_task.memory} MB\")\n",
       "                if resource_usage[\"disk_used\"] > test_task.disk:\n",
       "                    print(f\"Disk overused by: {resource_usage['disk_used'] - test_task.disk} MB\")\n",
       "```"
      ],
      "text/plain": [
       "<IPython.core.display.Markdown object>"
      ]
     },
     "metadata": {},
     "output_type": "display_data"
    },
    {
     "name": "stdout",
     "output_type": "stream",
     "text": [
      "Write a Python TaskVine application to compile and test my project stored at \"complex_project/\". To compile the project, run the \"make all\" command in the project's root directory. Then, to test the project, run \"make test\". The compilation and test must use at most 4 cores, 1024 MB of memory, and 2048 MB of disk. Enable resource monitoring to track resource usage, but do not terminate the task if it overuses resources. When the task completes, print the task's exit code and standard output. For each resource that the task overused, print the resource and by how much it overused.\n"
     ]
    },
    {
     "data": {
      "text/markdown": [
       "```python\n",
       "import ndcctools.taskvine as vine\n",
       "\n",
       "# Create a TaskVine Work Queue\n",
       "with vine.Manager() as manager:\n",
       "    # Define compile task\n",
       "    compile_task = vine.Task(command=\"make all\")\n",
       "    compile_task.specify_directory(\"complex_project/\")\n",
       "    compile_task.specify_cores(4)\n",
       "    compile_task.specify_memory(1024)  # in MB\n",
       "    compile_task.specify_disk(2048)    # in MB\n",
       "    compile_task.enable_monitoring()\n",
       "\n",
       "    # Define test task\n",
       "    test_task = vine.Task(command=\"make test\")\n",
       "    test_task.specify_directory(\"complex_project/\")\n",
       "    test_task.specify_cores(4)\n",
       "    test_task.specify_memory(1024)    # in MB\n",
       "    test_task.specify_disk(2048)      # in MB\n",
       "    test_task.enable_monitoring()\n",
       "\n",
       "    # Add tasks to the manager\n",
       "    manager.submit(compile_task)\n",
       "    manager.wait_for(compile_task)\n",
       "\n",
       "    if compile_task.complete:\n",
       "        manager.submit(test_task)\n",
       "        manager.wait_for(test_task)\n",
       "\n",
       "        if test_task.complete:\n",
       "            print(f\"Task exit code: {test_task.exit_code}\")\n",
       "            print(f\"Task standard output: {test_task.stdout}\")\n",
       "\n",
       "            # Check resource usage\n",
       "            resource_usage = test_task.resource_usage\n",
       "            if resource_usage:\n",
       "                if resource_usage[\"cores_used\"] > test_task.cores:\n",
       "                    print(f\"Cores overused by: {resource_usage['cores_used'] - test_task.cores}\")\n",
       "                if resource_usage[\"memory_used\"] > test_task.memory:\n",
       "                    print(f\"Memory overused by: {resource_usage['memory_used'] - test_task.memory} MB\")\n",
       "                if resource_usage[\"disk_used\"] > test_task.disk:\n",
       "                    print(f\"Disk overused by: {resource_usage['disk_used'] - test_task.disk} MB\")\n",
       "```"
      ],
      "text/plain": [
       "<IPython.core.display.Markdown object>"
      ]
     },
     "metadata": {},
     "output_type": "display_data"
    },
    {
     "name": "stdout",
     "output_type": "stream",
     "text": [
      "Write a Python TaskVine application to compile and test my project stored at \"complex_project/\". To compile the project, run the \"make all\" command in the project's root directory. Then, to test the project, run \"make test\". The compilation and test must use at most 4 cores, 1024 MB of memory, and 2048 MB of disk. Enable resource monitoring to track resource usage, but do not terminate the task if it overuses resources. When the task completes, print the task's exit code and standard output. For each resource that the task overused, print the resource and by how much it overused.\n"
     ]
    },
    {
     "data": {
      "text/markdown": [
       "```python\n",
       "import ndcctools.taskvine as vine\n",
       "\n",
       "# Create a TaskVine Work Queue\n",
       "with vine.Manager() as manager:\n",
       "    # Define compile task\n",
       "    compile_task = vine.Task(command=\"make all\")\n",
       "    compile_task.specify_directory(\"complex_project/\")\n",
       "    compile_task.specify_cores(4)\n",
       "    compile_task.specify_memory(1024)  # in MB\n",
       "    compile_task.specify_disk(2048)    # in MB\n",
       "    compile_task.enable_monitoring()\n",
       "\n",
       "    # Define test task\n",
       "    test_task = vine.Task(command=\"make test\")\n",
       "    test_task.specify_directory(\"complex_project/\")\n",
       "    test_task.specify_cores(4)\n",
       "    test_task.specify_memory(1024)    # in MB\n",
       "    test_task.specify_disk(2048)      # in MB\n",
       "    test_task.enable_monitoring()\n",
       "\n",
       "    # Add tasks to the manager\n",
       "    manager.submit(compile_task)\n",
       "    manager.wait_for(compile_task)\n",
       "\n",
       "    if compile_task.complete:\n",
       "        manager.submit(test_task)\n",
       "        manager.wait_for(test_task)\n",
       "\n",
       "        if test_task.complete:\n",
       "            print(f\"Task exit code: {test_task.exit_code}\")\n",
       "            print(f\"Task standard output: {test_task.stdout}\")\n",
       "\n",
       "            # Check resource usage\n",
       "            resource_usage = test_task.resource_usage\n",
       "            if resource_usage:\n",
       "                if resource_usage[\"cores_used\"] > test_task.cores:\n",
       "                    print(f\"Cores overused by: {resource_usage['cores_used'] - test_task.cores}\")\n",
       "                if resource_usage[\"memory_used\"] > test_task.memory:\n",
       "                    print(f\"Memory overused by: {resource_usage['memory_used'] - test_task.memory} MB\")\n",
       "                if resource_usage[\"disk_used\"] > test_task.disk:\n",
       "                    print(f\"Disk overused by: {resource_usage['disk_used'] - test_task.disk} MB\")\n",
       "```"
      ],
      "text/plain": [
       "<IPython.core.display.Markdown object>"
      ]
     },
     "metadata": {},
     "output_type": "display_data"
    },
    {
     "name": "stdout",
     "output_type": "stream",
     "text": [
      "Write a Python TaskVine application to compile and test my project stored at \"complex_project/\". To compile the project, run the \"make all\" command in the project's root directory. Then, to test the project, run \"make test\". The compilation and test must use at most 4 cores, 1024 MB of memory, and 2048 MB of disk. Enable resource monitoring to track resource usage, but do not terminate the task if it overuses resources. When the task completes, print the task's exit code and standard output. For each resource that the task overused, print the resource and by how much it overused.\n"
     ]
    },
    {
     "data": {
      "text/markdown": [
       "```python\n",
       "import ndcctools.taskvine as vine\n",
       "\n",
       "# Create a TaskVine Work Queue\n",
       "with vine.Manager() as manager:\n",
       "    # Define compile task\n",
       "    compile_task = vine.Task(command=\"make all\")\n",
       "    compile_task.specify_directory(\"complex_project/\")\n",
       "    compile_task.specify_cores(4)\n",
       "    compile_task.specify_memory(1024)  # in MB\n",
       "    compile_task.specify_disk(2048)    # in MB\n",
       "    compile_task.enable_monitoring()\n",
       "\n",
       "    # Define test task\n",
       "    test_task = vine.Task(command=\"make test\")\n",
       "    test_task.specify_directory(\"complex_project/\")\n",
       "    test_task.specify_cores(4)\n",
       "    test_task.specify_memory(1024)    # in MB\n",
       "    test_task.specify_disk(2048)      # in MB\n",
       "    test_task.enable_monitoring()\n",
       "\n",
       "    # Add tasks to the manager\n",
       "    manager.submit(compile_task)\n",
       "    manager.wait_for(compile_task)\n",
       "\n",
       "    if compile_task.complete:\n",
       "        manager.submit(test_task)\n",
       "        manager.wait_for(test_task)\n",
       "\n",
       "        if test_task.complete:\n",
       "            print(f\"Task exit code: {test_task.exit_code}\")\n",
       "            print(f\"Task standard output: {test_task.stdout}\")\n",
       "\n",
       "            # Check resource usage\n",
       "            resource_usage = test_task.resource_usage\n",
       "            if resource_usage:\n",
       "                if resource_usage[\"cores_used\"] > test_task.cores:\n",
       "                    print(f\"Cores overused by: {resource_usage['cores_used'] - test_task.cores}\")\n",
       "                if resource_usage[\"memory_used\"] > test_task.memory:\n",
       "                    print(f\"Memory overused by: {resource_usage['memory_used'] - test_task.memory} MB\")\n",
       "                if resource_usage[\"disk_used\"] > test_task.disk:\n",
       "                    print(f\"Disk overused by: {resource_usage['disk_used'] - test_task.disk} MB\")\n",
       "```"
      ],
      "text/plain": [
       "<IPython.core.display.Markdown object>"
      ]
     },
     "metadata": {},
     "output_type": "display_data"
    },
    {
     "name": "stdout",
     "output_type": "stream",
     "text": [
      "Write a Python TaskVine application to compile and test my project stored at \"complex_project/\". To compile the project, run the \"make all\" command in the project's root directory. Then, to test the project, run \"make test\". The compilation and test must use at most 4 cores, 1024 MB of memory, and 2048 MB of disk. Enable resource monitoring to track resource usage, but do not terminate the task if it overuses resources. When the task completes, print the task's exit code and standard output. For each resource that the task overused, print the resource and by how much it overused.\n"
     ]
    },
    {
     "data": {
      "text/markdown": [
       "```python\n",
       "import ndcctools.taskvine as vine\n",
       "\n",
       "# Create a TaskVine Work Queue\n",
       "with vine.Manager() as manager:\n",
       "    # Define compile task\n",
       "    compile_task = vine.Task(command=\"make all\")\n",
       "    compile_task.specify_directory(\"complex_project/\")\n",
       "    compile_task.specify_cores(4)\n",
       "    compile_task.specify_memory(1024)  # in MB\n",
       "    compile_task.specify_disk(2048)    # in MB\n",
       "    compile_task.enable_monitoring()\n",
       "\n",
       "    # Define test task\n",
       "    test_task = vine.Task(command=\"make test\")\n",
       "    test_task.specify_directory(\"complex_project/\")\n",
       "    test_task.specify_cores(4)\n",
       "    test_task.specify_memory(1024)    # in MB\n",
       "    test_task.specify_disk(2048)      # in MB\n",
       "    test_task.enable_monitoring()\n",
       "\n",
       "    # Add tasks to the manager\n",
       "    manager.submit(compile_task)\n",
       "    manager.wait_for(compile_task)\n",
       "\n",
       "    if compile_task.complete:\n",
       "        manager.submit(test_task)\n",
       "        manager.wait_for(test_task)\n",
       "\n",
       "        if test_task.complete:\n",
       "            print(f\"Task exit code: {test_task.exit_code}\")\n",
       "            print(f\"Task standard output: {test_task.stdout}\")\n",
       "\n",
       "            # Check resource usage\n",
       "            resource_usage = test_task.resource_usage\n",
       "            if resource_usage:\n",
       "                if resource_usage[\"cores_used\"] > test_task.cores:\n",
       "                    print(f\"Cores overused by: {resource_usage['cores_used'] - test_task.cores}\")\n",
       "                if resource_usage[\"memory_used\"] > test_task.memory:\n",
       "                    print(f\"Memory overused by: {resource_usage['memory_used'] - test_task.memory} MB\")\n",
       "                if resource_usage[\"disk_used\"] > test_task.disk:\n",
       "                    print(f\"Disk overused by: {resource_usage['disk_used'] - test_task.disk} MB\")\n",
       "```"
      ],
      "text/plain": [
       "<IPython.core.display.Markdown object>"
      ]
     },
     "metadata": {},
     "output_type": "display_data"
    },
    {
     "name": "stdout",
     "output_type": "stream",
     "text": [
      "Write a Python TaskVine application to compile and test my project stored at \"complex_project/\". To compile the project, run the \"make all\" command in the project's root directory. Then, to test the project, run \"make test\". The compilation and test must use at most 4 cores, 1024 MB of memory, and 2048 MB of disk. Enable resource monitoring to track resource usage, but do not terminate the task if it overuses resources. When the task completes, print the task's exit code and standard output. For each resource that the task overused, print the resource and by how much it overused.\n"
     ]
    },
    {
     "data": {
      "text/markdown": [
       "```python\n",
       "import ndcctools.taskvine as vine\n",
       "\n",
       "# Create a TaskVine Work Queue\n",
       "with vine.Manager() as manager:\n",
       "    # Define compile task\n",
       "    compile_task = vine.Task(command=\"make all\")\n",
       "    compile_task.specify_directory(\"complex_project/\")\n",
       "    compile_task.specify_cores(4)\n",
       "    compile_task.specify_memory(1024)  # in MB\n",
       "    compile_task.specify_disk(2048)    # in MB\n",
       "    compile_task.enable_monitoring()\n",
       "\n",
       "    # Define test task\n",
       "    test_task = vine.Task(command=\"make test\")\n",
       "    test_task.specify_directory(\"complex_project/\")\n",
       "    test_task.specify_cores(4)\n",
       "    test_task.specify_memory(1024)    # in MB\n",
       "    test_task.specify_disk(2048)      # in MB\n",
       "    test_task.enable_monitoring()\n",
       "\n",
       "    # Add tasks to the manager\n",
       "    manager.submit(compile_task)\n",
       "    manager.wait_for(compile_task)\n",
       "\n",
       "    if compile_task.complete:\n",
       "        manager.submit(test_task)\n",
       "        manager.wait_for(test_task)\n",
       "\n",
       "        if test_task.complete:\n",
       "            print(f\"Task exit code: {test_task.exit_code}\")\n",
       "            print(f\"Task standard output: {test_task.stdout}\")\n",
       "\n",
       "            # Check resource usage\n",
       "            resource_usage = test_task.resource_usage\n",
       "            if resource_usage:\n",
       "                if resource_usage[\"cores_used\"] > test_task.cores:\n",
       "                    print(f\"Cores overused by: {resource_usage['cores_used'] - test_task.cores}\")\n",
       "                if resource_usage[\"memory_used\"] > test_task.memory:\n",
       "                    print(f\"Memory overused by: {resource_usage['memory_used'] - test_task.memory} MB\")\n",
       "                if resource_usage[\"disk_used\"] > test_task.disk:\n",
       "                    print(f\"Disk overused by: {resource_usage['disk_used'] - test_task.disk} MB\")\n",
       "```"
      ],
      "text/plain": [
       "<IPython.core.display.Markdown object>"
      ]
     },
     "metadata": {},
     "output_type": "display_data"
    },
    {
     "name": "stdout",
     "output_type": "stream",
     "text": [
      "Write a Python TaskVine application that executes multiple programs with different levels of resource requirements. The two task categories must be named \"intensive\" and \"light\". The \"intensive\" tasks require 8 cores and 16 GB of memory. The \"light\" tasks require 1 core and 2 GB of memory. In the intensive category, submit 10 tasks to execute the shell script \"intensive.sh\". In the light category, submit 100 tasks to execute the shell script \"light.sh\" Print the standard output of each task upon completion.\n"
     ]
    },
    {
     "data": {
      "text/markdown": [
       "```python\n",
       "import ndcctools.taskvine as vine\n",
       "\n",
       "def submit_tasks():\n",
       "    with vine.Manager() as manager:\n",
       "        # Intensive tasks\n",
       "        for i in range(10):\n",
       "            task = vine.Task(\"bash intensive.sh\")\n",
       "            task.set_cores(8)\n",
       "            task.set_memory(16 * 1024)  # Memory in MB\n",
       "            manager.submit(task)\n",
       "\n",
       "        # Light tasks\n",
       "        for i in range(100):\n",
       "            task = vine.Task(\"bash light.sh\")\n",
       "            task.set_cores(1)\n",
       "            task.set_memory(2 * 1024)  # Memory in MB\n",
       "            manager.submit(task)\n",
       "\n",
       "        # Wait for tasks to complete and print their outputs\n",
       "        while not manager.empty():\n",
       "            task = manager.wait(5)\n",
       "            if task:\n",
       "                print(f\"Task stdout: {task.stdout.read().decode('utf-8')}\")\n",
       "\n",
       "if __name__ == \"__main__\":\n",
       "    submit_tasks()\n",
       "```"
      ],
      "text/plain": [
       "<IPython.core.display.Markdown object>"
      ]
     },
     "metadata": {},
     "output_type": "display_data"
    },
    {
     "name": "stdout",
     "output_type": "stream",
     "text": [
      "Write a Python TaskVine application that executes multiple programs with different levels of resource requirements. The two task categories must be named \"intensive\" and \"light\". The \"intensive\" tasks require 8 cores and 16 GB of memory. The \"light\" tasks require 1 core and 2 GB of memory. In the intensive category, submit 10 tasks to execute the shell script \"intensive.sh\". In the light category, submit 100 tasks to execute the shell script \"light.sh\" Print the standard output of each task upon completion.\n"
     ]
    },
    {
     "data": {
      "text/markdown": [
       "```python\n",
       "import ndcctools.taskvine as vine\n",
       "\n",
       "def submit_tasks():\n",
       "    with vine.Manager() as manager:\n",
       "        # Intensive tasks\n",
       "        for i in range(10):\n",
       "            task = vine.Task(\"bash intensive.sh\")\n",
       "            task.set_cores(8)\n",
       "            task.set_memory(16 * 1024)  # Memory in MB\n",
       "            manager.submit(task)\n",
       "\n",
       "        # Light tasks\n",
       "        for i in range(100):\n",
       "            task = vine.Task(\"bash light.sh\")\n",
       "            task.set_cores(1)\n",
       "            task.set_memory(2 * 1024)  # Memory in MB\n",
       "            manager.submit(task)\n",
       "\n",
       "        # Wait for tasks to complete and print their outputs\n",
       "        while not manager.empty():\n",
       "            task = manager.wait(5)\n",
       "            if task:\n",
       "                print(f\"Task stdout: {task.stdout.read().decode('utf-8')}\")\n",
       "\n",
       "if __name__ == \"__main__\":\n",
       "    submit_tasks()\n",
       "```"
      ],
      "text/plain": [
       "<IPython.core.display.Markdown object>"
      ]
     },
     "metadata": {},
     "output_type": "display_data"
    },
    {
     "name": "stdout",
     "output_type": "stream",
     "text": [
      "Write a Python TaskVine application that executes multiple programs with different levels of resource requirements. The two task categories must be named \"intensive\" and \"light\". The \"intensive\" tasks require 8 cores and 16 GB of memory. The \"light\" tasks require 1 core and 2 GB of memory. In the intensive category, submit 10 tasks to execute the shell script \"intensive.sh\". In the light category, submit 100 tasks to execute the shell script \"light.sh\" Print the standard output of each task upon completion.\n"
     ]
    },
    {
     "data": {
      "text/markdown": [
       "```python\n",
       "import ndcctools.taskvine as vine\n",
       "\n",
       "def submit_tasks():\n",
       "    with vine.Manager() as manager:\n",
       "        # Intensive tasks\n",
       "        for i in range(10):\n",
       "            task = vine.Task(\"bash intensive.sh\")\n",
       "            task.set_cores(8)\n",
       "            task.set_memory(16 * 1024)  # Memory in MB\n",
       "            manager.submit(task)\n",
       "\n",
       "        # Light tasks\n",
       "        for i in range(100):\n",
       "            task = vine.Task(\"bash light.sh\")\n",
       "            task.set_cores(1)\n",
       "            task.set_memory(2 * 1024)  # Memory in MB\n",
       "            manager.submit(task)\n",
       "\n",
       "        # Wait for tasks to complete and print their outputs\n",
       "        while not manager.empty():\n",
       "            task = manager.wait(5)\n",
       "            if task:\n",
       "                print(f\"Task stdout: {task.stdout.read().decode('utf-8')}\")\n",
       "\n",
       "if __name__ == \"__main__\":\n",
       "    submit_tasks()\n",
       "```"
      ],
      "text/plain": [
       "<IPython.core.display.Markdown object>"
      ]
     },
     "metadata": {},
     "output_type": "display_data"
    },
    {
     "name": "stdout",
     "output_type": "stream",
     "text": [
      "Write a Python TaskVine application that executes multiple programs with different levels of resource requirements. The two task categories must be named \"intensive\" and \"light\". The \"intensive\" tasks require 8 cores and 16 GB of memory. The \"light\" tasks require 1 core and 2 GB of memory. In the intensive category, submit 10 tasks to execute the shell script \"intensive.sh\". In the light category, submit 100 tasks to execute the shell script \"light.sh\" Print the standard output of each task upon completion.\n"
     ]
    },
    {
     "data": {
      "text/markdown": [
       "```python\n",
       "import ndcctools.taskvine as vine\n",
       "\n",
       "def submit_tasks():\n",
       "    with vine.Manager() as manager:\n",
       "        # Intensive tasks\n",
       "        for i in range(10):\n",
       "            task = vine.Task(\"bash intensive.sh\")\n",
       "            task.set_cores(8)\n",
       "            task.set_memory(16 * 1024)  # Memory in MB\n",
       "            manager.submit(task)\n",
       "\n",
       "        # Light tasks\n",
       "        for i in range(100):\n",
       "            task = vine.Task(\"bash light.sh\")\n",
       "            task.set_cores(1)\n",
       "            task.set_memory(2 * 1024)  # Memory in MB\n",
       "            manager.submit(task)\n",
       "\n",
       "        # Wait for tasks to complete and print their outputs\n",
       "        while not manager.empty():\n",
       "            task = manager.wait(5)\n",
       "            if task:\n",
       "                print(f\"Task stdout: {task.stdout.read().decode('utf-8')}\")\n",
       "\n",
       "if __name__ == \"__main__\":\n",
       "    submit_tasks()\n",
       "```"
      ],
      "text/plain": [
       "<IPython.core.display.Markdown object>"
      ]
     },
     "metadata": {},
     "output_type": "display_data"
    },
    {
     "name": "stdout",
     "output_type": "stream",
     "text": [
      "Write a Python TaskVine application that executes multiple programs with different levels of resource requirements. The two task categories must be named \"intensive\" and \"light\". The \"intensive\" tasks require 8 cores and 16 GB of memory. The \"light\" tasks require 1 core and 2 GB of memory. In the intensive category, submit 10 tasks to execute the shell script \"intensive.sh\". In the light category, submit 100 tasks to execute the shell script \"light.sh\" Print the standard output of each task upon completion.\n"
     ]
    },
    {
     "data": {
      "text/markdown": [
       "```python\n",
       "import ndcctools.taskvine as vine\n",
       "\n",
       "def submit_tasks():\n",
       "    with vine.Manager() as manager:\n",
       "        # Intensive tasks\n",
       "        for i in range(10):\n",
       "            task = vine.Task(\"bash intensive.sh\")\n",
       "            task.set_cores(8)\n",
       "            task.set_memory(16 * 1024)  # Memory in MB\n",
       "            manager.submit(task)\n",
       "\n",
       "        # Light tasks\n",
       "        for i in range(100):\n",
       "            task = vine.Task(\"bash light.sh\")\n",
       "            task.set_cores(1)\n",
       "            task.set_memory(2 * 1024)  # Memory in MB\n",
       "            manager.submit(task)\n",
       "\n",
       "        # Wait for tasks to complete and print their outputs\n",
       "        while not manager.empty():\n",
       "            task = manager.wait(5)\n",
       "            if task:\n",
       "                print(f\"Task stdout: {task.stdout.read().decode('utf-8')}\")\n",
       "\n",
       "if __name__ == \"__main__\":\n",
       "    submit_tasks()\n",
       "```"
      ],
      "text/plain": [
       "<IPython.core.display.Markdown object>"
      ]
     },
     "metadata": {},
     "output_type": "display_data"
    },
    {
     "name": "stdout",
     "output_type": "stream",
     "text": [
      "Write a Python TaskVine application that executes multiple programs with different levels of resource requirements. The two task categories must be named \"intensive\" and \"light\". The \"intensive\" tasks require 8 cores and 16 GB of memory. The \"light\" tasks require 1 core and 2 GB of memory. In the intensive category, submit 10 tasks to execute the shell script \"intensive.sh\". In the light category, submit 100 tasks to execute the shell script \"light.sh\" Print the standard output of each task upon completion.\n"
     ]
    },
    {
     "data": {
      "text/markdown": [
       "```python\n",
       "import ndcctools.taskvine as vine\n",
       "\n",
       "def submit_tasks():\n",
       "    with vine.Manager() as manager:\n",
       "        # Intensive tasks\n",
       "        for i in range(10):\n",
       "            task = vine.Task(\"bash intensive.sh\")\n",
       "            task.set_cores(8)\n",
       "            task.set_memory(16 * 1024)  # Memory in MB\n",
       "            manager.submit(task)\n",
       "\n",
       "        # Light tasks\n",
       "        for i in range(100):\n",
       "            task = vine.Task(\"bash light.sh\")\n",
       "            task.set_cores(1)\n",
       "            task.set_memory(2 * 1024)  # Memory in MB\n",
       "            manager.submit(task)\n",
       "\n",
       "        # Wait for tasks to complete and print their outputs\n",
       "        while not manager.empty():\n",
       "            task = manager.wait(5)\n",
       "            if task:\n",
       "                print(f\"Task stdout: {task.stdout.read().decode('utf-8')}\")\n",
       "\n",
       "if __name__ == \"__main__\":\n",
       "    submit_tasks()\n",
       "```"
      ],
      "text/plain": [
       "<IPython.core.display.Markdown object>"
      ]
     },
     "metadata": {},
     "output_type": "display_data"
    },
    {
     "name": "stdout",
     "output_type": "stream",
     "text": [
      "Write a Python TaskVine application that executes multiple programs with different levels of resource requirements. The two task categories must be named \"intensive\" and \"light\". The \"intensive\" tasks require 8 cores and 16 GB of memory. The \"light\" tasks require 1 core and 2 GB of memory. In the intensive category, submit 10 tasks to execute the shell script \"intensive.sh\". In the light category, submit 100 tasks to execute the shell script \"light.sh\" Print the standard output of each task upon completion.\n"
     ]
    },
    {
     "data": {
      "text/markdown": [
       "```python\n",
       "import ndcctools.taskvine as vine\n",
       "\n",
       "def submit_tasks():\n",
       "    with vine.Manager() as manager:\n",
       "        # Intensive tasks\n",
       "        for i in range(10):\n",
       "            task = vine.Task(\"bash intensive.sh\")\n",
       "            task.set_cores(8)\n",
       "            task.set_memory(16 * 1024)  # Memory in MB\n",
       "            manager.submit(task)\n",
       "\n",
       "        # Light tasks\n",
       "        for i in range(100):\n",
       "            task = vine.Task(\"bash light.sh\")\n",
       "            task.set_cores(1)\n",
       "            task.set_memory(2 * 1024)  # Memory in MB\n",
       "            manager.submit(task)\n",
       "\n",
       "        # Wait for tasks to complete and print their outputs\n",
       "        while not manager.empty():\n",
       "            task = manager.wait(5)\n",
       "            if task:\n",
       "                print(f\"Task stdout: {task.stdout.read().decode('utf-8')}\")\n",
       "\n",
       "if __name__ == \"__main__\":\n",
       "    submit_tasks()\n",
       "```"
      ],
      "text/plain": [
       "<IPython.core.display.Markdown object>"
      ]
     },
     "metadata": {},
     "output_type": "display_data"
    },
    {
     "name": "stdout",
     "output_type": "stream",
     "text": [
      "Write a Python TaskVine application that executes multiple programs with different levels of resource requirements. The two task categories must be named \"intensive\" and \"light\". The \"intensive\" tasks require 8 cores and 16 GB of memory. The \"light\" tasks require 1 core and 2 GB of memory. In the intensive category, submit 10 tasks to execute the shell script \"intensive.sh\". In the light category, submit 100 tasks to execute the shell script \"light.sh\" Print the standard output of each task upon completion.\n"
     ]
    },
    {
     "data": {
      "text/markdown": [
       "```python\n",
       "import ndcctools.taskvine as vine\n",
       "\n",
       "def submit_tasks():\n",
       "    with vine.Manager() as manager:\n",
       "        # Intensive tasks\n",
       "        for i in range(10):\n",
       "            task = vine.Task(\"bash intensive.sh\")\n",
       "            task.set_cores(8)\n",
       "            task.set_memory(16 * 1024)  # Memory in MB\n",
       "            manager.submit(task)\n",
       "\n",
       "        # Light tasks\n",
       "        for i in range(100):\n",
       "            task = vine.Task(\"bash light.sh\")\n",
       "            task.set_cores(1)\n",
       "            task.set_memory(2 * 1024)  # Memory in MB\n",
       "            manager.submit(task)\n",
       "\n",
       "        # Wait for tasks to complete and print their outputs\n",
       "        while not manager.empty():\n",
       "            task = manager.wait(5)\n",
       "            if task:\n",
       "                print(f\"Task stdout: {task.stdout.read().decode('utf-8')}\")\n",
       "\n",
       "if __name__ == \"__main__\":\n",
       "    submit_tasks()\n",
       "```"
      ],
      "text/plain": [
       "<IPython.core.display.Markdown object>"
      ]
     },
     "metadata": {},
     "output_type": "display_data"
    },
    {
     "name": "stdout",
     "output_type": "stream",
     "text": [
      "Write a Python TaskVine application that executes multiple programs with different levels of resource requirements. The two task categories must be named \"intensive\" and \"light\". The \"intensive\" tasks require 8 cores and 16 GB of memory. The \"light\" tasks require 1 core and 2 GB of memory. In the intensive category, submit 10 tasks to execute the shell script \"intensive.sh\". In the light category, submit 100 tasks to execute the shell script \"light.sh\" Print the standard output of each task upon completion.\n"
     ]
    },
    {
     "data": {
      "text/markdown": [
       "```python\n",
       "import ndcctools.taskvine as vine\n",
       "\n",
       "def submit_tasks():\n",
       "    with vine.Manager() as manager:\n",
       "        # Intensive tasks\n",
       "        for i in range(10):\n",
       "            task = vine.Task(\"bash intensive.sh\")\n",
       "            task.set_cores(8)\n",
       "            task.set_memory(16 * 1024)  # Memory in MB\n",
       "            manager.submit(task)\n",
       "\n",
       "        # Light tasks\n",
       "        for i in range(100):\n",
       "            task = vine.Task(\"bash light.sh\")\n",
       "            task.set_cores(1)\n",
       "            task.set_memory(2 * 1024)  # Memory in MB\n",
       "            manager.submit(task)\n",
       "\n",
       "        # Wait for tasks to complete and print their outputs\n",
       "        while not manager.empty():\n",
       "            task = manager.wait(5)\n",
       "            if task:\n",
       "                print(f\"Task stdout: {task.stdout.read().decode('utf-8')}\")\n",
       "\n",
       "if __name__ == \"__main__\":\n",
       "    submit_tasks()\n",
       "```"
      ],
      "text/plain": [
       "<IPython.core.display.Markdown object>"
      ]
     },
     "metadata": {},
     "output_type": "display_data"
    },
    {
     "name": "stdout",
     "output_type": "stream",
     "text": [
      "Write a Python TaskVine application that executes multiple programs with different levels of resource requirements. The two task categories must be named \"intensive\" and \"light\". The \"intensive\" tasks require 8 cores and 16 GB of memory. The \"light\" tasks require 1 core and 2 GB of memory. In the intensive category, submit 10 tasks to execute the shell script \"intensive.sh\". In the light category, submit 100 tasks to execute the shell script \"light.sh\" Print the standard output of each task upon completion.\n"
     ]
    },
    {
     "data": {
      "text/markdown": [
       "```python\n",
       "import ndcctools.taskvine as vine\n",
       "\n",
       "def submit_tasks():\n",
       "    with vine.Manager() as manager:\n",
       "        # Intensive tasks\n",
       "        for i in range(10):\n",
       "            task = vine.Task(\"bash intensive.sh\")\n",
       "            task.set_cores(8)\n",
       "            task.set_memory(16 * 1024)  # Memory in MB\n",
       "            manager.submit(task)\n",
       "\n",
       "        # Light tasks\n",
       "        for i in range(100):\n",
       "            task = vine.Task(\"bash light.sh\")\n",
       "            task.set_cores(1)\n",
       "            task.set_memory(2 * 1024)  # Memory in MB\n",
       "            manager.submit(task)\n",
       "\n",
       "        # Wait for tasks to complete and print their outputs\n",
       "        while not manager.empty():\n",
       "            task = manager.wait(5)\n",
       "            if task:\n",
       "                print(f\"Task stdout: {task.stdout.read().decode('utf-8')}\")\n",
       "\n",
       "if __name__ == \"__main__\":\n",
       "    submit_tasks()\n",
       "```"
      ],
      "text/plain": [
       "<IPython.core.display.Markdown object>"
      ]
     },
     "metadata": {},
     "output_type": "display_data"
    },
    {
     "name": "stdout",
     "output_type": "stream",
     "text": [
      "Write a Python TaskVine application to perform matrix inversion and transposition. The matrix computations must be defined in Python functions and added to a TaskVine library called \"matrix_library\". The user must specify the size, m x n,  of the matrix and the number of matrices, i, on which to perform computation. The application must randomly generate i matrices and for each matrix, print the matrix, print the inverse matrix, and print the transposed matrix.\n"
     ]
    },
    {
     "data": {
      "text/markdown": [
       "```python\n",
       "import numpy as np\n",
       "import ndcctools.taskvine as vine\n",
       "import random\n",
       "\n",
       "def generate_matrix(m, n):\n",
       "    return np.random.rand(m, n)\n",
       "\n",
       "def invert_matrix(matrix):\n",
       "    try:\n",
       "        inv_matrix = np.linalg.inv(matrix)\n",
       "    except np.linalg.LinAlgError:\n",
       "        # Matrix is not invertible\n",
       "        inv_matrix = None\n",
       "    return inv_matrix\n",
       "\n",
       "def transpose_matrix(matrix):\n",
       "    return np.transpose(matrix)\n",
       "\n",
       "def main(m, n, i):\n",
       "    # Creating a library for matrix operations\n",
       "    library = vine.Library('matrix_library')\n",
       "    library.add_function(generate_matrix)\n",
       "    library.add_function(invert_matrix)\n",
       "    library.add_function(transpose_matrix)\n",
       "    \n",
       "    # Start the coordinator\n",
       "    coordinator = vine.Coordinator()\n",
       "    coordinator.add_library(library)\n",
       "\n",
       "    for _ in range(i):\n",
       "        task = vine.Task('matrix_library::generate_matrix', m, n)\n",
       "        \n",
       "        def callback(task):\n",
       "            matrix = task.result\n",
       "\n",
       "            print(\"Original Matrix:\")\n",
       "            print(matrix)\n",
       "\n",
       "            inv_task = vine.Task('matrix_library::invert_matrix', matrix)\n",
       "            trans_task = vine.Task('matrix_library::transpose_matrix', matrix)\n",
       "            \n",
       "            def inv_callback(inv_task):\n",
       "                inv_matrix = inv_task.result\n",
       "                if inv_matrix is not None:\n",
       "                    print(\"Inverse Matrix:\")\n",
       "                    print(inv_matrix)\n",
       "                else:\n",
       "                    print(\"Matrix is not invertible.\")\n",
       "\n",
       "            def trans_callback(trans_task):\n",
       "                trans_matrix = trans_task.result\n",
       "                print(\"Transposed Matrix:\")\n",
       "                print(trans_matrix)\n",
       "\n",
       "            inv_task.set_result_callback(inv_callback)\n",
       "            trans_task.set_result_callback(trans_callback)\n",
       "\n",
       "            coordinator.submit(inv_task)\n",
       "            coordinator.submit(trans_task)\n",
       "        \n",
       "        task.set_result_callback(callback)\n",
       "        coordinator.submit(task)\n",
       "\n",
       "    coordinator.run()\n",
       "\n",
       "if __name__ == \"__main__\":\n",
       "    m = int(input(\"Enter the number of rows (m): \"))\n",
       "    n = int(input(\"Enter the number of columns (n): \"))\n",
       "    i = int(input(\"Enter the number of matrices to generate (i): \"))\n",
       "    \n",
       "    main(m, n, i)\n",
       "```"
      ],
      "text/plain": [
       "<IPython.core.display.Markdown object>"
      ]
     },
     "metadata": {},
     "output_type": "display_data"
    },
    {
     "name": "stdout",
     "output_type": "stream",
     "text": [
      "Write a Python TaskVine application to perform matrix inversion and transposition. The matrix computations must be defined in Python functions and added to a TaskVine library called \"matrix_library\". The user must specify the size, m x n,  of the matrix and the number of matrices, i, on which to perform computation. The application must randomly generate i matrices and for each matrix, print the matrix, print the inverse matrix, and print the transposed matrix.\n"
     ]
    },
    {
     "data": {
      "text/markdown": [
       "```python\n",
       "import numpy as np\n",
       "import ndcctools.taskvine as vine\n",
       "import random\n",
       "\n",
       "def generate_matrix(m, n):\n",
       "    return np.random.rand(m, n)\n",
       "\n",
       "def invert_matrix(matrix):\n",
       "    try:\n",
       "        inv_matrix = np.linalg.inv(matrix)\n",
       "    except np.linalg.LinAlgError:\n",
       "        # Matrix is not invertible\n",
       "        inv_matrix = None\n",
       "    return inv_matrix\n",
       "\n",
       "def transpose_matrix(matrix):\n",
       "    return np.transpose(matrix)\n",
       "\n",
       "def main(m, n, i):\n",
       "    # Creating a library for matrix operations\n",
       "    library = vine.Library('matrix_library')\n",
       "    library.add_function(generate_matrix)\n",
       "    library.add_function(invert_matrix)\n",
       "    library.add_function(transpose_matrix)\n",
       "    \n",
       "    # Start the coordinator\n",
       "    coordinator = vine.Coordinator()\n",
       "    coordinator.add_library(library)\n",
       "\n",
       "    for _ in range(i):\n",
       "        task = vine.Task('matrix_library::generate_matrix', m, n)\n",
       "        \n",
       "        def callback(task):\n",
       "            matrix = task.result\n",
       "\n",
       "            print(\"Original Matrix:\")\n",
       "            print(matrix)\n",
       "\n",
       "            inv_task = vine.Task('matrix_library::invert_matrix', matrix)\n",
       "            trans_task = vine.Task('matrix_library::transpose_matrix', matrix)\n",
       "            \n",
       "            def inv_callback(inv_task):\n",
       "                inv_matrix = inv_task.result\n",
       "                if inv_matrix is not None:\n",
       "                    print(\"Inverse Matrix:\")\n",
       "                    print(inv_matrix)\n",
       "                else:\n",
       "                    print(\"Matrix is not invertible.\")\n",
       "\n",
       "            def trans_callback(trans_task):\n",
       "                trans_matrix = trans_task.result\n",
       "                print(\"Transposed Matrix:\")\n",
       "                print(trans_matrix)\n",
       "\n",
       "            inv_task.set_result_callback(inv_callback)\n",
       "            trans_task.set_result_callback(trans_callback)\n",
       "\n",
       "            coordinator.submit(inv_task)\n",
       "            coordinator.submit(trans_task)\n",
       "        \n",
       "        task.set_result_callback(callback)\n",
       "        coordinator.submit(task)\n",
       "\n",
       "    coordinator.run()\n",
       "\n",
       "if __name__ == \"__main__\":\n",
       "    m = int(input(\"Enter the number of rows (m): \"))\n",
       "    n = int(input(\"Enter the number of columns (n): \"))\n",
       "    i = int(input(\"Enter the number of matrices to generate (i): \"))\n",
       "    \n",
       "    main(m, n, i)\n",
       "```"
      ],
      "text/plain": [
       "<IPython.core.display.Markdown object>"
      ]
     },
     "metadata": {},
     "output_type": "display_data"
    },
    {
     "name": "stdout",
     "output_type": "stream",
     "text": [
      "Write a Python TaskVine application to perform matrix inversion and transposition. The matrix computations must be defined in Python functions and added to a TaskVine library called \"matrix_library\". The user must specify the size, m x n,  of the matrix and the number of matrices, i, on which to perform computation. The application must randomly generate i matrices and for each matrix, print the matrix, print the inverse matrix, and print the transposed matrix.\n"
     ]
    },
    {
     "data": {
      "text/markdown": [
       "```python\n",
       "import numpy as np\n",
       "import ndcctools.taskvine as vine\n",
       "import random\n",
       "\n",
       "def generate_matrix(m, n):\n",
       "    return np.random.rand(m, n)\n",
       "\n",
       "def invert_matrix(matrix):\n",
       "    try:\n",
       "        inv_matrix = np.linalg.inv(matrix)\n",
       "    except np.linalg.LinAlgError:\n",
       "        # Matrix is not invertible\n",
       "        inv_matrix = None\n",
       "    return inv_matrix\n",
       "\n",
       "def transpose_matrix(matrix):\n",
       "    return np.transpose(matrix)\n",
       "\n",
       "def main(m, n, i):\n",
       "    # Creating a library for matrix operations\n",
       "    library = vine.Library('matrix_library')\n",
       "    library.add_function(generate_matrix)\n",
       "    library.add_function(invert_matrix)\n",
       "    library.add_function(transpose_matrix)\n",
       "    \n",
       "    # Start the coordinator\n",
       "    coordinator = vine.Coordinator()\n",
       "    coordinator.add_library(library)\n",
       "\n",
       "    for _ in range(i):\n",
       "        task = vine.Task('matrix_library::generate_matrix', m, n)\n",
       "        \n",
       "        def callback(task):\n",
       "            matrix = task.result\n",
       "\n",
       "            print(\"Original Matrix:\")\n",
       "            print(matrix)\n",
       "\n",
       "            inv_task = vine.Task('matrix_library::invert_matrix', matrix)\n",
       "            trans_task = vine.Task('matrix_library::transpose_matrix', matrix)\n",
       "            \n",
       "            def inv_callback(inv_task):\n",
       "                inv_matrix = inv_task.result\n",
       "                if inv_matrix is not None:\n",
       "                    print(\"Inverse Matrix:\")\n",
       "                    print(inv_matrix)\n",
       "                else:\n",
       "                    print(\"Matrix is not invertible.\")\n",
       "\n",
       "            def trans_callback(trans_task):\n",
       "                trans_matrix = trans_task.result\n",
       "                print(\"Transposed Matrix:\")\n",
       "                print(trans_matrix)\n",
       "\n",
       "            inv_task.set_result_callback(inv_callback)\n",
       "            trans_task.set_result_callback(trans_callback)\n",
       "\n",
       "            coordinator.submit(inv_task)\n",
       "            coordinator.submit(trans_task)\n",
       "        \n",
       "        task.set_result_callback(callback)\n",
       "        coordinator.submit(task)\n",
       "\n",
       "    coordinator.run()\n",
       "\n",
       "if __name__ == \"__main__\":\n",
       "    m = int(input(\"Enter the number of rows (m): \"))\n",
       "    n = int(input(\"Enter the number of columns (n): \"))\n",
       "    i = int(input(\"Enter the number of matrices to generate (i): \"))\n",
       "    \n",
       "    main(m, n, i)\n",
       "```"
      ],
      "text/plain": [
       "<IPython.core.display.Markdown object>"
      ]
     },
     "metadata": {},
     "output_type": "display_data"
    },
    {
     "name": "stdout",
     "output_type": "stream",
     "text": [
      "Write a Python TaskVine application to perform matrix inversion and transposition. The matrix computations must be defined in Python functions and added to a TaskVine library called \"matrix_library\". The user must specify the size, m x n,  of the matrix and the number of matrices, i, on which to perform computation. The application must randomly generate i matrices and for each matrix, print the matrix, print the inverse matrix, and print the transposed matrix.\n"
     ]
    },
    {
     "data": {
      "text/markdown": [
       "```python\n",
       "import numpy as np\n",
       "import ndcctools.taskvine as vine\n",
       "import random\n",
       "\n",
       "def generate_matrix(m, n):\n",
       "    return np.random.rand(m, n)\n",
       "\n",
       "def invert_matrix(matrix):\n",
       "    try:\n",
       "        inv_matrix = np.linalg.inv(matrix)\n",
       "    except np.linalg.LinAlgError:\n",
       "        # Matrix is not invertible\n",
       "        inv_matrix = None\n",
       "    return inv_matrix\n",
       "\n",
       "def transpose_matrix(matrix):\n",
       "    return np.transpose(matrix)\n",
       "\n",
       "def main(m, n, i):\n",
       "    # Creating a library for matrix operations\n",
       "    library = vine.Library('matrix_library')\n",
       "    library.add_function(generate_matrix)\n",
       "    library.add_function(invert_matrix)\n",
       "    library.add_function(transpose_matrix)\n",
       "    \n",
       "    # Start the coordinator\n",
       "    coordinator = vine.Coordinator()\n",
       "    coordinator.add_library(library)\n",
       "\n",
       "    for _ in range(i):\n",
       "        task = vine.Task('matrix_library::generate_matrix', m, n)\n",
       "        \n",
       "        def callback(task):\n",
       "            matrix = task.result\n",
       "\n",
       "            print(\"Original Matrix:\")\n",
       "            print(matrix)\n",
       "\n",
       "            inv_task = vine.Task('matrix_library::invert_matrix', matrix)\n",
       "            trans_task = vine.Task('matrix_library::transpose_matrix', matrix)\n",
       "            \n",
       "            def inv_callback(inv_task):\n",
       "                inv_matrix = inv_task.result\n",
       "                if inv_matrix is not None:\n",
       "                    print(\"Inverse Matrix:\")\n",
       "                    print(inv_matrix)\n",
       "                else:\n",
       "                    print(\"Matrix is not invertible.\")\n",
       "\n",
       "            def trans_callback(trans_task):\n",
       "                trans_matrix = trans_task.result\n",
       "                print(\"Transposed Matrix:\")\n",
       "                print(trans_matrix)\n",
       "\n",
       "            inv_task.set_result_callback(inv_callback)\n",
       "            trans_task.set_result_callback(trans_callback)\n",
       "\n",
       "            coordinator.submit(inv_task)\n",
       "            coordinator.submit(trans_task)\n",
       "        \n",
       "        task.set_result_callback(callback)\n",
       "        coordinator.submit(task)\n",
       "\n",
       "    coordinator.run()\n",
       "\n",
       "if __name__ == \"__main__\":\n",
       "    m = int(input(\"Enter the number of rows (m): \"))\n",
       "    n = int(input(\"Enter the number of columns (n): \"))\n",
       "    i = int(input(\"Enter the number of matrices to generate (i): \"))\n",
       "    \n",
       "    main(m, n, i)\n",
       "```"
      ],
      "text/plain": [
       "<IPython.core.display.Markdown object>"
      ]
     },
     "metadata": {},
     "output_type": "display_data"
    },
    {
     "name": "stdout",
     "output_type": "stream",
     "text": [
      "Write a Python TaskVine application to perform matrix inversion and transposition. The matrix computations must be defined in Python functions and added to a TaskVine library called \"matrix_library\". The user must specify the size, m x n,  of the matrix and the number of matrices, i, on which to perform computation. The application must randomly generate i matrices and for each matrix, print the matrix, print the inverse matrix, and print the transposed matrix.\n"
     ]
    },
    {
     "data": {
      "text/markdown": [
       "```python\n",
       "import numpy as np\n",
       "import ndcctools.taskvine as vine\n",
       "import random\n",
       "\n",
       "def generate_matrix(m, n):\n",
       "    return np.random.rand(m, n)\n",
       "\n",
       "def invert_matrix(matrix):\n",
       "    try:\n",
       "        inv_matrix = np.linalg.inv(matrix)\n",
       "    except np.linalg.LinAlgError:\n",
       "        # Matrix is not invertible\n",
       "        inv_matrix = None\n",
       "    return inv_matrix\n",
       "\n",
       "def transpose_matrix(matrix):\n",
       "    return np.transpose(matrix)\n",
       "\n",
       "def main(m, n, i):\n",
       "    # Creating a library for matrix operations\n",
       "    library = vine.Library('matrix_library')\n",
       "    library.add_function(generate_matrix)\n",
       "    library.add_function(invert_matrix)\n",
       "    library.add_function(transpose_matrix)\n",
       "    \n",
       "    # Start the coordinator\n",
       "    coordinator = vine.Coordinator()\n",
       "    coordinator.add_library(library)\n",
       "\n",
       "    for _ in range(i):\n",
       "        task = vine.Task('matrix_library::generate_matrix', m, n)\n",
       "        \n",
       "        def callback(task):\n",
       "            matrix = task.result\n",
       "\n",
       "            print(\"Original Matrix:\")\n",
       "            print(matrix)\n",
       "\n",
       "            inv_task = vine.Task('matrix_library::invert_matrix', matrix)\n",
       "            trans_task = vine.Task('matrix_library::transpose_matrix', matrix)\n",
       "            \n",
       "            def inv_callback(inv_task):\n",
       "                inv_matrix = inv_task.result\n",
       "                if inv_matrix is not None:\n",
       "                    print(\"Inverse Matrix:\")\n",
       "                    print(inv_matrix)\n",
       "                else:\n",
       "                    print(\"Matrix is not invertible.\")\n",
       "\n",
       "            def trans_callback(trans_task):\n",
       "                trans_matrix = trans_task.result\n",
       "                print(\"Transposed Matrix:\")\n",
       "                print(trans_matrix)\n",
       "\n",
       "            inv_task.set_result_callback(inv_callback)\n",
       "            trans_task.set_result_callback(trans_callback)\n",
       "\n",
       "            coordinator.submit(inv_task)\n",
       "            coordinator.submit(trans_task)\n",
       "        \n",
       "        task.set_result_callback(callback)\n",
       "        coordinator.submit(task)\n",
       "\n",
       "    coordinator.run()\n",
       "\n",
       "if __name__ == \"__main__\":\n",
       "    m = int(input(\"Enter the number of rows (m): \"))\n",
       "    n = int(input(\"Enter the number of columns (n): \"))\n",
       "    i = int(input(\"Enter the number of matrices to generate (i): \"))\n",
       "    \n",
       "    main(m, n, i)\n",
       "```"
      ],
      "text/plain": [
       "<IPython.core.display.Markdown object>"
      ]
     },
     "metadata": {},
     "output_type": "display_data"
    },
    {
     "name": "stdout",
     "output_type": "stream",
     "text": [
      "Write a Python TaskVine application to perform matrix inversion and transposition. The matrix computations must be defined in Python functions and added to a TaskVine library called \"matrix_library\". The user must specify the size, m x n,  of the matrix and the number of matrices, i, on which to perform computation. The application must randomly generate i matrices and for each matrix, print the matrix, print the inverse matrix, and print the transposed matrix.\n"
     ]
    },
    {
     "data": {
      "text/markdown": [
       "```python\n",
       "import numpy as np\n",
       "import ndcctools.taskvine as vine\n",
       "import random\n",
       "\n",
       "def generate_matrix(m, n):\n",
       "    return np.random.rand(m, n)\n",
       "\n",
       "def invert_matrix(matrix):\n",
       "    try:\n",
       "        inv_matrix = np.linalg.inv(matrix)\n",
       "    except np.linalg.LinAlgError:\n",
       "        # Matrix is not invertible\n",
       "        inv_matrix = None\n",
       "    return inv_matrix\n",
       "\n",
       "def transpose_matrix(matrix):\n",
       "    return np.transpose(matrix)\n",
       "\n",
       "def main(m, n, i):\n",
       "    # Creating a library for matrix operations\n",
       "    library = vine.Library('matrix_library')\n",
       "    library.add_function(generate_matrix)\n",
       "    library.add_function(invert_matrix)\n",
       "    library.add_function(transpose_matrix)\n",
       "    \n",
       "    # Start the coordinator\n",
       "    coordinator = vine.Coordinator()\n",
       "    coordinator.add_library(library)\n",
       "\n",
       "    for _ in range(i):\n",
       "        task = vine.Task('matrix_library::generate_matrix', m, n)\n",
       "        \n",
       "        def callback(task):\n",
       "            matrix = task.result\n",
       "\n",
       "            print(\"Original Matrix:\")\n",
       "            print(matrix)\n",
       "\n",
       "            inv_task = vine.Task('matrix_library::invert_matrix', matrix)\n",
       "            trans_task = vine.Task('matrix_library::transpose_matrix', matrix)\n",
       "            \n",
       "            def inv_callback(inv_task):\n",
       "                inv_matrix = inv_task.result\n",
       "                if inv_matrix is not None:\n",
       "                    print(\"Inverse Matrix:\")\n",
       "                    print(inv_matrix)\n",
       "                else:\n",
       "                    print(\"Matrix is not invertible.\")\n",
       "\n",
       "            def trans_callback(trans_task):\n",
       "                trans_matrix = trans_task.result\n",
       "                print(\"Transposed Matrix:\")\n",
       "                print(trans_matrix)\n",
       "\n",
       "            inv_task.set_result_callback(inv_callback)\n",
       "            trans_task.set_result_callback(trans_callback)\n",
       "\n",
       "            coordinator.submit(inv_task)\n",
       "            coordinator.submit(trans_task)\n",
       "        \n",
       "        task.set_result_callback(callback)\n",
       "        coordinator.submit(task)\n",
       "\n",
       "    coordinator.run()\n",
       "\n",
       "if __name__ == \"__main__\":\n",
       "    m = int(input(\"Enter the number of rows (m): \"))\n",
       "    n = int(input(\"Enter the number of columns (n): \"))\n",
       "    i = int(input(\"Enter the number of matrices to generate (i): \"))\n",
       "    \n",
       "    main(m, n, i)\n",
       "```"
      ],
      "text/plain": [
       "<IPython.core.display.Markdown object>"
      ]
     },
     "metadata": {},
     "output_type": "display_data"
    },
    {
     "name": "stdout",
     "output_type": "stream",
     "text": [
      "Write a Python TaskVine application to perform matrix inversion and transposition. The matrix computations must be defined in Python functions and added to a TaskVine library called \"matrix_library\". The user must specify the size, m x n,  of the matrix and the number of matrices, i, on which to perform computation. The application must randomly generate i matrices and for each matrix, print the matrix, print the inverse matrix, and print the transposed matrix.\n"
     ]
    },
    {
     "data": {
      "text/markdown": [
       "```python\n",
       "import numpy as np\n",
       "import ndcctools.taskvine as vine\n",
       "import random\n",
       "\n",
       "def generate_matrix(m, n):\n",
       "    return np.random.rand(m, n)\n",
       "\n",
       "def invert_matrix(matrix):\n",
       "    try:\n",
       "        inv_matrix = np.linalg.inv(matrix)\n",
       "    except np.linalg.LinAlgError:\n",
       "        # Matrix is not invertible\n",
       "        inv_matrix = None\n",
       "    return inv_matrix\n",
       "\n",
       "def transpose_matrix(matrix):\n",
       "    return np.transpose(matrix)\n",
       "\n",
       "def main(m, n, i):\n",
       "    # Creating a library for matrix operations\n",
       "    library = vine.Library('matrix_library')\n",
       "    library.add_function(generate_matrix)\n",
       "    library.add_function(invert_matrix)\n",
       "    library.add_function(transpose_matrix)\n",
       "    \n",
       "    # Start the coordinator\n",
       "    coordinator = vine.Coordinator()\n",
       "    coordinator.add_library(library)\n",
       "\n",
       "    for _ in range(i):\n",
       "        task = vine.Task('matrix_library::generate_matrix', m, n)\n",
       "        \n",
       "        def callback(task):\n",
       "            matrix = task.result\n",
       "\n",
       "            print(\"Original Matrix:\")\n",
       "            print(matrix)\n",
       "\n",
       "            inv_task = vine.Task('matrix_library::invert_matrix', matrix)\n",
       "            trans_task = vine.Task('matrix_library::transpose_matrix', matrix)\n",
       "            \n",
       "            def inv_callback(inv_task):\n",
       "                inv_matrix = inv_task.result\n",
       "                if inv_matrix is not None:\n",
       "                    print(\"Inverse Matrix:\")\n",
       "                    print(inv_matrix)\n",
       "                else:\n",
       "                    print(\"Matrix is not invertible.\")\n",
       "\n",
       "            def trans_callback(trans_task):\n",
       "                trans_matrix = trans_task.result\n",
       "                print(\"Transposed Matrix:\")\n",
       "                print(trans_matrix)\n",
       "\n",
       "            inv_task.set_result_callback(inv_callback)\n",
       "            trans_task.set_result_callback(trans_callback)\n",
       "\n",
       "            coordinator.submit(inv_task)\n",
       "            coordinator.submit(trans_task)\n",
       "        \n",
       "        task.set_result_callback(callback)\n",
       "        coordinator.submit(task)\n",
       "\n",
       "    coordinator.run()\n",
       "\n",
       "if __name__ == \"__main__\":\n",
       "    m = int(input(\"Enter the number of rows (m): \"))\n",
       "    n = int(input(\"Enter the number of columns (n): \"))\n",
       "    i = int(input(\"Enter the number of matrices to generate (i): \"))\n",
       "    \n",
       "    main(m, n, i)\n",
       "```"
      ],
      "text/plain": [
       "<IPython.core.display.Markdown object>"
      ]
     },
     "metadata": {},
     "output_type": "display_data"
    },
    {
     "name": "stdout",
     "output_type": "stream",
     "text": [
      "Write a Python TaskVine application to perform matrix inversion and transposition. The matrix computations must be defined in Python functions and added to a TaskVine library called \"matrix_library\". The user must specify the size, m x n,  of the matrix and the number of matrices, i, on which to perform computation. The application must randomly generate i matrices and for each matrix, print the matrix, print the inverse matrix, and print the transposed matrix.\n"
     ]
    },
    {
     "data": {
      "text/markdown": [
       "```python\n",
       "import numpy as np\n",
       "import ndcctools.taskvine as vine\n",
       "import random\n",
       "\n",
       "def generate_matrix(m, n):\n",
       "    return np.random.rand(m, n)\n",
       "\n",
       "def invert_matrix(matrix):\n",
       "    try:\n",
       "        inv_matrix = np.linalg.inv(matrix)\n",
       "    except np.linalg.LinAlgError:\n",
       "        # Matrix is not invertible\n",
       "        inv_matrix = None\n",
       "    return inv_matrix\n",
       "\n",
       "def transpose_matrix(matrix):\n",
       "    return np.transpose(matrix)\n",
       "\n",
       "def main(m, n, i):\n",
       "    # Creating a library for matrix operations\n",
       "    library = vine.Library('matrix_library')\n",
       "    library.add_function(generate_matrix)\n",
       "    library.add_function(invert_matrix)\n",
       "    library.add_function(transpose_matrix)\n",
       "    \n",
       "    # Start the coordinator\n",
       "    coordinator = vine.Coordinator()\n",
       "    coordinator.add_library(library)\n",
       "\n",
       "    for _ in range(i):\n",
       "        task = vine.Task('matrix_library::generate_matrix', m, n)\n",
       "        \n",
       "        def callback(task):\n",
       "            matrix = task.result\n",
       "\n",
       "            print(\"Original Matrix:\")\n",
       "            print(matrix)\n",
       "\n",
       "            inv_task = vine.Task('matrix_library::invert_matrix', matrix)\n",
       "            trans_task = vine.Task('matrix_library::transpose_matrix', matrix)\n",
       "            \n",
       "            def inv_callback(inv_task):\n",
       "                inv_matrix = inv_task.result\n",
       "                if inv_matrix is not None:\n",
       "                    print(\"Inverse Matrix:\")\n",
       "                    print(inv_matrix)\n",
       "                else:\n",
       "                    print(\"Matrix is not invertible.\")\n",
       "\n",
       "            def trans_callback(trans_task):\n",
       "                trans_matrix = trans_task.result\n",
       "                print(\"Transposed Matrix:\")\n",
       "                print(trans_matrix)\n",
       "\n",
       "            inv_task.set_result_callback(inv_callback)\n",
       "            trans_task.set_result_callback(trans_callback)\n",
       "\n",
       "            coordinator.submit(inv_task)\n",
       "            coordinator.submit(trans_task)\n",
       "        \n",
       "        task.set_result_callback(callback)\n",
       "        coordinator.submit(task)\n",
       "\n",
       "    coordinator.run()\n",
       "\n",
       "if __name__ == \"__main__\":\n",
       "    m = int(input(\"Enter the number of rows (m): \"))\n",
       "    n = int(input(\"Enter the number of columns (n): \"))\n",
       "    i = int(input(\"Enter the number of matrices to generate (i): \"))\n",
       "    \n",
       "    main(m, n, i)\n",
       "```"
      ],
      "text/plain": [
       "<IPython.core.display.Markdown object>"
      ]
     },
     "metadata": {},
     "output_type": "display_data"
    },
    {
     "name": "stdout",
     "output_type": "stream",
     "text": [
      "Write a Python TaskVine application to perform matrix inversion and transposition. The matrix computations must be defined in Python functions and added to a TaskVine library called \"matrix_library\". The user must specify the size, m x n,  of the matrix and the number of matrices, i, on which to perform computation. The application must randomly generate i matrices and for each matrix, print the matrix, print the inverse matrix, and print the transposed matrix.\n"
     ]
    },
    {
     "data": {
      "text/markdown": [
       "```python\n",
       "import numpy as np\n",
       "import ndcctools.taskvine as vine\n",
       "import random\n",
       "\n",
       "def generate_matrix(m, n):\n",
       "    return np.random.rand(m, n)\n",
       "\n",
       "def invert_matrix(matrix):\n",
       "    try:\n",
       "        inv_matrix = np.linalg.inv(matrix)\n",
       "    except np.linalg.LinAlgError:\n",
       "        # Matrix is not invertible\n",
       "        inv_matrix = None\n",
       "    return inv_matrix\n",
       "\n",
       "def transpose_matrix(matrix):\n",
       "    return np.transpose(matrix)\n",
       "\n",
       "def main(m, n, i):\n",
       "    # Creating a library for matrix operations\n",
       "    library = vine.Library('matrix_library')\n",
       "    library.add_function(generate_matrix)\n",
       "    library.add_function(invert_matrix)\n",
       "    library.add_function(transpose_matrix)\n",
       "    \n",
       "    # Start the coordinator\n",
       "    coordinator = vine.Coordinator()\n",
       "    coordinator.add_library(library)\n",
       "\n",
       "    for _ in range(i):\n",
       "        task = vine.Task('matrix_library::generate_matrix', m, n)\n",
       "        \n",
       "        def callback(task):\n",
       "            matrix = task.result\n",
       "\n",
       "            print(\"Original Matrix:\")\n",
       "            print(matrix)\n",
       "\n",
       "            inv_task = vine.Task('matrix_library::invert_matrix', matrix)\n",
       "            trans_task = vine.Task('matrix_library::transpose_matrix', matrix)\n",
       "            \n",
       "            def inv_callback(inv_task):\n",
       "                inv_matrix = inv_task.result\n",
       "                if inv_matrix is not None:\n",
       "                    print(\"Inverse Matrix:\")\n",
       "                    print(inv_matrix)\n",
       "                else:\n",
       "                    print(\"Matrix is not invertible.\")\n",
       "\n",
       "            def trans_callback(trans_task):\n",
       "                trans_matrix = trans_task.result\n",
       "                print(\"Transposed Matrix:\")\n",
       "                print(trans_matrix)\n",
       "\n",
       "            inv_task.set_result_callback(inv_callback)\n",
       "            trans_task.set_result_callback(trans_callback)\n",
       "\n",
       "            coordinator.submit(inv_task)\n",
       "            coordinator.submit(trans_task)\n",
       "        \n",
       "        task.set_result_callback(callback)\n",
       "        coordinator.submit(task)\n",
       "\n",
       "    coordinator.run()\n",
       "\n",
       "if __name__ == \"__main__\":\n",
       "    m = int(input(\"Enter the number of rows (m): \"))\n",
       "    n = int(input(\"Enter the number of columns (n): \"))\n",
       "    i = int(input(\"Enter the number of matrices to generate (i): \"))\n",
       "    \n",
       "    main(m, n, i)\n",
       "```"
      ],
      "text/plain": [
       "<IPython.core.display.Markdown object>"
      ]
     },
     "metadata": {},
     "output_type": "display_data"
    },
    {
     "name": "stdout",
     "output_type": "stream",
     "text": [
      "Write a Python TaskVine application to perform matrix inversion and transposition. The matrix computations must be defined in Python functions and added to a TaskVine library called \"matrix_library\". The user must specify the size, m x n,  of the matrix and the number of matrices, i, on which to perform computation. The application must randomly generate i matrices and for each matrix, print the matrix, print the inverse matrix, and print the transposed matrix.\n"
     ]
    },
    {
     "data": {
      "text/markdown": [
       "```python\n",
       "import numpy as np\n",
       "import ndcctools.taskvine as vine\n",
       "import random\n",
       "\n",
       "def generate_matrix(m, n):\n",
       "    return np.random.rand(m, n)\n",
       "\n",
       "def invert_matrix(matrix):\n",
       "    try:\n",
       "        inv_matrix = np.linalg.inv(matrix)\n",
       "    except np.linalg.LinAlgError:\n",
       "        # Matrix is not invertible\n",
       "        inv_matrix = None\n",
       "    return inv_matrix\n",
       "\n",
       "def transpose_matrix(matrix):\n",
       "    return np.transpose(matrix)\n",
       "\n",
       "def main(m, n, i):\n",
       "    # Creating a library for matrix operations\n",
       "    library = vine.Library('matrix_library')\n",
       "    library.add_function(generate_matrix)\n",
       "    library.add_function(invert_matrix)\n",
       "    library.add_function(transpose_matrix)\n",
       "    \n",
       "    # Start the coordinator\n",
       "    coordinator = vine.Coordinator()\n",
       "    coordinator.add_library(library)\n",
       "\n",
       "    for _ in range(i):\n",
       "        task = vine.Task('matrix_library::generate_matrix', m, n)\n",
       "        \n",
       "        def callback(task):\n",
       "            matrix = task.result\n",
       "\n",
       "            print(\"Original Matrix:\")\n",
       "            print(matrix)\n",
       "\n",
       "            inv_task = vine.Task('matrix_library::invert_matrix', matrix)\n",
       "            trans_task = vine.Task('matrix_library::transpose_matrix', matrix)\n",
       "            \n",
       "            def inv_callback(inv_task):\n",
       "                inv_matrix = inv_task.result\n",
       "                if inv_matrix is not None:\n",
       "                    print(\"Inverse Matrix:\")\n",
       "                    print(inv_matrix)\n",
       "                else:\n",
       "                    print(\"Matrix is not invertible.\")\n",
       "\n",
       "            def trans_callback(trans_task):\n",
       "                trans_matrix = trans_task.result\n",
       "                print(\"Transposed Matrix:\")\n",
       "                print(trans_matrix)\n",
       "\n",
       "            inv_task.set_result_callback(inv_callback)\n",
       "            trans_task.set_result_callback(trans_callback)\n",
       "\n",
       "            coordinator.submit(inv_task)\n",
       "            coordinator.submit(trans_task)\n",
       "        \n",
       "        task.set_result_callback(callback)\n",
       "        coordinator.submit(task)\n",
       "\n",
       "    coordinator.run()\n",
       "\n",
       "if __name__ == \"__main__\":\n",
       "    m = int(input(\"Enter the number of rows (m): \"))\n",
       "    n = int(input(\"Enter the number of columns (n): \"))\n",
       "    i = int(input(\"Enter the number of matrices to generate (i): \"))\n",
       "    \n",
       "    main(m, n, i)\n",
       "```"
      ],
      "text/plain": [
       "<IPython.core.display.Markdown object>"
      ]
     },
     "metadata": {},
     "output_type": "display_data"
    },
    {
     "name": "stdout",
     "output_type": "stream",
     "text": [
      "Write a Python Taskvine application to fetch the titles of multiple news webpages. The webpage contents must be downloaded asynchronously using the TaskVine futures executor. Print the URL and title of each webpage in order of the completion of each task. The webpages I am interested in are \"https://abcnews.com\", \"https://apnews.com\", \"https://axios.com\", \"https://cnn.com\", \"https://nbcnews.com\", \"https://nytimes.com\", \"https://reuters.com\", \"https://washingtonpost.com\", \"https://wsj.com\".\n"
     ]
    },
    {
     "data": {
      "text/markdown": [
       "```python\n",
       "import requests\n",
       "from ndcctools.taskvine.futures import Executor\n",
       "\n",
       "# List of URLs to fetch titles from\n",
       "urls = [\n",
       "    \"https://abcnews.com\",\n",
       "    \"https://apnews.com\",\n",
       "    \"https://axios.com\",\n",
       "    \"https://cnn.com\",\n",
       "    \"https://nbcnews.com\",\n",
       "    \"https://nytimes.com\",\n",
       "    \"https://reuters.com\",\n",
       "    \"https://washingtonpost.com\",\n",
       "    \"https://wsj.com\"\n",
       "]\n",
       "\n",
       "def fetch_title(url):\n",
       "    \"\"\"Fetch the HTML content of a webpage and extract its title.\"\"\"\n",
       "    try:\n",
       "        response = requests.get(url, timeout=10)\n",
       "        response.raise_for_status()\n",
       "        \n",
       "        # Searching for the title tag\n",
       "        if \"<title>\" in response.text:\n",
       "            start = response.text.find(\"<title>\") + len(\"<title>\")\n",
       "            end = response.text.find(\"</title>\", start)\n",
       "            title = response.text[start:end].strip()\n",
       "            return url, title\n",
       "        else:\n",
       "            return url, \"No title tag found\"\n",
       "    except requests.RequestException as e:\n",
       "        return url, f\"Request failed: {e}\"\n",
       "\n",
       "# Use TaskVine Executor for asynchronous execution\n",
       "with Executor() as executor:\n",
       "    # Submit tasks asynchronously\n",
       "    futures = {executor.submit(fetch_title, url): url for url in urls}\n",
       "\n",
       "    # Print results as tasks complete\n",
       "    for future in futures:\n",
       "        url, title = future.result()\n",
       "        print(f\"URL: {url}, Title: {title}\")\n",
       "```"
      ],
      "text/plain": [
       "<IPython.core.display.Markdown object>"
      ]
     },
     "metadata": {},
     "output_type": "display_data"
    },
    {
     "name": "stdout",
     "output_type": "stream",
     "text": [
      "Write a Python Taskvine application to fetch the titles of multiple news webpages. The webpage contents must be downloaded asynchronously using the TaskVine futures executor. Print the URL and title of each webpage in order of the completion of each task. The webpages I am interested in are \"https://abcnews.com\", \"https://apnews.com\", \"https://axios.com\", \"https://cnn.com\", \"https://nbcnews.com\", \"https://nytimes.com\", \"https://reuters.com\", \"https://washingtonpost.com\", \"https://wsj.com\".\n"
     ]
    },
    {
     "data": {
      "text/markdown": [
       "```python\n",
       "import requests\n",
       "from ndcctools.taskvine.futures import Executor\n",
       "\n",
       "# List of URLs to fetch titles from\n",
       "urls = [\n",
       "    \"https://abcnews.com\",\n",
       "    \"https://apnews.com\",\n",
       "    \"https://axios.com\",\n",
       "    \"https://cnn.com\",\n",
       "    \"https://nbcnews.com\",\n",
       "    \"https://nytimes.com\",\n",
       "    \"https://reuters.com\",\n",
       "    \"https://washingtonpost.com\",\n",
       "    \"https://wsj.com\"\n",
       "]\n",
       "\n",
       "def fetch_title(url):\n",
       "    \"\"\"Fetch the HTML content of a webpage and extract its title.\"\"\"\n",
       "    try:\n",
       "        response = requests.get(url, timeout=10)\n",
       "        response.raise_for_status()\n",
       "        \n",
       "        # Searching for the title tag\n",
       "        if \"<title>\" in response.text:\n",
       "            start = response.text.find(\"<title>\") + len(\"<title>\")\n",
       "            end = response.text.find(\"</title>\", start)\n",
       "            title = response.text[start:end].strip()\n",
       "            return url, title\n",
       "        else:\n",
       "            return url, \"No title tag found\"\n",
       "    except requests.RequestException as e:\n",
       "        return url, f\"Request failed: {e}\"\n",
       "\n",
       "# Use TaskVine Executor for asynchronous execution\n",
       "with Executor() as executor:\n",
       "    # Submit tasks asynchronously\n",
       "    futures = {executor.submit(fetch_title, url): url for url in urls}\n",
       "\n",
       "    # Print results as tasks complete\n",
       "    for future in futures:\n",
       "        url, title = future.result()\n",
       "        print(f\"URL: {url}, Title: {title}\")\n",
       "```"
      ],
      "text/plain": [
       "<IPython.core.display.Markdown object>"
      ]
     },
     "metadata": {},
     "output_type": "display_data"
    },
    {
     "name": "stdout",
     "output_type": "stream",
     "text": [
      "Write a Python Taskvine application to fetch the titles of multiple news webpages. The webpage contents must be downloaded asynchronously using the TaskVine futures executor. Print the URL and title of each webpage in order of the completion of each task. The webpages I am interested in are \"https://abcnews.com\", \"https://apnews.com\", \"https://axios.com\", \"https://cnn.com\", \"https://nbcnews.com\", \"https://nytimes.com\", \"https://reuters.com\", \"https://washingtonpost.com\", \"https://wsj.com\".\n"
     ]
    },
    {
     "data": {
      "text/markdown": [
       "```python\n",
       "import requests\n",
       "from ndcctools.taskvine.futures import Executor\n",
       "\n",
       "# List of URLs to fetch titles from\n",
       "urls = [\n",
       "    \"https://abcnews.com\",\n",
       "    \"https://apnews.com\",\n",
       "    \"https://axios.com\",\n",
       "    \"https://cnn.com\",\n",
       "    \"https://nbcnews.com\",\n",
       "    \"https://nytimes.com\",\n",
       "    \"https://reuters.com\",\n",
       "    \"https://washingtonpost.com\",\n",
       "    \"https://wsj.com\"\n",
       "]\n",
       "\n",
       "def fetch_title(url):\n",
       "    \"\"\"Fetch the HTML content of a webpage and extract its title.\"\"\"\n",
       "    try:\n",
       "        response = requests.get(url, timeout=10)\n",
       "        response.raise_for_status()\n",
       "        \n",
       "        # Searching for the title tag\n",
       "        if \"<title>\" in response.text:\n",
       "            start = response.text.find(\"<title>\") + len(\"<title>\")\n",
       "            end = response.text.find(\"</title>\", start)\n",
       "            title = response.text[start:end].strip()\n",
       "            return url, title\n",
       "        else:\n",
       "            return url, \"No title tag found\"\n",
       "    except requests.RequestException as e:\n",
       "        return url, f\"Request failed: {e}\"\n",
       "\n",
       "# Use TaskVine Executor for asynchronous execution\n",
       "with Executor() as executor:\n",
       "    # Submit tasks asynchronously\n",
       "    futures = {executor.submit(fetch_title, url): url for url in urls}\n",
       "\n",
       "    # Print results as tasks complete\n",
       "    for future in futures:\n",
       "        url, title = future.result()\n",
       "        print(f\"URL: {url}, Title: {title}\")\n",
       "```"
      ],
      "text/plain": [
       "<IPython.core.display.Markdown object>"
      ]
     },
     "metadata": {},
     "output_type": "display_data"
    },
    {
     "name": "stdout",
     "output_type": "stream",
     "text": [
      "Write a Python Taskvine application to fetch the titles of multiple news webpages. The webpage contents must be downloaded asynchronously using the TaskVine futures executor. Print the URL and title of each webpage in order of the completion of each task. The webpages I am interested in are \"https://abcnews.com\", \"https://apnews.com\", \"https://axios.com\", \"https://cnn.com\", \"https://nbcnews.com\", \"https://nytimes.com\", \"https://reuters.com\", \"https://washingtonpost.com\", \"https://wsj.com\".\n"
     ]
    },
    {
     "data": {
      "text/markdown": [
       "```python\n",
       "import requests\n",
       "from ndcctools.taskvine.futures import Executor\n",
       "\n",
       "# List of URLs to fetch titles from\n",
       "urls = [\n",
       "    \"https://abcnews.com\",\n",
       "    \"https://apnews.com\",\n",
       "    \"https://axios.com\",\n",
       "    \"https://cnn.com\",\n",
       "    \"https://nbcnews.com\",\n",
       "    \"https://nytimes.com\",\n",
       "    \"https://reuters.com\",\n",
       "    \"https://washingtonpost.com\",\n",
       "    \"https://wsj.com\"\n",
       "]\n",
       "\n",
       "def fetch_title(url):\n",
       "    \"\"\"Fetch the HTML content of a webpage and extract its title.\"\"\"\n",
       "    try:\n",
       "        response = requests.get(url, timeout=10)\n",
       "        response.raise_for_status()\n",
       "        \n",
       "        # Searching for the title tag\n",
       "        if \"<title>\" in response.text:\n",
       "            start = response.text.find(\"<title>\") + len(\"<title>\")\n",
       "            end = response.text.find(\"</title>\", start)\n",
       "            title = response.text[start:end].strip()\n",
       "            return url, title\n",
       "        else:\n",
       "            return url, \"No title tag found\"\n",
       "    except requests.RequestException as e:\n",
       "        return url, f\"Request failed: {e}\"\n",
       "\n",
       "# Use TaskVine Executor for asynchronous execution\n",
       "with Executor() as executor:\n",
       "    # Submit tasks asynchronously\n",
       "    futures = {executor.submit(fetch_title, url): url for url in urls}\n",
       "\n",
       "    # Print results as tasks complete\n",
       "    for future in futures:\n",
       "        url, title = future.result()\n",
       "        print(f\"URL: {url}, Title: {title}\")\n",
       "```"
      ],
      "text/plain": [
       "<IPython.core.display.Markdown object>"
      ]
     },
     "metadata": {},
     "output_type": "display_data"
    },
    {
     "name": "stdout",
     "output_type": "stream",
     "text": [
      "Write a Python Taskvine application to fetch the titles of multiple news webpages. The webpage contents must be downloaded asynchronously using the TaskVine futures executor. Print the URL and title of each webpage in order of the completion of each task. The webpages I am interested in are \"https://abcnews.com\", \"https://apnews.com\", \"https://axios.com\", \"https://cnn.com\", \"https://nbcnews.com\", \"https://nytimes.com\", \"https://reuters.com\", \"https://washingtonpost.com\", \"https://wsj.com\".\n"
     ]
    },
    {
     "data": {
      "text/markdown": [
       "```python\n",
       "import requests\n",
       "from ndcctools.taskvine.futures import Executor\n",
       "\n",
       "# List of URLs to fetch titles from\n",
       "urls = [\n",
       "    \"https://abcnews.com\",\n",
       "    \"https://apnews.com\",\n",
       "    \"https://axios.com\",\n",
       "    \"https://cnn.com\",\n",
       "    \"https://nbcnews.com\",\n",
       "    \"https://nytimes.com\",\n",
       "    \"https://reuters.com\",\n",
       "    \"https://washingtonpost.com\",\n",
       "    \"https://wsj.com\"\n",
       "]\n",
       "\n",
       "def fetch_title(url):\n",
       "    \"\"\"Fetch the HTML content of a webpage and extract its title.\"\"\"\n",
       "    try:\n",
       "        response = requests.get(url, timeout=10)\n",
       "        response.raise_for_status()\n",
       "        \n",
       "        # Searching for the title tag\n",
       "        if \"<title>\" in response.text:\n",
       "            start = response.text.find(\"<title>\") + len(\"<title>\")\n",
       "            end = response.text.find(\"</title>\", start)\n",
       "            title = response.text[start:end].strip()\n",
       "            return url, title\n",
       "        else:\n",
       "            return url, \"No title tag found\"\n",
       "    except requests.RequestException as e:\n",
       "        return url, f\"Request failed: {e}\"\n",
       "\n",
       "# Use TaskVine Executor for asynchronous execution\n",
       "with Executor() as executor:\n",
       "    # Submit tasks asynchronously\n",
       "    futures = {executor.submit(fetch_title, url): url for url in urls}\n",
       "\n",
       "    # Print results as tasks complete\n",
       "    for future in futures:\n",
       "        url, title = future.result()\n",
       "        print(f\"URL: {url}, Title: {title}\")\n",
       "```"
      ],
      "text/plain": [
       "<IPython.core.display.Markdown object>"
      ]
     },
     "metadata": {},
     "output_type": "display_data"
    },
    {
     "name": "stdout",
     "output_type": "stream",
     "text": [
      "Write a Python Taskvine application to fetch the titles of multiple news webpages. The webpage contents must be downloaded asynchronously using the TaskVine futures executor. Print the URL and title of each webpage in order of the completion of each task. The webpages I am interested in are \"https://abcnews.com\", \"https://apnews.com\", \"https://axios.com\", \"https://cnn.com\", \"https://nbcnews.com\", \"https://nytimes.com\", \"https://reuters.com\", \"https://washingtonpost.com\", \"https://wsj.com\".\n"
     ]
    },
    {
     "data": {
      "text/markdown": [
       "```python\n",
       "import requests\n",
       "from ndcctools.taskvine.futures import Executor\n",
       "\n",
       "# List of URLs to fetch titles from\n",
       "urls = [\n",
       "    \"https://abcnews.com\",\n",
       "    \"https://apnews.com\",\n",
       "    \"https://axios.com\",\n",
       "    \"https://cnn.com\",\n",
       "    \"https://nbcnews.com\",\n",
       "    \"https://nytimes.com\",\n",
       "    \"https://reuters.com\",\n",
       "    \"https://washingtonpost.com\",\n",
       "    \"https://wsj.com\"\n",
       "]\n",
       "\n",
       "def fetch_title(url):\n",
       "    \"\"\"Fetch the HTML content of a webpage and extract its title.\"\"\"\n",
       "    try:\n",
       "        response = requests.get(url, timeout=10)\n",
       "        response.raise_for_status()\n",
       "        \n",
       "        # Searching for the title tag\n",
       "        if \"<title>\" in response.text:\n",
       "            start = response.text.find(\"<title>\") + len(\"<title>\")\n",
       "            end = response.text.find(\"</title>\", start)\n",
       "            title = response.text[start:end].strip()\n",
       "            return url, title\n",
       "        else:\n",
       "            return url, \"No title tag found\"\n",
       "    except requests.RequestException as e:\n",
       "        return url, f\"Request failed: {e}\"\n",
       "\n",
       "# Use TaskVine Executor for asynchronous execution\n",
       "with Executor() as executor:\n",
       "    # Submit tasks asynchronously\n",
       "    futures = {executor.submit(fetch_title, url): url for url in urls}\n",
       "\n",
       "    # Print results as tasks complete\n",
       "    for future in futures:\n",
       "        url, title = future.result()\n",
       "        print(f\"URL: {url}, Title: {title}\")\n",
       "```"
      ],
      "text/plain": [
       "<IPython.core.display.Markdown object>"
      ]
     },
     "metadata": {},
     "output_type": "display_data"
    },
    {
     "name": "stdout",
     "output_type": "stream",
     "text": [
      "Write a Python Taskvine application to fetch the titles of multiple news webpages. The webpage contents must be downloaded asynchronously using the TaskVine futures executor. Print the URL and title of each webpage in order of the completion of each task. The webpages I am interested in are \"https://abcnews.com\", \"https://apnews.com\", \"https://axios.com\", \"https://cnn.com\", \"https://nbcnews.com\", \"https://nytimes.com\", \"https://reuters.com\", \"https://washingtonpost.com\", \"https://wsj.com\".\n"
     ]
    },
    {
     "data": {
      "text/markdown": [
       "```python\n",
       "import requests\n",
       "from ndcctools.taskvine.futures import Executor\n",
       "\n",
       "# List of URLs to fetch titles from\n",
       "urls = [\n",
       "    \"https://abcnews.com\",\n",
       "    \"https://apnews.com\",\n",
       "    \"https://axios.com\",\n",
       "    \"https://cnn.com\",\n",
       "    \"https://nbcnews.com\",\n",
       "    \"https://nytimes.com\",\n",
       "    \"https://reuters.com\",\n",
       "    \"https://washingtonpost.com\",\n",
       "    \"https://wsj.com\"\n",
       "]\n",
       "\n",
       "def fetch_title(url):\n",
       "    \"\"\"Fetch the HTML content of a webpage and extract its title.\"\"\"\n",
       "    try:\n",
       "        response = requests.get(url, timeout=10)\n",
       "        response.raise_for_status()\n",
       "        \n",
       "        # Searching for the title tag\n",
       "        if \"<title>\" in response.text:\n",
       "            start = response.text.find(\"<title>\") + len(\"<title>\")\n",
       "            end = response.text.find(\"</title>\", start)\n",
       "            title = response.text[start:end].strip()\n",
       "            return url, title\n",
       "        else:\n",
       "            return url, \"No title tag found\"\n",
       "    except requests.RequestException as e:\n",
       "        return url, f\"Request failed: {e}\"\n",
       "\n",
       "# Use TaskVine Executor for asynchronous execution\n",
       "with Executor() as executor:\n",
       "    # Submit tasks asynchronously\n",
       "    futures = {executor.submit(fetch_title, url): url for url in urls}\n",
       "\n",
       "    # Print results as tasks complete\n",
       "    for future in futures:\n",
       "        url, title = future.result()\n",
       "        print(f\"URL: {url}, Title: {title}\")\n",
       "```"
      ],
      "text/plain": [
       "<IPython.core.display.Markdown object>"
      ]
     },
     "metadata": {},
     "output_type": "display_data"
    },
    {
     "name": "stdout",
     "output_type": "stream",
     "text": [
      "Write a Python Taskvine application to fetch the titles of multiple news webpages. The webpage contents must be downloaded asynchronously using the TaskVine futures executor. Print the URL and title of each webpage in order of the completion of each task. The webpages I am interested in are \"https://abcnews.com\", \"https://apnews.com\", \"https://axios.com\", \"https://cnn.com\", \"https://nbcnews.com\", \"https://nytimes.com\", \"https://reuters.com\", \"https://washingtonpost.com\", \"https://wsj.com\".\n"
     ]
    },
    {
     "data": {
      "text/markdown": [
       "```python\n",
       "import requests\n",
       "from ndcctools.taskvine.futures import Executor\n",
       "\n",
       "# List of URLs to fetch titles from\n",
       "urls = [\n",
       "    \"https://abcnews.com\",\n",
       "    \"https://apnews.com\",\n",
       "    \"https://axios.com\",\n",
       "    \"https://cnn.com\",\n",
       "    \"https://nbcnews.com\",\n",
       "    \"https://nytimes.com\",\n",
       "    \"https://reuters.com\",\n",
       "    \"https://washingtonpost.com\",\n",
       "    \"https://wsj.com\"\n",
       "]\n",
       "\n",
       "def fetch_title(url):\n",
       "    \"\"\"Fetch the HTML content of a webpage and extract its title.\"\"\"\n",
       "    try:\n",
       "        response = requests.get(url, timeout=10)\n",
       "        response.raise_for_status()\n",
       "        \n",
       "        # Searching for the title tag\n",
       "        if \"<title>\" in response.text:\n",
       "            start = response.text.find(\"<title>\") + len(\"<title>\")\n",
       "            end = response.text.find(\"</title>\", start)\n",
       "            title = response.text[start:end].strip()\n",
       "            return url, title\n",
       "        else:\n",
       "            return url, \"No title tag found\"\n",
       "    except requests.RequestException as e:\n",
       "        return url, f\"Request failed: {e}\"\n",
       "\n",
       "# Use TaskVine Executor for asynchronous execution\n",
       "with Executor() as executor:\n",
       "    # Submit tasks asynchronously\n",
       "    futures = {executor.submit(fetch_title, url): url for url in urls}\n",
       "\n",
       "    # Print results as tasks complete\n",
       "    for future in futures:\n",
       "        url, title = future.result()\n",
       "        print(f\"URL: {url}, Title: {title}\")\n",
       "```"
      ],
      "text/plain": [
       "<IPython.core.display.Markdown object>"
      ]
     },
     "metadata": {},
     "output_type": "display_data"
    },
    {
     "name": "stdout",
     "output_type": "stream",
     "text": [
      "Write a Python Taskvine application to fetch the titles of multiple news webpages. The webpage contents must be downloaded asynchronously using the TaskVine futures executor. Print the URL and title of each webpage in order of the completion of each task. The webpages I am interested in are \"https://abcnews.com\", \"https://apnews.com\", \"https://axios.com\", \"https://cnn.com\", \"https://nbcnews.com\", \"https://nytimes.com\", \"https://reuters.com\", \"https://washingtonpost.com\", \"https://wsj.com\".\n"
     ]
    },
    {
     "data": {
      "text/markdown": [
       "```python\n",
       "import requests\n",
       "from ndcctools.taskvine.futures import Executor\n",
       "\n",
       "# List of URLs to fetch titles from\n",
       "urls = [\n",
       "    \"https://abcnews.com\",\n",
       "    \"https://apnews.com\",\n",
       "    \"https://axios.com\",\n",
       "    \"https://cnn.com\",\n",
       "    \"https://nbcnews.com\",\n",
       "    \"https://nytimes.com\",\n",
       "    \"https://reuters.com\",\n",
       "    \"https://washingtonpost.com\",\n",
       "    \"https://wsj.com\"\n",
       "]\n",
       "\n",
       "def fetch_title(url):\n",
       "    \"\"\"Fetch the HTML content of a webpage and extract its title.\"\"\"\n",
       "    try:\n",
       "        response = requests.get(url, timeout=10)\n",
       "        response.raise_for_status()\n",
       "        \n",
       "        # Searching for the title tag\n",
       "        if \"<title>\" in response.text:\n",
       "            start = response.text.find(\"<title>\") + len(\"<title>\")\n",
       "            end = response.text.find(\"</title>\", start)\n",
       "            title = response.text[start:end].strip()\n",
       "            return url, title\n",
       "        else:\n",
       "            return url, \"No title tag found\"\n",
       "    except requests.RequestException as e:\n",
       "        return url, f\"Request failed: {e}\"\n",
       "\n",
       "# Use TaskVine Executor for asynchronous execution\n",
       "with Executor() as executor:\n",
       "    # Submit tasks asynchronously\n",
       "    futures = {executor.submit(fetch_title, url): url for url in urls}\n",
       "\n",
       "    # Print results as tasks complete\n",
       "    for future in futures:\n",
       "        url, title = future.result()\n",
       "        print(f\"URL: {url}, Title: {title}\")\n",
       "```"
      ],
      "text/plain": [
       "<IPython.core.display.Markdown object>"
      ]
     },
     "metadata": {},
     "output_type": "display_data"
    },
    {
     "name": "stdout",
     "output_type": "stream",
     "text": [
      "Write a Python Taskvine application to fetch the titles of multiple news webpages. The webpage contents must be downloaded asynchronously using the TaskVine futures executor. Print the URL and title of each webpage in order of the completion of each task. The webpages I am interested in are \"https://abcnews.com\", \"https://apnews.com\", \"https://axios.com\", \"https://cnn.com\", \"https://nbcnews.com\", \"https://nytimes.com\", \"https://reuters.com\", \"https://washingtonpost.com\", \"https://wsj.com\".\n"
     ]
    },
    {
     "data": {
      "text/markdown": [
       "```python\n",
       "import requests\n",
       "from ndcctools.taskvine.futures import Executor\n",
       "\n",
       "# List of URLs to fetch titles from\n",
       "urls = [\n",
       "    \"https://abcnews.com\",\n",
       "    \"https://apnews.com\",\n",
       "    \"https://axios.com\",\n",
       "    \"https://cnn.com\",\n",
       "    \"https://nbcnews.com\",\n",
       "    \"https://nytimes.com\",\n",
       "    \"https://reuters.com\",\n",
       "    \"https://washingtonpost.com\",\n",
       "    \"https://wsj.com\"\n",
       "]\n",
       "\n",
       "def fetch_title(url):\n",
       "    \"\"\"Fetch the HTML content of a webpage and extract its title.\"\"\"\n",
       "    try:\n",
       "        response = requests.get(url, timeout=10)\n",
       "        response.raise_for_status()\n",
       "        \n",
       "        # Searching for the title tag\n",
       "        if \"<title>\" in response.text:\n",
       "            start = response.text.find(\"<title>\") + len(\"<title>\")\n",
       "            end = response.text.find(\"</title>\", start)\n",
       "            title = response.text[start:end].strip()\n",
       "            return url, title\n",
       "        else:\n",
       "            return url, \"No title tag found\"\n",
       "    except requests.RequestException as e:\n",
       "        return url, f\"Request failed: {e}\"\n",
       "\n",
       "# Use TaskVine Executor for asynchronous execution\n",
       "with Executor() as executor:\n",
       "    # Submit tasks asynchronously\n",
       "    futures = {executor.submit(fetch_title, url): url for url in urls}\n",
       "\n",
       "    # Print results as tasks complete\n",
       "    for future in futures:\n",
       "        url, title = future.result()\n",
       "        print(f\"URL: {url}, Title: {title}\")\n",
       "```"
      ],
      "text/plain": [
       "<IPython.core.display.Markdown object>"
      ]
     },
     "metadata": {},
     "output_type": "display_data"
    },
    {
     "name": "stdout",
     "output_type": "stream",
     "text": [
      "Write a Python TaskVine application to get the current date on a worker machine. The date must be stored to an output file named \"current_date\". To prevent an unwanted worker from connecting to the manager, use the password stored in the file \"taskvine.password\". Further, encrypt communication between the manager and worker with SSL using the \"key.pem\" and \"certificate.pem\" files.\n"
     ]
    },
    {
     "data": {
      "text/markdown": [
       "```python\n",
       "import taskvine\n",
       "\n",
       "def main():\n",
       "    # Initialize the manager\n",
       "    manager = taskvine.Manager()\n",
       "\n",
       "    # Set the password for worker authentication\n",
       "    with open(\"taskvine.password\", \"r\") as f:\n",
       "        password = f.read().strip()\n",
       "    manager.set_password(password)\n",
       "\n",
       "    # Enable SSL encryption with given key and certificate\n",
       "    manager.enable_ssl(\"key.pem\", \"certificate.pem\")\n",
       "\n",
       "    # Create a task that gets the current date\n",
       "    task = taskvine.Task()\n",
       "    task.set_name(\"get_current_date\")\n",
       "    task.set_execute(\"date\")\n",
       "    task.set_output(\"current_date\")\n",
       "\n",
       "    # Submit the task\n",
       "    manager.submit(task)\n",
       "\n",
       "    # Wait for all tasks to complete\n",
       "    manager.wait_for_all()\n",
       "\n",
       "    # Finish the manager session\n",
       "    manager.shutdown()\n",
       "\n",
       "if __name__ == \"__main__\":\n",
       "    main()\n",
       "```"
      ],
      "text/plain": [
       "<IPython.core.display.Markdown object>"
      ]
     },
     "metadata": {},
     "output_type": "display_data"
    },
    {
     "name": "stdout",
     "output_type": "stream",
     "text": [
      "Write a Python TaskVine application to get the current date on a worker machine. The date must be stored to an output file named \"current_date\". To prevent an unwanted worker from connecting to the manager, use the password stored in the file \"taskvine.password\". Further, encrypt communication between the manager and worker with SSL using the \"key.pem\" and \"certificate.pem\" files.\n"
     ]
    },
    {
     "data": {
      "text/markdown": [
       "```python\n",
       "import taskvine\n",
       "\n",
       "def main():\n",
       "    # Initialize the manager\n",
       "    manager = taskvine.Manager()\n",
       "\n",
       "    # Set the password for worker authentication\n",
       "    with open(\"taskvine.password\", \"r\") as f:\n",
       "        password = f.read().strip()\n",
       "    manager.set_password(password)\n",
       "\n",
       "    # Enable SSL encryption with given key and certificate\n",
       "    manager.enable_ssl(\"key.pem\", \"certificate.pem\")\n",
       "\n",
       "    # Create a task that gets the current date\n",
       "    task = taskvine.Task()\n",
       "    task.set_name(\"get_current_date\")\n",
       "    task.set_execute(\"date\")\n",
       "    task.set_output(\"current_date\")\n",
       "\n",
       "    # Submit the task\n",
       "    manager.submit(task)\n",
       "\n",
       "    # Wait for all tasks to complete\n",
       "    manager.wait_for_all()\n",
       "\n",
       "    # Finish the manager session\n",
       "    manager.shutdown()\n",
       "\n",
       "if __name__ == \"__main__\":\n",
       "    main()\n",
       "```"
      ],
      "text/plain": [
       "<IPython.core.display.Markdown object>"
      ]
     },
     "metadata": {},
     "output_type": "display_data"
    },
    {
     "name": "stdout",
     "output_type": "stream",
     "text": [
      "Write a Python TaskVine application to get the current date on a worker machine. The date must be stored to an output file named \"current_date\". To prevent an unwanted worker from connecting to the manager, use the password stored in the file \"taskvine.password\". Further, encrypt communication between the manager and worker with SSL using the \"key.pem\" and \"certificate.pem\" files.\n"
     ]
    },
    {
     "data": {
      "text/markdown": [
       "```python\n",
       "import taskvine\n",
       "\n",
       "def main():\n",
       "    # Initialize the manager\n",
       "    manager = taskvine.Manager()\n",
       "\n",
       "    # Set the password for worker authentication\n",
       "    with open(\"taskvine.password\", \"r\") as f:\n",
       "        password = f.read().strip()\n",
       "    manager.set_password(password)\n",
       "\n",
       "    # Enable SSL encryption with given key and certificate\n",
       "    manager.enable_ssl(\"key.pem\", \"certificate.pem\")\n",
       "\n",
       "    # Create a task that gets the current date\n",
       "    task = taskvine.Task()\n",
       "    task.set_name(\"get_current_date\")\n",
       "    task.set_execute(\"date\")\n",
       "    task.set_output(\"current_date\")\n",
       "\n",
       "    # Submit the task\n",
       "    manager.submit(task)\n",
       "\n",
       "    # Wait for all tasks to complete\n",
       "    manager.wait_for_all()\n",
       "\n",
       "    # Finish the manager session\n",
       "    manager.shutdown()\n",
       "\n",
       "if __name__ == \"__main__\":\n",
       "    main()\n",
       "```"
      ],
      "text/plain": [
       "<IPython.core.display.Markdown object>"
      ]
     },
     "metadata": {},
     "output_type": "display_data"
    },
    {
     "name": "stdout",
     "output_type": "stream",
     "text": [
      "Write a Python TaskVine application to get the current date on a worker machine. The date must be stored to an output file named \"current_date\". To prevent an unwanted worker from connecting to the manager, use the password stored in the file \"taskvine.password\". Further, encrypt communication between the manager and worker with SSL using the \"key.pem\" and \"certificate.pem\" files.\n"
     ]
    },
    {
     "data": {
      "text/markdown": [
       "```python\n",
       "import taskvine\n",
       "\n",
       "def main():\n",
       "    # Initialize the manager\n",
       "    manager = taskvine.Manager()\n",
       "\n",
       "    # Set the password for worker authentication\n",
       "    with open(\"taskvine.password\", \"r\") as f:\n",
       "        password = f.read().strip()\n",
       "    manager.set_password(password)\n",
       "\n",
       "    # Enable SSL encryption with given key and certificate\n",
       "    manager.enable_ssl(\"key.pem\", \"certificate.pem\")\n",
       "\n",
       "    # Create a task that gets the current date\n",
       "    task = taskvine.Task()\n",
       "    task.set_name(\"get_current_date\")\n",
       "    task.set_execute(\"date\")\n",
       "    task.set_output(\"current_date\")\n",
       "\n",
       "    # Submit the task\n",
       "    manager.submit(task)\n",
       "\n",
       "    # Wait for all tasks to complete\n",
       "    manager.wait_for_all()\n",
       "\n",
       "    # Finish the manager session\n",
       "    manager.shutdown()\n",
       "\n",
       "if __name__ == \"__main__\":\n",
       "    main()\n",
       "```"
      ],
      "text/plain": [
       "<IPython.core.display.Markdown object>"
      ]
     },
     "metadata": {},
     "output_type": "display_data"
    },
    {
     "name": "stdout",
     "output_type": "stream",
     "text": [
      "Write a Python TaskVine application to get the current date on a worker machine. The date must be stored to an output file named \"current_date\". To prevent an unwanted worker from connecting to the manager, use the password stored in the file \"taskvine.password\". Further, encrypt communication between the manager and worker with SSL using the \"key.pem\" and \"certificate.pem\" files.\n"
     ]
    },
    {
     "data": {
      "text/markdown": [
       "```python\n",
       "import taskvine\n",
       "\n",
       "def main():\n",
       "    # Initialize the manager\n",
       "    manager = taskvine.Manager()\n",
       "\n",
       "    # Set the password for worker authentication\n",
       "    with open(\"taskvine.password\", \"r\") as f:\n",
       "        password = f.read().strip()\n",
       "    manager.set_password(password)\n",
       "\n",
       "    # Enable SSL encryption with given key and certificate\n",
       "    manager.enable_ssl(\"key.pem\", \"certificate.pem\")\n",
       "\n",
       "    # Create a task that gets the current date\n",
       "    task = taskvine.Task()\n",
       "    task.set_name(\"get_current_date\")\n",
       "    task.set_execute(\"date\")\n",
       "    task.set_output(\"current_date\")\n",
       "\n",
       "    # Submit the task\n",
       "    manager.submit(task)\n",
       "\n",
       "    # Wait for all tasks to complete\n",
       "    manager.wait_for_all()\n",
       "\n",
       "    # Finish the manager session\n",
       "    manager.shutdown()\n",
       "\n",
       "if __name__ == \"__main__\":\n",
       "    main()\n",
       "```"
      ],
      "text/plain": [
       "<IPython.core.display.Markdown object>"
      ]
     },
     "metadata": {},
     "output_type": "display_data"
    },
    {
     "name": "stdout",
     "output_type": "stream",
     "text": [
      "Write a Python TaskVine application to get the current date on a worker machine. The date must be stored to an output file named \"current_date\". To prevent an unwanted worker from connecting to the manager, use the password stored in the file \"taskvine.password\". Further, encrypt communication between the manager and worker with SSL using the \"key.pem\" and \"certificate.pem\" files.\n"
     ]
    },
    {
     "data": {
      "text/markdown": [
       "```python\n",
       "import taskvine\n",
       "\n",
       "def main():\n",
       "    # Initialize the manager\n",
       "    manager = taskvine.Manager()\n",
       "\n",
       "    # Set the password for worker authentication\n",
       "    with open(\"taskvine.password\", \"r\") as f:\n",
       "        password = f.read().strip()\n",
       "    manager.set_password(password)\n",
       "\n",
       "    # Enable SSL encryption with given key and certificate\n",
       "    manager.enable_ssl(\"key.pem\", \"certificate.pem\")\n",
       "\n",
       "    # Create a task that gets the current date\n",
       "    task = taskvine.Task()\n",
       "    task.set_name(\"get_current_date\")\n",
       "    task.set_execute(\"date\")\n",
       "    task.set_output(\"current_date\")\n",
       "\n",
       "    # Submit the task\n",
       "    manager.submit(task)\n",
       "\n",
       "    # Wait for all tasks to complete\n",
       "    manager.wait_for_all()\n",
       "\n",
       "    # Finish the manager session\n",
       "    manager.shutdown()\n",
       "\n",
       "if __name__ == \"__main__\":\n",
       "    main()\n",
       "```"
      ],
      "text/plain": [
       "<IPython.core.display.Markdown object>"
      ]
     },
     "metadata": {},
     "output_type": "display_data"
    },
    {
     "name": "stdout",
     "output_type": "stream",
     "text": [
      "Write a Python TaskVine application to get the current date on a worker machine. The date must be stored to an output file named \"current_date\". To prevent an unwanted worker from connecting to the manager, use the password stored in the file \"taskvine.password\". Further, encrypt communication between the manager and worker with SSL using the \"key.pem\" and \"certificate.pem\" files.\n"
     ]
    },
    {
     "data": {
      "text/markdown": [
       "```python\n",
       "import taskvine\n",
       "\n",
       "def main():\n",
       "    # Initialize the manager\n",
       "    manager = taskvine.Manager()\n",
       "\n",
       "    # Set the password for worker authentication\n",
       "    with open(\"taskvine.password\", \"r\") as f:\n",
       "        password = f.read().strip()\n",
       "    manager.set_password(password)\n",
       "\n",
       "    # Enable SSL encryption with given key and certificate\n",
       "    manager.enable_ssl(\"key.pem\", \"certificate.pem\")\n",
       "\n",
       "    # Create a task that gets the current date\n",
       "    task = taskvine.Task()\n",
       "    task.set_name(\"get_current_date\")\n",
       "    task.set_execute(\"date\")\n",
       "    task.set_output(\"current_date\")\n",
       "\n",
       "    # Submit the task\n",
       "    manager.submit(task)\n",
       "\n",
       "    # Wait for all tasks to complete\n",
       "    manager.wait_for_all()\n",
       "\n",
       "    # Finish the manager session\n",
       "    manager.shutdown()\n",
       "\n",
       "if __name__ == \"__main__\":\n",
       "    main()\n",
       "```"
      ],
      "text/plain": [
       "<IPython.core.display.Markdown object>"
      ]
     },
     "metadata": {},
     "output_type": "display_data"
    },
    {
     "name": "stdout",
     "output_type": "stream",
     "text": [
      "Write a Python TaskVine application to get the current date on a worker machine. The date must be stored to an output file named \"current_date\". To prevent an unwanted worker from connecting to the manager, use the password stored in the file \"taskvine.password\". Further, encrypt communication between the manager and worker with SSL using the \"key.pem\" and \"certificate.pem\" files.\n"
     ]
    },
    {
     "data": {
      "text/markdown": [
       "```python\n",
       "import taskvine\n",
       "\n",
       "def main():\n",
       "    # Initialize the manager\n",
       "    manager = taskvine.Manager()\n",
       "\n",
       "    # Set the password for worker authentication\n",
       "    with open(\"taskvine.password\", \"r\") as f:\n",
       "        password = f.read().strip()\n",
       "    manager.set_password(password)\n",
       "\n",
       "    # Enable SSL encryption with given key and certificate\n",
       "    manager.enable_ssl(\"key.pem\", \"certificate.pem\")\n",
       "\n",
       "    # Create a task that gets the current date\n",
       "    task = taskvine.Task()\n",
       "    task.set_name(\"get_current_date\")\n",
       "    task.set_execute(\"date\")\n",
       "    task.set_output(\"current_date\")\n",
       "\n",
       "    # Submit the task\n",
       "    manager.submit(task)\n",
       "\n",
       "    # Wait for all tasks to complete\n",
       "    manager.wait_for_all()\n",
       "\n",
       "    # Finish the manager session\n",
       "    manager.shutdown()\n",
       "\n",
       "if __name__ == \"__main__\":\n",
       "    main()\n",
       "```"
      ],
      "text/plain": [
       "<IPython.core.display.Markdown object>"
      ]
     },
     "metadata": {},
     "output_type": "display_data"
    },
    {
     "name": "stdout",
     "output_type": "stream",
     "text": [
      "Write a Python TaskVine application to get the current date on a worker machine. The date must be stored to an output file named \"current_date\". To prevent an unwanted worker from connecting to the manager, use the password stored in the file \"taskvine.password\". Further, encrypt communication between the manager and worker with SSL using the \"key.pem\" and \"certificate.pem\" files.\n"
     ]
    },
    {
     "data": {
      "text/markdown": [
       "```python\n",
       "import taskvine\n",
       "\n",
       "def main():\n",
       "    # Initialize the manager\n",
       "    manager = taskvine.Manager()\n",
       "\n",
       "    # Set the password for worker authentication\n",
       "    with open(\"taskvine.password\", \"r\") as f:\n",
       "        password = f.read().strip()\n",
       "    manager.set_password(password)\n",
       "\n",
       "    # Enable SSL encryption with given key and certificate\n",
       "    manager.enable_ssl(\"key.pem\", \"certificate.pem\")\n",
       "\n",
       "    # Create a task that gets the current date\n",
       "    task = taskvine.Task()\n",
       "    task.set_name(\"get_current_date\")\n",
       "    task.set_execute(\"date\")\n",
       "    task.set_output(\"current_date\")\n",
       "\n",
       "    # Submit the task\n",
       "    manager.submit(task)\n",
       "\n",
       "    # Wait for all tasks to complete\n",
       "    manager.wait_for_all()\n",
       "\n",
       "    # Finish the manager session\n",
       "    manager.shutdown()\n",
       "\n",
       "if __name__ == \"__main__\":\n",
       "    main()\n",
       "```"
      ],
      "text/plain": [
       "<IPython.core.display.Markdown object>"
      ]
     },
     "metadata": {},
     "output_type": "display_data"
    },
    {
     "name": "stdout",
     "output_type": "stream",
     "text": [
      "Write a Python TaskVine application to get the current date on a worker machine. The date must be stored to an output file named \"current_date\". To prevent an unwanted worker from connecting to the manager, use the password stored in the file \"taskvine.password\". Further, encrypt communication between the manager and worker with SSL using the \"key.pem\" and \"certificate.pem\" files.\n"
     ]
    },
    {
     "data": {
      "text/markdown": [
       "```python\n",
       "import taskvine\n",
       "\n",
       "def main():\n",
       "    # Initialize the manager\n",
       "    manager = taskvine.Manager()\n",
       "\n",
       "    # Set the password for worker authentication\n",
       "    with open(\"taskvine.password\", \"r\") as f:\n",
       "        password = f.read().strip()\n",
       "    manager.set_password(password)\n",
       "\n",
       "    # Enable SSL encryption with given key and certificate\n",
       "    manager.enable_ssl(\"key.pem\", \"certificate.pem\")\n",
       "\n",
       "    # Create a task that gets the current date\n",
       "    task = taskvine.Task()\n",
       "    task.set_name(\"get_current_date\")\n",
       "    task.set_execute(\"date\")\n",
       "    task.set_output(\"current_date\")\n",
       "\n",
       "    # Submit the task\n",
       "    manager.submit(task)\n",
       "\n",
       "    # Wait for all tasks to complete\n",
       "    manager.wait_for_all()\n",
       "\n",
       "    # Finish the manager session\n",
       "    manager.shutdown()\n",
       "\n",
       "if __name__ == \"__main__\":\n",
       "    main()\n",
       "```"
      ],
      "text/plain": [
       "<IPython.core.display.Markdown object>"
      ]
     },
     "metadata": {},
     "output_type": "display_data"
    }
   ],
   "source": [
    "# Load prompts from file.\n",
    "with open(PROMPTS, \"r\") as fp:\n",
    "    prompts = json.load(fp)\n",
    "\n",
    "# Perform the zeroshot prompting.\n",
    "for prompt in prompts:\n",
    "    analyze(prompt)"
   ]
  },
  {
   "cell_type": "code",
   "execution_count": null,
   "id": "6d74246a-8abd-48de-af0f-976f7a39bc0f",
   "metadata": {},
   "outputs": [],
   "source": []
  }
 ],
 "metadata": {
  "kernelspec": {
   "display_name": "Python 3 (ipykernel)",
   "language": "python",
   "name": "python3"
  },
  "language_info": {
   "codemirror_mode": {
    "name": "ipython",
    "version": 3
   },
   "file_extension": ".py",
   "mimetype": "text/x-python",
   "name": "python",
   "nbconvert_exporter": "python",
   "pygments_lexer": "ipython3",
   "version": "3.12.5"
  }
 },
 "nbformat": 4,
 "nbformat_minor": 5
}
