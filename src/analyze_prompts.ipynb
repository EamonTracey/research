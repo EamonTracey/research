{
 "cells": [
  {
   "cell_type": "code",
   "execution_count": 1,
   "id": "b5d1df09-ef34-4115-8a71-8f76b98aaf8c",
   "metadata": {},
   "outputs": [],
   "source": [
    "# Import libraries.\n",
    "\n",
    "import json\n",
    "\n",
    "from IPython.display import Markdown, display"
   ]
  },
  {
   "cell_type": "code",
   "execution_count": 2,
   "id": "122ca430-78da-4388-95d8-af2e41bbf75c",
   "metadata": {},
   "outputs": [],
   "source": [
    "# Define parameters.\n",
    "\n",
    "PROMPTS = \"../data/prompts/zeroshot/taskvine_zeroshot_gpt4o_1.json\""
   ]
  },
  {
   "cell_type": "code",
   "execution_count": 3,
   "id": "56593ff3-41f1-4323-b088-3ad72feae9bf",
   "metadata": {},
   "outputs": [],
   "source": [
    "# Analyze a singular prompt.\n",
    "\n",
    "def analyze(prompt: dict):\n",
    "    print(prompt[\"content\"])\n",
    "    display(Markdown(prompt[\"response\"]))"
   ]
  },
  {
   "cell_type": "code",
   "execution_count": 4,
   "id": "71388e0a-7dd3-4dee-a935-eeae2d51dc0b",
   "metadata": {},
   "outputs": [
    {
     "name": "stdout",
     "output_type": "stream",
     "text": [
      "Write a Python TaskVine application to get the current date on a worker machine. The date must be stored to an output file named \"current_date\".\n"
     ]
    },
    {
     "data": {
      "text/markdown": [
       "```python\n",
       "from ndcctools.taskvine import Manager, Task\n",
       "\n",
       "# Create a Manager\n",
       "manager = Manager()\n",
       "\n",
       "# Define the command to get the current date and redirect it to \"current_date\"\n",
       "command = \"date > current_date\"\n",
       "\n",
       "# Create a Task with the command\n",
       "task = Task(command)\n",
       "\n",
       "# Specify the output file\n",
       "task.set_output_files([\"current_date\"])\n",
       "\n",
       "# Add the task to the manager\n",
       "manager.add_task(task)\n",
       "\n",
       "# Wait for all tasks to complete\n",
       "manager.wait_for_all()\n",
       "```"
      ],
      "text/plain": [
       "<IPython.core.display.Markdown object>"
      ]
     },
     "metadata": {},
     "output_type": "display_data"
    },
    {
     "name": "stdout",
     "output_type": "stream",
     "text": [
      "Write a Python TaskVine application to count the number of times the keywords \"wealth\", \"nation\", \"labour\", \"price\", \"nature\", and \"commodity\" appear in Adam Smith's Wealth of Nations. The text is available at \"https://www.gutenberg.org/cache/epub/3300/pg3300.txt\".\n"
     ]
    },
    {
     "data": {
      "text/markdown": [
       "```python\n",
       "import urllib.request\n",
       "from ndcctools.taskvine import Manager, Worker, Task\n",
       "\n",
       "# Define the URL of the text\n",
       "url = \"https://www.gutenberg.org/cache/epub/3300/pg3300.txt\"\n",
       "\n",
       "# Keywords to search for\n",
       "keywords = [\"wealth\", \"nation\", \"labour\", \"price\", \"nature\", \"commodity\"]\n",
       "\n",
       "def download_text(url):\n",
       "    # Download the text file\n",
       "    response = urllib.request.urlopen(url)\n",
       "    return response.read().decode('utf-8')\n",
       "\n",
       "def split_text(text, lines_per_chunk):\n",
       "    # Split the text into chunks\n",
       "    lines = text.splitlines()\n",
       "    for i in range(0, len(lines), lines_per_chunk):\n",
       "        yield \" \".join(lines[i:i+lines_per_chunk])\n",
       "\n",
       "def count_keywords(chunk, keywords):\n",
       "    # Count keywords in chunk\n",
       "    counts = {keyword: chunk.lower().count(keyword) for keyword in keywords}\n",
       "    return counts\n",
       "\n",
       "text = download_text(url)\n",
       "chunks = list(split_text(text, 1000))  # Splitting text into chunks of 1000 lines\n",
       "\n",
       "# Define the TaskVine Task Manager\n",
       "with Manager() as manager:\n",
       "    # Add a task for each chunk\n",
       "    for i, chunk in enumerate(chunks):\n",
       "        task = Task(command=f\"python3 -c 'import pickle; \"\n",
       "                            f\"c=pickle.load(open(\\\"chunk_{i}.pkl\\\", \\\"rb\\\")); \"\n",
       "                            f\"counts={{k:c.lower().count(k) for k in {keywords}}}; \"\n",
       "                            f\"pickle.dump(counts, open(\\\"result_{i}.pkl\\\", \\\"wb\\\"))'\")\n",
       "        \n",
       "        # Serialize chunk to a file\n",
       "        with open(f\"chunk_{i}.pkl\", \"wb\") as f:\n",
       "            pickle.dump(chunk, f)\n",
       "        \n",
       "        task.upload_files([f\"chunk_{i}.pkl\"])\n",
       "        task.download_output_files([f\"result_{i}.pkl\"])\n",
       "        manager.submit(task)\n",
       "    \n",
       "    # Wait for all tasks to complete\n",
       "    manager.wait_for_all()\n",
       "\n",
       "    # Collect results\n",
       "    total_counts = {keyword: 0 for keyword in keywords}\n",
       "\n",
       "    for i in range(len(chunks)):\n",
       "        with open(f\"result_{i}.pkl\", \"rb\") as f:\n",
       "            result = pickle.load(f)\n",
       "            for keyword, count in result.items():\n",
       "                total_counts[keyword] += count\n",
       "\n",
       "    # Print the total counts\n",
       "    print(\"Keyword counts in 'The Wealth of Nations':\")\n",
       "    for keyword, count in total_counts.items():\n",
       "        print(f\"{keyword}: {count}\")\n",
       "```\n"
      ],
      "text/plain": [
       "<IPython.core.display.Markdown object>"
      ]
     },
     "metadata": {},
     "output_type": "display_data"
    },
    {
     "name": "stdout",
     "output_type": "stream",
     "text": [
      "Write a Python TaskVine application to run my program \"script.sh\" with various input arguments and organizes all output data. \"script.sh\" takes, as input, an integer and two files. \"script.sh\" outputs a file named \"output{i}.txt\" where \"{i}\" is the input integer. The application must run \"script.sh\" with input integers 1-1000 and input files \"file1.input\" and \"file2.input\" which are stored in the directory \"script_inputs\". The application must store all output files in a directory named \"script_outputs\".\n"
     ]
    },
    {
     "data": {
      "text/markdown": [
       "```python\n",
       "import os\n",
       "from ndcctools.taskvine import Manager, Task\n",
       "\n",
       "# Create output directory if it doesn't exist\n",
       "os.makedirs(\"script_outputs\", exist_ok=True)\n",
       "\n",
       "# Initialize TaskVine manager\n",
       "manager = Manager()\n",
       "\n",
       "# Add input files to the manager for automatic staging\n",
       "manager.add_input_file(\"script_inputs/file1.input\")\n",
       "manager.add_input_file(\"script_inputs/file2.input\")\n",
       "manager.add_input_file(\"script.sh\")\n",
       "\n",
       "# Add tasks to the manager\n",
       "for i in range(1, 1001):\n",
       "    # Construct the output filename\n",
       "    output_file = f\"output{i}.txt\"\n",
       "\n",
       "    # Create a task to run script.sh with the specified arguments\n",
       "    task = Task(f\"./script.sh {i} file1.input file2.input\")\n",
       "    \n",
       "    # Set task's requirements\n",
       "    task.set_input_files([\"script_inputs/file1.input\", \"script_inputs/file2.input\"])\n",
       "    task.set_output_files([output_file], local_path=\"script_outputs/\")\n",
       "\n",
       "    # Add the task to the manager\n",
       "    manager.add_task(task)\n",
       "\n",
       "# Wait for all tasks to complete\n",
       "manager.wait_for_all()\n",
       "```"
      ],
      "text/plain": [
       "<IPython.core.display.Markdown object>"
      ]
     },
     "metadata": {},
     "output_type": "display_data"
    },
    {
     "name": "stdout",
     "output_type": "stream",
     "text": [
      "Write a Python TaskVine application to execute a pipeline of shell scripts. I have the script \"script1.sh\" which outputs a file named \"intermediary.out\" upon completion. I also have the scripts \"script2.sh\" and \"script3.sh\"  which both accept an input file as a command line argument. \"script2.sh\" and \"script3.sh\" must both receive \"intermediary.out\" as the input. Finally, \"script2.sh\" and \"script3.sh\" output files named \"script2.out\" and \"script3.out\", respectively. Save these outputs files on the host machine. \"intermediary.out\" need not be saved to the host machine.\n"
     ]
    },
    {
     "data": {
      "text/markdown": [
       "```python\n",
       "import ndcctools.taskvine as vine\n",
       "\n",
       "def main():\n",
       "    # Create a TaskVine manager\n",
       "    manager = vine.Manager()\n",
       "\n",
       "    # Define task for script1.sh\n",
       "    task1 = vine.Task(command=\"./script1.sh\")\n",
       "    task1.set_output(\"intermediary.out\")\n",
       "    manager.add_task(task1)\n",
       "\n",
       "    # Define task for script2.sh\n",
       "    task2 = vine.Task(command=\"./script2.sh intermediary.out\")\n",
       "    task2.add_input(\"intermediary.out\", producer=task1)\n",
       "    task2.set_output(\"script2.out\")\n",
       "    task2.publish_file(\"script2.out\")\n",
       "\n",
       "    # Define task for script3.sh\n",
       "    task3 = vine.Task(command=\"./script3.sh intermediary.out\")\n",
       "    task3.add_input(\"intermediary.out\", producer=task1)\n",
       "    task3.set_output(\"script3.out\")\n",
       "    task3.publish_file(\"script3.out\")\n",
       "\n",
       "    # Add tasks to manager\n",
       "    manager.add_task(task2)\n",
       "    manager.add_task(task3)\n",
       "\n",
       "    # Wait for all tasks to complete\n",
       "    manager.wait_for_tasks()\n",
       "\n",
       "    # Shutdown the manager\n",
       "    manager.shutdown()\n",
       "\n",
       "if __name__ == \"__main__\":\n",
       "    main()\n",
       "```\n"
      ],
      "text/plain": [
       "<IPython.core.display.Markdown object>"
      ]
     },
     "metadata": {},
     "output_type": "display_data"
    },
    {
     "name": "stdout",
     "output_type": "stream",
     "text": [
      "Write a Python TaskVine application to run my GPU-accelerated program. The program binary is stored at \"./train_demo\". The program requires that the worker machine has the feature \"NVIDIA RTX 4090\". Upon completion, the program outputs \"model.tar.gz\". The output file must be saved to the host machine.\n"
     ]
    },
    {
     "data": {
      "text/markdown": [
       "```python\n",
       "import ndcctools.taskvine as vine\n",
       "\n",
       "# Create a TaskVine application object\n",
       "app = vine.Application()\n",
       "\n",
       "# Define feature requirement for the worker\n",
       "features = {'NVIDIA RTX 4090'}\n",
       "\n",
       "# Create a task for the GPU-accelerated program\n",
       "task = vine.Task(\n",
       "    command='./train_demo',\n",
       "    inputs=[],                 # No input files\n",
       "    outputs=['model.tar.gz'],  # Output file\n",
       "    required_features=features # Worker needs this feature\n",
       ")\n",
       "\n",
       "# Add the task to the application\n",
       "app.add_task(task)\n",
       "\n",
       "# Wait for the tasks to complete\n",
       "app.run()\n",
       "\n",
       "# Fetch the output file back to the host\n",
       "app.fetch_output_files()\n",
       "```"
      ],
      "text/plain": [
       "<IPython.core.display.Markdown object>"
      ]
     },
     "metadata": {},
     "output_type": "display_data"
    },
    {
     "name": "stdout",
     "output_type": "stream",
     "text": [
      "Write a Python TaskVine application to compile and test my project stored at \"complex_project/\". To compile the project, run the \"make all\" command in the project's root directory. Then, to test the project, run \"make test\". The compilation and test must use at most 4 cores, 1024 MB of memory, and 2048 MB of disk. Enable resource monitoring to track resource usage, but do not terminate the task if it overuses resources. When the task completes, print the task's exit code and standard output. For each resource that the task overused, print the resource and by how much it overused.\n"
     ]
    },
    {
     "data": {
      "text/markdown": [
       "```python\n",
       "import ndcctools.taskvine as vine\n",
       "\n",
       "def run_task(command, run_dir, cores, memory, disk):\n",
       "    task = vine.Task(command)\n",
       "\n",
       "    # Set the directory from which the command will be run\n",
       "    task.set_input_directory(run_dir, \"\")\n",
       "\n",
       "    # Set the resource constraints\n",
       "    task.set_cores(cores)\n",
       "    task.set_memory(memory)\n",
       "    task.set_disk(disk)\n",
       "    \n",
       "    # Enable resource monitoring\n",
       "    task.enable_resource_monitoring()\n",
       "\n",
       "    return task\n",
       "\n",
       "def main():\n",
       "    # Create the TaskVine application\n",
       "    app = vine.Application()\n",
       "\n",
       "    # Run compilation task\n",
       "    compile_task = run_task(\"make all\", \"complex_project\", 4, 1024, 2048)\n",
       "    \n",
       "    # Add the compile task to the application\n",
       "    app.add_task(compile_task)\n",
       "\n",
       "    # Wait for the compile task to finish\n",
       "    compile_task.wait()\n",
       "    \n",
       "    print(\"Compile Task:\")\n",
       "    print(\"Exit Code:\", compile_task.exit_code())\n",
       "    print(\"Standard Output:\", compile_task.stdout().read().decode())\n",
       "\n",
       "    # Check if compile task overused resources\n",
       "    overused_resources = compile_task.overused_resources()\n",
       "    for resource, amount in overused_resources.items():\n",
       "        print(f\"Overused {resource}: {amount}\")\n",
       "\n",
       "    # If compilation was successful, run the test task\n",
       "    if compile_task.exit_code() == 0:\n",
       "        test_task = run_task(\"make test\", \"complex_project\", 4, 1024, 2048)\n",
       "\n",
       "        # Add the test task to the application\n",
       "        app.add_task(test_task)\n",
       "\n",
       "        # Wait for the test task to finish\n",
       "        test_task.wait()\n",
       "        \n",
       "        print(\"\\nTest Task:\")\n",
       "        print(\"Exit Code:\", test_task.exit_code())\n",
       "        print(\"Standard Output:\", test_task.stdout().read().decode())\n",
       "\n",
       "        # Check if test task overused resources\n",
       "        overused_resources = test_task.overused_resources()\n",
       "        for resource, amount in overused_resources.items():\n",
       "            print(f\"Overused {resource}: {amount}\")\n",
       "\n",
       "if __name__ == \"__main__\":\n",
       "    main()\n",
       "```"
      ],
      "text/plain": [
       "<IPython.core.display.Markdown object>"
      ]
     },
     "metadata": {},
     "output_type": "display_data"
    },
    {
     "name": "stdout",
     "output_type": "stream",
     "text": [
      "Write a Python TaskVine application that executes multiple programs with different levels of resource requirements. The two task categories must be named \"intensive\" and \"light\". The \"intensive\" tasks require 8 cores and 16 GB of memory. The \"light\" tasks require 1 core and 2 GB of memory. In the intensive category, submit 10 tasks to execute the shell script \"intensive.sh\". In the light category, submit 100 tasks to execute the shell script \"light.sh\" Print the standard output of each task upon completion.\n"
     ]
    },
    {
     "data": {
      "text/markdown": [
       "```python\n",
       "import ndcctools.taskvine as vine\n",
       "\n",
       "def main():\n",
       "    # Create a TaskVine Manager\n",
       "    manager = vine.Manager()\n",
       "\n",
       "    # Task resources for intensive and light tasks\n",
       "    intensive_cores = 8\n",
       "    intensive_memory = 16 * 1024  # Memory in MB\n",
       "    light_cores = 1\n",
       "    light_memory = 2 * 1024  # Memory in MB\n",
       "\n",
       "    # Create and submit intensive tasks\n",
       "    for i in range(10):\n",
       "        task = vine.Task(shell_command=\"./intensive.sh\")\n",
       "        task.add_resource(\"cores\", intensive_cores)\n",
       "        task.add_resource(\"memory\", intensive_memory)\n",
       "        task.tag = f\"intensive-{i}\"\n",
       "        manager.submit(task)\n",
       "\n",
       "    # Create and submit light tasks\n",
       "    for i in range(100):\n",
       "        task = vine.Task(shell_command=\"./light.sh\")\n",
       "        task.add_resource(\"cores\", light_cores)\n",
       "        task.add_resource(\"memory\", light_memory)\n",
       "        task.tag = f\"light-{i}\"\n",
       "        manager.submit(task)\n",
       "\n",
       "    # Process completed tasks\n",
       "    while not manager.empty():\n",
       "        finished_task = manager.wait(5)\n",
       "        if finished_task:\n",
       "            print(f\"Task {finished_task.tag} completed with output:\")\n",
       "            print(finished_task.stdout)\n",
       "\n",
       "    # Finalize the manager\n",
       "    manager.finish()\n",
       "\n",
       "if __name__ == \"__main__\":\n",
       "    main()\n",
       "```"
      ],
      "text/plain": [
       "<IPython.core.display.Markdown object>"
      ]
     },
     "metadata": {},
     "output_type": "display_data"
    },
    {
     "name": "stdout",
     "output_type": "stream",
     "text": [
      "Write a Python TaskVine application to perform matrix inversion and transposition. The matrix computations must be defined in Python functions and added to a TaskVine library called \"matrix_library\". The user must specify the size, m x n,  of the matrix and the number of matrices, i, on which to perform computation. The application must randomly generate i matrices and for each matrix, print the matrix, print the inverse matrix, and print the transposed matrix.\n"
     ]
    },
    {
     "data": {
      "text/markdown": [
       "```python\n",
       "import numpy as np\n",
       "from ndcctools import Taskvine\n",
       "\n",
       "# Define TaskVine library\n",
       "matrix_library = Taskvine.Library('matrix_library')\n",
       "\n",
       "# Define a function to invert a matrix\n",
       "@matrix_library.function(name='invert_matrix', version=1)\n",
       "def invert_matrix(matrix):\n",
       "    return np.linalg.inv(matrix)\n",
       "\n",
       "# Define a function to transpose a matrix\n",
       "@matrix_library.function(name='transpose_matrix', version=1)\n",
       "def transpose_matrix(matrix):\n",
       "    return np.transpose(matrix)\n",
       "\n",
       "# Function to generate random matrices and perform inversion and transposition\n",
       "def process_matrices(m, n, num_matrices):\n",
       "    for _ in range(num_matrices):\n",
       "        matrix = np.random.rand(m, n)\n",
       "        print(\"Original Matrix:\")\n",
       "        print(matrix)\n",
       "\n",
       "        # Perform inversion\n",
       "        task = Taskvine.Task()\n",
       "        inv_result = task.call(invert_matrix, matrix)\n",
       "        inverse_matrix = task.get_result(inv_result)\n",
       "        print(\"Inverted Matrix:\")\n",
       "        print(inverse_matrix)\n",
       "\n",
       "        # Perform transposition\n",
       "        task = Taskvine.Task()\n",
       "        trans_result = task.call(transpose_matrix, matrix)\n",
       "        transposed_matrix = task.get_result(trans_result)\n",
       "        print(\"Transposed Matrix:\")\n",
       "        print(transposed_matrix)\n",
       "\n",
       "# Main code to run the application\n",
       "if __name__ == \"__main__\":\n",
       "    m = int(input(\"Enter number of rows (m): \"))\n",
       "    n = int(input(\"Enter number of columns (n): \"))\n",
       "    i = int(input(\"Enter number of matrices (i): \"))\n",
       "    \n",
       "    # Initialize Taskvine\n",
       "    Taskvine.Server.initialize()\n",
       "    \n",
       "    try:\n",
       "        process_matrices(m, n, i)\n",
       "    finally:\n",
       "        Taskvine.Server.shutdown()\n",
       "```\n"
      ],
      "text/plain": [
       "<IPython.core.display.Markdown object>"
      ]
     },
     "metadata": {},
     "output_type": "display_data"
    },
    {
     "name": "stdout",
     "output_type": "stream",
     "text": [
      "Write a Python Taskvine application to fetch the titles of multiple news webpages. The webpage contents must be downloaded asynchronously using the TaskVine futures executor. Print the URL and title of each webpage in order of the completion of each task. The webpages I am interested in are \"https://abcnews.com\", \"https://apnews.com\", \"https://axios.com\", \"https://cnn.com\", \"https://nbcnews.com\", \"https://nytimes.com\", \"https://reuters.com\", \"https://washingtonpost.com\", \"https://wsj.com\".\n"
     ]
    },
    {
     "data": {
      "text/markdown": [
       "```python\n",
       "import requests\n",
       "from bs4 import BeautifulSoup\n",
       "from ndcctools.taskvine import Executor\n",
       "\n",
       "# List of URLs to fetch\n",
       "urls = [\n",
       "    \"https://abcnews.com\",\n",
       "    \"https://apnews.com\",\n",
       "    \"https://axios.com\",\n",
       "    \"https://cnn.com\",\n",
       "    \"https://nbcnews.com\",\n",
       "    \"https://nytimes.com\",\n",
       "    \"https://reuters.com\",\n",
       "    \"https://washingtonpost.com\",\n",
       "    \"https://wsj.com\"\n",
       "]\n",
       "\n",
       "def fetch_title(url):\n",
       "    \"\"\"Fetch the HTML content of a webpage and extract its title.\"\"\"\n",
       "    try:\n",
       "        response = requests.get(url, timeout=10)\n",
       "        response.raise_for_status()\n",
       "        soup = BeautifulSoup(response.content, 'html.parser')\n",
       "        title = soup.title.string if soup.title else 'No title found'\n",
       "        return url, title\n",
       "    except requests.RequestException as e:\n",
       "        return url, f'Error: {e}'\n",
       "\n",
       "def main():\n",
       "    with Executor() as executor:\n",
       "        futures = [executor.submit(fetch_title, url) for url in urls]\n",
       "        for future in executor.as_completed(futures):\n",
       "            url, title = future.result()\n",
       "            print(f\"URL: {url}, Title: {title}\")\n",
       "\n",
       "if __name__ == '__main__':\n",
       "    main()\n",
       "```\n"
      ],
      "text/plain": [
       "<IPython.core.display.Markdown object>"
      ]
     },
     "metadata": {},
     "output_type": "display_data"
    },
    {
     "name": "stdout",
     "output_type": "stream",
     "text": [
      "Write a Python TaskVine application to get the current date on a worker machine. The date must be stored to an output file named \"current_date\". To prevent an unwanted worker from connecting to the manager, use the password stored in the file \"taskvine.password\". Further, encrypt communication between the manager and worker with SSL using the \"key.pem\" and \"certificate.pem\" files.\n"
     ]
    },
    {
     "data": {
      "text/markdown": [
       "```python\n",
       "import ndcctools.taskvine as vine\n",
       "\n",
       "# Create a TaskVine manager\n",
       "manager = vine.Manager()\n",
       "\n",
       "# Set the manager password\n",
       "manager.set_password_file(\"taskvine.password\")\n",
       "\n",
       "# Set SSL options for encryption\n",
       "manager.set_ssl_options(\"certificate.pem\", \"key.pem\")\n",
       "\n",
       "# Define the command to get the date\n",
       "command = \"date > current_date\"\n",
       "\n",
       "# Create a TaskVine task\n",
       "task = vine.Task(command)\n",
       "\n",
       "# Add the task to the manager\n",
       "manager.submit(task)\n",
       "\n",
       "# Run the manager\n",
       "manager.run()\n",
       "```"
      ],
      "text/plain": [
       "<IPython.core.display.Markdown object>"
      ]
     },
     "metadata": {},
     "output_type": "display_data"
    }
   ],
   "source": [
    "# Load prompts from file.\n",
    "with open(PROMPTS, \"r\") as fp:\n",
    "    prompts = json.load(fp)\n",
    "\n",
    "# Perform the zeroshot prompting.\n",
    "for prompt in prompts:\n",
    "    analyze(prompt)"
   ]
  },
  {
   "cell_type": "code",
   "execution_count": null,
   "id": "6d74246a-8abd-48de-af0f-976f7a39bc0f",
   "metadata": {},
   "outputs": [],
   "source": []
  }
 ],
 "metadata": {
  "kernelspec": {
   "display_name": "Python 3 (ipykernel)",
   "language": "python",
   "name": "python3"
  },
  "language_info": {
   "codemirror_mode": {
    "name": "ipython",
    "version": 3
   },
   "file_extension": ".py",
   "mimetype": "text/x-python",
   "name": "python",
   "nbconvert_exporter": "python",
   "pygments_lexer": "ipython3",
   "version": "3.12.5"
  }
 },
 "nbformat": 4,
 "nbformat_minor": 5
}
