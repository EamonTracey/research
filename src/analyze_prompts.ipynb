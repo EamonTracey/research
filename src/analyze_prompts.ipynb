{
 "cells": [
  {
   "cell_type": "code",
   "execution_count": 4,
   "id": "122ca430-78da-4388-95d8-af2e41bbf75c",
   "metadata": {},
   "outputs": [],
   "source": [
    "import json\n",
    "from IPython.display import display, Markdown\n",
    "\n",
    "# Define parameters.\n",
    "\n",
    "PROMPTS = \"../data/prompts/apihtml/taskvine_apihtml_gpt4omini_1_analysis.json\""
   ]
  },
  {
   "cell_type": "code",
   "execution_count": 5,
   "id": "56593ff3-41f1-4323-b088-3ad72feae9bf",
   "metadata": {},
   "outputs": [],
   "source": [
    "# Analyze a singular prompt.\n",
    "\n",
    "def analyze(prompt: dict):\n",
    "    print(prompt[\"content\"])\n",
    "    display(Markdown(prompt[\"response\"]))\n",
    "    return input(\"Analysis: \")"
   ]
  },
  {
   "cell_type": "code",
   "execution_count": 6,
   "id": "71388e0a-7dd3-4dee-a935-eeae2d51dc0b",
   "metadata": {},
   "outputs": [
    {
     "name": "stdout",
     "output_type": "stream",
     "text": [
      "Write a Python TaskVine application to get the current date on a worker machine. The date must be stored to an output file named \"current_date\".\n"
     ]
    },
    {
     "data": {
      "text/markdown": [
       "```python\n",
       "from ndcctools.taskvine import Task, Manager\n",
       "\n",
       "# Define the command to get the current date\n",
       "command = \"date > current_date\"\n",
       "\n",
       "# Create a Task object\n",
       "task = Task(command)\n",
       "\n",
       "# Create a Manager object\n",
       "manager = Manager()\n",
       "\n",
       "# Submit the task to the manager\n",
       "manager.submit(task)\n",
       "\n",
       "# Wait for the task to complete\n",
       "manager.wait()\n",
       "\n",
       "# Print the result\n",
       "print(\"Task completed. The current date is stored in 'current_date'.\")\n",
       "```"
      ],
      "text/plain": [
       "<IPython.core.display.Markdown object>"
      ]
     },
     "metadata": {},
     "output_type": "display_data"
    },
    {
     "name": "stdin",
     "output_type": "stream",
     "text": [
      "Analysis:  q\n"
     ]
    },
    {
     "name": "stdout",
     "output_type": "stream",
     "text": [
      "Write a Python TaskVine application to count the number of times the keywords \"wealth\", \"nation\", \"labour\", \"price\", \"nature\", and \"commodity\" appear in Adam Smith's Wealth of Nations. The text is available at \"https://www.gutenberg.org/cache/epub/3300/pg3300.txt\".\n"
     ]
    },
    {
     "data": {
      "text/markdown": [
       "```python\n",
       "import requests\n",
       "from ndcctools.taskvine import Manager\n",
       "\n",
       "# Define the keywords to search for\n",
       "keywords = [\"wealth\", \"nation\", \"labour\", \"price\", \"nature\", \"commodity\"]\n",
       "\n",
       "def count_keywords(text):\n",
       "    \"\"\"Count occurrences of each keyword in the text.\"\"\"\n",
       "    counts = {keyword: text.lower().count(keyword) for keyword in keywords}\n",
       "    return counts\n",
       "\n",
       "def main():\n",
       "    # Fetch the text from the URL\n",
       "    url = \"https://www.gutenberg.org/cache/epub/3300/pg3300.txt\"\n",
       "    response = requests.get(url)\n",
       "    text = response.text\n",
       "\n",
       "    # Count the keywords\n",
       "    keyword_counts = count_keywords(text)\n",
       "\n",
       "    # Print the results\n",
       "    for keyword, count in keyword_counts.items():\n",
       "        print(f\"The keyword '{keyword}' appears {count} times.\")\n",
       "\n",
       "if __name__ == \"__main__\":\n",
       "    # Create a TaskVine manager\n",
       "    manager = Manager()\n",
       "    \n",
       "    # Submit the main function as a task\n",
       "    manager.submit(main)\n",
       "```\n",
       "\n",
       "This code defines a Python TaskVine application that fetches the text of \"Wealth of Nations\" from the provided URL, counts the occurrences of specified keywords, and prints the results. The `count_keywords` function performs the counting, and the `main` function orchestrates the fetching and counting process. The application is submitted to the TaskVine manager for execution."
      ],
      "text/plain": [
       "<IPython.core.display.Markdown object>"
      ]
     },
     "metadata": {},
     "output_type": "display_data"
    },
    {
     "name": "stdin",
     "output_type": "stream",
     "text": [
      "Analysis:  q\n"
     ]
    },
    {
     "name": "stdout",
     "output_type": "stream",
     "text": [
      "Write a Python TaskVine application to run my program \"script.sh\" with various input arguments and organizes all output data. \"script.sh\" takes, as input, an integer and two files. \"script.sh\" outputs a file named \"output{i}.txt\" where \"{i}\" is the input integer. The application must run \"script.sh\" with input integers 1-1000 and input files \"file1.input\" and \"file2.input\" which are stored in the directory \"script_inputs\". The application must store all output files in a directory named \"script_outputs\".\n"
     ]
    },
    {
     "data": {
      "text/markdown": [
       "```python\n",
       "import os\n",
       "from ndcctools.taskvine import Manager, Task\n",
       "\n",
       "# Create the manager\n",
       "manager = Manager(name=\"ScriptRunner\", run_info_path=\"script_outputs\")\n",
       "\n",
       "# Create output directory if it doesn't exist\n",
       "output_dir = \"script_outputs\"\n",
       "os.makedirs(output_dir, exist_ok=True)\n",
       "\n",
       "# Define the input files\n",
       "input_file1 = \"script_inputs/file1.input\"\n",
       "input_file2 = \"script_inputs/file2.input\"\n",
       "\n",
       "# Function to create and submit tasks\n",
       "def submit_tasks():\n",
       "    for i in range(1, 1001):\n",
       "        # Define the output file name\n",
       "        output_file = os.path.join(output_dir, f\"output{i}.txt\")\n",
       "        \n",
       "        # Create the task\n",
       "        task = Task(command=f\"./script.sh {i} {input_file1} {input_file2} > {output_file}\")\n",
       "        \n",
       "        # Submit the task to the manager\n",
       "        manager.submit(task)\n",
       "\n",
       "# Submit the tasks\n",
       "submit_tasks()\n",
       "\n",
       "# Wait for all tasks to complete\n",
       "manager.wait()\n",
       "```"
      ],
      "text/plain": [
       "<IPython.core.display.Markdown object>"
      ]
     },
     "metadata": {},
     "output_type": "display_data"
    },
    {
     "name": "stdin",
     "output_type": "stream",
     "text": [
      "Analysis:  q\n"
     ]
    },
    {
     "name": "stdout",
     "output_type": "stream",
     "text": [
      "Write a Python TaskVine application to execute a pipeline of shell scripts. I have the script \"script1.sh\" which outputs a file named \"intermediary.out\" upon completion. I also have the scripts \"script2.sh\" and \"script3.sh\"  which both accept an input file as a command line argument. \"script2.sh\" and \"script3.sh\" must both receive \"intermediary.out\" as the input. Finally, \"script2.sh\" and \"script3.sh\" output files named \"script2.out\" and \"script3.out\", respectively. Save these outputs files on the host machine. \"intermediary.out\" need not be saved to the host machine.\n"
     ]
    },
    {
     "data": {
      "text/markdown": [
       "```python\n",
       "from ndcctools.taskvine import manager, task\n",
       "\n",
       "# Create a manager instance\n",
       "mgr = manager.Manager()\n",
       "\n",
       "# Step 1: Define the first task to run script1.sh\n",
       "task1 = task.Task(command=\"./script1.sh\")\n",
       "# Submit the first task\n",
       "mgr.submit(task1)\n",
       "\n",
       "# Step 2: Define the second task to run script2.sh with intermediary.out as input\n",
       "task2 = task.Task(command=\"./script2.sh intermediary.out\")\n",
       "# Add output file for script2\n",
       "task2.add_output(mgr.declare_file(\"script2.out\"))\n",
       "# Submit the second task\n",
       "mgr.submit(task2)\n",
       "\n",
       "# Step 3: Define the third task to run script3.sh with intermediary.out as input\n",
       "task3 = task.Task(command=\"./script3.sh intermediary.out\")\n",
       "# Add output file for script3\n",
       "task3.add_output(mgr.declare_file(\"script3.out\"))\n",
       "# Submit the third task\n",
       "mgr.submit(task3)\n",
       "\n",
       "# Wait for all tasks to complete\n",
       "mgr.wait()\n",
       "```"
      ],
      "text/plain": [
       "<IPython.core.display.Markdown object>"
      ]
     },
     "metadata": {},
     "output_type": "display_data"
    },
    {
     "name": "stdin",
     "output_type": "stream",
     "text": [
      "Analysis:  q\n"
     ]
    },
    {
     "name": "stdout",
     "output_type": "stream",
     "text": [
      "Write a Python TaskVine application to run my GPU-accelerated program. The program binary is stored at \"./train_demo\". The program requires that the worker machine has the feature \"NVIDIA RTX 4090\". Upon completion, the program outputs \"model.tar.gz\". The output file must be saved to the host machine.\n"
     ]
    },
    {
     "data": {
      "text/markdown": [
       "```python\n",
       "from ndcctools.taskvine import manager, task\n",
       "\n",
       "# Create a TaskVine manager\n",
       "mgr = manager.Manager()\n",
       "\n",
       "# Define the task command\n",
       "command = \"./train_demo\"\n",
       "\n",
       "# Create a new task\n",
       "gpu_task = task.Task(command)\n",
       "\n",
       "# Set the required GPU feature\n",
       "gpu_task.add_feature(\"NVIDIA RTX 4090\")\n",
       "\n",
       "# Specify the output file\n",
       "output_file = mgr.declare_file(\"model.tar.gz\")\n",
       "gpu_task.add_output(output_file, \"model.tar.gz\")\n",
       "\n",
       "# Submit the task to the manager\n",
       "mgr.submit(gpu_task)\n",
       "\n",
       "# Wait for the task to complete\n",
       "mgr.wait()\n",
       "```"
      ],
      "text/plain": [
       "<IPython.core.display.Markdown object>"
      ]
     },
     "metadata": {},
     "output_type": "display_data"
    },
    {
     "name": "stdin",
     "output_type": "stream",
     "text": [
      "Analysis:  q\n"
     ]
    },
    {
     "name": "stdout",
     "output_type": "stream",
     "text": [
      "Write a Python TaskVine application to compile and test my project stored at \"complex_project/\". To compile the project, run the \"make all\" command in the project's root directory. Then, to test the project, run \"make test\". The compilation and test must use at most 4 cores, 1024 MB of memory, and 2048 MB of disk. Enable resource monitoring to track resource usage, but do not terminate the task if it overuses resources. When the task completes, print the task's exit code and standard output. For each resource that the task overused, print the resource and by how much it overused.\n"
     ]
    },
    {
     "data": {
      "text/markdown": [
       "```python\n",
       "from ndcctools.taskvine import manager, task\n",
       "\n",
       "# Create a manager instance\n",
       "mgr = manager.Manager()\n",
       "\n",
       "# Define the task to compile the project\n",
       "compile_task = task.Task(command=\"make all\")\n",
       "compile_task.set_cores(4)\n",
       "compile_task.set_memory(1024)  # in MB\n",
       "compile_task.set_disk(2048)     # in MB\n",
       "compile_task.set_category(\"compile\")\n",
       "compile_task.set_priority(1)\n",
       "\n",
       "# Define the task to test the project\n",
       "test_task = task.Task(command=\"make test\")\n",
       "test_task.set_cores(4)\n",
       "test_task.set_memory(1024)  # in MB\n",
       "test_task.set_disk(2048)     # in MB\n",
       "test_task.set_category(\"test\")\n",
       "test_task.set_priority(1)\n",
       "\n",
       "# Enable resource monitoring\n",
       "mgr.enable_monitoring()\n",
       "\n",
       "# Submit the compile task\n",
       "compile_task_id = mgr.submit(compile_task)\n",
       "\n",
       "# Wait for the compile task to complete\n",
       "mgr.wait_for_task_id(compile_task_id)\n",
       "\n",
       "# Print the exit code and standard output of the compile task\n",
       "print(f\"Compile Task Exit Code: {compile_task.exit_code}\")\n",
       "print(f\"Compile Task Standard Output: {compile_task.std_output}\")\n",
       "\n",
       "# Check for resource overuse\n",
       "if compile_task.limits_exceeded():\n",
       "    print(\"Compile Task Resource Overuse:\")\n",
       "    for resource in compile_task.resources_measured:\n",
       "        if compile_task.resources_measured[resource] > compile_task.resources_requested[resource]:\n",
       "            overuse_amount = compile_task.resources_measured[resource] - compile_task.resources_requested[resource]\n",
       "            print(f\"{resource}: Overused by {overuse_amount}\")\n",
       "\n",
       "# Submit the test task\n",
       "test_task_id = mgr.submit(test_task)\n",
       "\n",
       "# Wait for the test task to complete\n",
       "mgr.wait_for_task_id(test_task_id)\n",
       "\n",
       "# Print the exit code and standard output of the test task\n",
       "print(f\"Test Task Exit Code: {test_task.exit_code}\")\n",
       "print(f\"Test Task Standard Output: {test_task.std_output}\")\n",
       "\n",
       "# Check for resource overuse\n",
       "if test_task.limits_exceeded():\n",
       "    print(\"Test Task Resource Overuse:\")\n",
       "    for resource in test_task.resources_measured:\n",
       "        if test_task.resources_measured[resource] > test_task.resources_requested[resource]:\n",
       "            overuse_amount = test_task.resources_measured[resource] - test_task.resources_requested[resource]\n",
       "            print(f\"{resource}: Overused by {overuse_amount}\")\n",
       "```"
      ],
      "text/plain": [
       "<IPython.core.display.Markdown object>"
      ]
     },
     "metadata": {},
     "output_type": "display_data"
    },
    {
     "name": "stdin",
     "output_type": "stream",
     "text": [
      "Analysis:  q\n"
     ]
    },
    {
     "name": "stdout",
     "output_type": "stream",
     "text": [
      "Write a Python TaskVine application that executes multiple programs with different levels of resource requirements. The two task categories must be named \"intensive\" and \"light\". The \"intensive\" tasks require 8 cores and 16 GB of memory. The \"light\" tasks require 1 core and 2 GB of memory. In the intensive category, submit 10 tasks to execute the shell script \"intensive.sh\". In the light category, submit 100 tasks to execute the shell script \"light.sh\" Print the standard output of each task upon completion.\n"
     ]
    },
    {
     "data": {
      "text/markdown": [
       "```python\n",
       "from ndcctools.taskvine.manager import Manager\n",
       "from ndcctools.taskvine.task import Task\n",
       "\n",
       "# Create a manager instance\n",
       "manager = Manager(name=\"Resource Manager\")\n",
       "\n",
       "# Define the intensive and light task categories\n",
       "intensive_category = \"intensive\"\n",
       "light_category = \"light\"\n",
       "\n",
       "# Set resource requirements for each category\n",
       "manager.set_category_resources_max(intensive_category, {'cores': 8, 'memory': 16384})  # 16 GB\n",
       "manager.set_category_resources_max(light_category, {'cores': 1, 'memory': 2048})      # 2 GB\n",
       "\n",
       "# Submit intensive tasks\n",
       "for i in range(10):\n",
       "    task = Task(command=\"./intensive.sh\")\n",
       "    task.set_category(intensive_category)\n",
       "    manager.submit(task)\n",
       "\n",
       "# Submit light tasks\n",
       "for i in range(100):\n",
       "    task = Task(command=\"./light.sh\")\n",
       "    task.set_category(light_category)\n",
       "    manager.submit(task)\n",
       "\n",
       "# Wait for all tasks to complete and print their standard output\n",
       "for task in manager.wait(timeout=\"wait_forever\"):\n",
       "    print(f\"Task ID: {task.id}, Standard Output: {task.std_output}\")\n",
       "```"
      ],
      "text/plain": [
       "<IPython.core.display.Markdown object>"
      ]
     },
     "metadata": {},
     "output_type": "display_data"
    },
    {
     "name": "stdin",
     "output_type": "stream",
     "text": [
      "Analysis:  q\n"
     ]
    },
    {
     "name": "stdout",
     "output_type": "stream",
     "text": [
      "Write a Python TaskVine application to perform matrix inversion and transposition. The matrix computations must be defined in Python functions and added to a TaskVine library called \"matrix_library\". The user must specify the size, m x n,  of the matrix and the number of matrices, i, on which to perform computation. The application must randomly generate i matrices and for each matrix, print the matrix, print the inverse matrix, and print the transposed matrix.\n"
     ]
    },
    {
     "data": {
      "text/markdown": [
       "```python\n",
       "import numpy as np\n",
       "from ndcctools.taskvine.manager import Manager\n",
       "\n",
       "# Define the matrix inversion and transposition functions\n",
       "def invert_matrix(matrix):\n",
       "    return np.linalg.inv(matrix)\n",
       "\n",
       "def transpose_matrix(matrix):\n",
       "    return np.transpose(matrix)\n",
       "\n",
       "# Create a TaskVine manager\n",
       "manager = Manager(name=\"MatrixComputationManager\")\n",
       "\n",
       "# User input for matrix size and number of matrices\n",
       "m = int(input(\"Enter the number of rows (m) for the matrices: \"))\n",
       "n = int(input(\"Enter the number of columns (n) for the matrices: \"))\n",
       "i = int(input(\"Enter the number of matrices to generate: \"))\n",
       "\n",
       "# Create a library for matrix operations\n",
       "library = manager.create_library_from_functions(\"matrix_library\", invert_matrix, transpose_matrix)\n",
       "\n",
       "# Generate i random matrices and perform computations\n",
       "for index in range(i):\n",
       "    # Generate a random matrix\n",
       "    matrix = np.random.rand(m, n)\n",
       "    \n",
       "    # Print the original matrix\n",
       "    print(f\"Matrix {index + 1}:\\n{matrix}\")\n",
       "    \n",
       "    # Compute and print the inverse if the matrix is square\n",
       "    if m == n:\n",
       "        inverse_matrix = invert_matrix(matrix)\n",
       "        print(f\"Inverse of Matrix {index + 1}:\\n{inverse_matrix}\")\n",
       "    else:\n",
       "        print(f\"Matrix {index + 1} is not square, cannot compute inverse.\")\n",
       "    \n",
       "    # Compute and print the transposed matrix\n",
       "    transposed_matrix = transpose_matrix(matrix)\n",
       "    print(f\"Transposed of Matrix {index + 1}:\\n{transposed_matrix}\")\n",
       "\n",
       "# Submit the task to the manager\n",
       "manager.submit(library)\n",
       "``` \n",
       "\n",
       "This code defines a TaskVine application that generates random matrices, computes their inverses (if applicable), and transposes them. The user specifies the dimensions of the matrices and the number of matrices to generate. The matrix operations are encapsulated in a library called \"matrix_library\"."
      ],
      "text/plain": [
       "<IPython.core.display.Markdown object>"
      ]
     },
     "metadata": {},
     "output_type": "display_data"
    },
    {
     "name": "stdin",
     "output_type": "stream",
     "text": [
      "Analysis:  q\n"
     ]
    },
    {
     "name": "stdout",
     "output_type": "stream",
     "text": [
      "Write a Python Taskvine application to fetch the titles of multiple news webpages. The webpage contents must be downloaded asynchronously using the TaskVine futures executor. Print the URL and title of each webpage in order of the completion of each task. The webpages I am interested in are \"https://abcnews.com\", \"https://apnews.com\", \"https://axios.com\", \"https://cnn.com\", \"https://nbcnews.com\", \"https://nytimes.com\", \"https://reuters.com\", \"https://washingtonpost.com\", \"https://wsj.com\".\n"
     ]
    },
    {
     "data": {
      "text/markdown": [
       "```python\n",
       "import requests\n",
       "from ndcctools.taskvine import manager, task\n",
       "from ndcctools.taskvine.futures import Future\n",
       "\n",
       "# Define a function to fetch the title of a webpage\n",
       "def fetch_title(url):\n",
       "    response = requests.get(url)\n",
       "    response.raise_for_status()  # Raise an error for bad responses\n",
       "    title_start = response.text.find('<title>') + len('<title>')\n",
       "    title_end = response.text.find('</title>', title_start)\n",
       "    title = response.text[title_start:title_end]\n",
       "    return url, title\n",
       "\n",
       "# Create a TaskVine manager\n",
       "manager_instance = manager.Manager()\n",
       "\n",
       "# List of URLs to fetch\n",
       "urls = [\n",
       "    \"https://abcnews.com\",\n",
       "    \"https://apnews.com\",\n",
       "    \"https://axios.com\",\n",
       "    \"https://cnn.com\",\n",
       "    \"https://nbcnews.com\",\n",
       "    \"https://nytimes.com\",\n",
       "    \"https://reuters.com\",\n",
       "    \"https://washingtonpost.com\",\n",
       "    \"https://wsj.com\"\n",
       "]\n",
       "\n",
       "# Create a list to hold future tasks\n",
       "futures = []\n",
       "\n",
       "# Submit tasks to fetch titles asynchronously\n",
       "for url in urls:\n",
       "    task_instance = task.Task(fetch_title, url)\n",
       "    future = manager_instance.submit(task_instance)\n",
       "    futures.append(future)\n",
       "\n",
       "# Wait for tasks to complete and print results in order of completion\n",
       "for future in futures:\n",
       "    result = future.wait()\n",
       "    print(f\"URL: {result[0]}, Title: {result[1]}\")\n",
       "```"
      ],
      "text/plain": [
       "<IPython.core.display.Markdown object>"
      ]
     },
     "metadata": {},
     "output_type": "display_data"
    },
    {
     "name": "stdin",
     "output_type": "stream",
     "text": [
      "Analysis:  q\n"
     ]
    },
    {
     "name": "stdout",
     "output_type": "stream",
     "text": [
      "Write a Python TaskVine application to get the current date on a worker machine. The date must be stored to an output file named \"current_date\". To prevent an unwanted worker from connecting to the manager, use the password stored in the file \"taskvine.password\". Further, encrypt communication between the manager and worker with SSL using the \"key.pem\" and \"certificate.pem\" files.\n"
     ]
    },
    {
     "data": {
      "text/markdown": [
       "```python\n",
       "from ndcctools.taskvine import manager, task\n",
       "\n",
       "# Define the command to get the current date and store it in a file\n",
       "command = \"date > current_date\"\n",
       "\n",
       "# Create a Task object\n",
       "date_task = task.Task(command)\n",
       "\n",
       "# Create a Manager object with SSL and password protection\n",
       "manager_instance = manager.Manager(\n",
       "    port=0,  # Random port\n",
       "    name=\"DateFetcher\",\n",
       "    shutdown=False,\n",
       "    run_info_path=\"vine-run-info\",\n",
       "    ssl=(\"key.pem\", \"certificate.pem\"),\n",
       ")\n",
       "\n",
       "# Set the password for the manager from the file\n",
       "with open(\"taskvine.password\", \"r\") as password_file:\n",
       "    password = password_file.read().strip()\n",
       "manager_instance.set_password(password)\n",
       "\n",
       "# Submit the task to the manager\n",
       "manager_instance.submit(date_task)\n",
       "\n",
       "# Wait for the task to complete\n",
       "manager_instance.wait()\n",
       "```"
      ],
      "text/plain": [
       "<IPython.core.display.Markdown object>"
      ]
     },
     "metadata": {},
     "output_type": "display_data"
    },
    {
     "name": "stdin",
     "output_type": "stream",
     "text": [
      "Analysis:  q\n"
     ]
    }
   ],
   "source": [
    "# Load prompts from file.\n",
    "with open(PROMPTS, \"r\") as fp:\n",
    "    prompts = json.load(fp)\n",
    "\n",
    "# Perform the zeroshot prompting.\n",
    "for prompt in prompts[\"prompts\"]:\n",
    "    if \"analysis\" not in prompt or input(\"Override analysis? (y/n)\").lower() in [\"y\", \"yes\"]:\n",
    "        analysis = analyze(prompt)\n",
    "        prompt[\"analysis\"] = analysis"
   ]
  },
  {
   "cell_type": "code",
   "execution_count": null,
   "id": "5bc31885-8800-4985-9cdd-0ac40df7ff43",
   "metadata": {},
   "outputs": [],
   "source": []
  }
 ],
 "metadata": {
  "kernelspec": {
   "display_name": "Python 3 (ipykernel)",
   "language": "python",
   "name": "python3"
  },
  "language_info": {
   "codemirror_mode": {
    "name": "ipython",
    "version": 3
   },
   "file_extension": ".py",
   "mimetype": "text/x-python",
   "name": "python",
   "nbconvert_exporter": "python",
   "pygments_lexer": "ipython3",
   "version": "3.12.5"
  }
 },
 "nbformat": 4,
 "nbformat_minor": 5
}
