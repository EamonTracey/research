{
 "cells": [
  {
   "cell_type": "code",
   "execution_count": 17,
   "id": "122ca430-78da-4388-95d8-af2e41bbf75c",
   "metadata": {},
   "outputs": [],
   "source": [
    "import json\n",
    "from IPython.display import clear_output, display, Markdown\n",
    "\n",
    "# Define parameters.\n",
    "\n",
    "PROMPTS = \"../data/prompts/apibeautiful/taskvine_apibeautiful_gpt4o.json\""
   ]
  },
  {
   "cell_type": "code",
   "execution_count": 18,
   "id": "56593ff3-41f1-4323-b088-3ad72feae9bf",
   "metadata": {},
   "outputs": [],
   "source": [
    "# Analyze a singular prompt.\n",
    "\n",
    "def analyze(prompt: dict):\n",
    "    clear_output(wait=True)\n",
    "    print(prompt[\"content\"])\n",
    "    display(Markdown(prompt[\"response\"]))\n",
    "    return input(\"Analysis: \")"
   ]
  },
  {
   "cell_type": "code",
   "execution_count": null,
   "id": "71388e0a-7dd3-4dee-a935-eeae2d51dc0b",
   "metadata": {},
   "outputs": [
    {
     "name": "stdout",
     "output_type": "stream",
     "text": [
      "Write a Python TaskVine application to perform matrix inversion and transposition. The matrix computations must be defined in Python functions and added to a TaskVine library called \"matrix_library\". The user must specify the size, m x n,  of the matrix and the number of matrices, i, on which to perform computation. The application must randomly generate i matrices and for each matrix, print the matrix, print the inverse matrix, and print the transposed matrix.\n"
     ]
    },
    {
     "data": {
      "text/markdown": [
       "```python\n",
       "import numpy as np\n",
       "from ndcctools.taskvine.manager import Manager\n",
       "from ndcctools.taskvine.task import FunctionCall\n",
       "\n",
       "# Define matrix operations\n",
       "def invert_matrix(matrix):\n",
       "    return np.linalg.inv(matrix)\n",
       "\n",
       "def transpose_matrix(matrix):\n",
       "    return np.transpose(matrix)\n",
       "\n",
       "# Main function\n",
       "def main(matrix_size, num_matrices):\n",
       "    # Create a TaskVine manager\n",
       "    manager = Manager(port=0, name=\"matrix_operations\", shutdown=True)\n",
       "\n",
       "    # Create a library from the matrix functions\n",
       "    manager.create_library_from_functions(\n",
       "        library_name=\"matrix_library\",\n",
       "        function_list=[invert_matrix, transpose_matrix],\n",
       "        poncho_env=None,\n",
       "        init_command=None,\n",
       "        add_env=False,\n",
       "        hoisting_modules=[],\n",
       "        exec_mode='direct',\n",
       "        library_context_info=None\n",
       "    )\n",
       "\n",
       "    # Generate random matrices and perform operations\n",
       "    for _ in range(num_matrices):\n",
       "        matrix = np.random.rand(matrix_size[0], matrix_size[1])\n",
       "        print(\"Original Matrix:\\n\", matrix)\n",
       "\n",
       "        # Create tasks for inversion and transposition\n",
       "        invert_task = FunctionCall(\"matrix_library\", \"invert_matrix\", args=(matrix,), kwargs={})\n",
       "        transpose_task = FunctionCall(\"matrix_library\", \"transpose_matrix\", args=(matrix,), kwargs={})\n",
       "\n",
       "        # Submit tasks to the manager\n",
       "        manager.submit(invert_task)\n",
       "        manager.submit(transpose_task)\n",
       "\n",
       "        # Wait for tasks to complete and get results\n",
       "        invert_result = manager.wait_for_task_id(invert_task.id(), timeout=\"wait_forever\").output()\n",
       "        transpose_result = manager.wait_for_task_id(transpose_task.id(), timeout=\"wait_forever\").output()\n",
       "\n",
       "        # Print results\n",
       "        print(\"Inverted Matrix:\\n\", invert_result)\n",
       "        print(\"Transposed Matrix:\\n\", transpose_result)\n",
       "\n",
       "    # Shutdown the manager\n",
       "    manager.shutdown()\n",
       "\n",
       "# Example usage\n",
       "if __name__ == \"__main__\":\n",
       "    matrix_size = (3, 3)  # Example size\n",
       "    num_matrices = 2      # Example number of matrices\n",
       "    main(matrix_size, num_matrices)\n",
       "```\n",
       "\n",
       "This code defines two functions for matrix inversion and transposition, creates a TaskVine manager, and uses it to perform these operations on randomly generated matrices. The results are printed for each matrix. Adjust `matrix_size` and `num_matrices` as needed."
      ],
      "text/plain": [
       "<IPython.core.display.Markdown object>"
      ]
     },
     "metadata": {},
     "output_type": "display_data"
    }
   ],
   "source": [
    "### Load prompts from file.\n",
    "with open(PROMPTS, \"r\") as fp:\n",
    "    prompts = json.load(fp)\n",
    "\n",
    "# Perform the zeroshot prompting.\n",
    "for prompt in prompts[\"prompts\"]:\n",
    "    if True or \"analysis\" not in prompt or input(\"Override analysis? (y/n)\").lower() in [\"y\", \"yes\"]:\n",
    "        analysis = analyze(prompt)\n",
    "        prompt[\"analysis\"] = analysis"
   ]
  },
  {
   "cell_type": "code",
   "execution_count": null,
   "id": "67274ceb-7d0c-48e9-9604-44ee1218dfb4",
   "metadata": {},
   "outputs": [],
   "source": []
  },
  {
   "cell_type": "code",
   "execution_count": null,
   "id": "30e1ea3a-e99f-42f6-b076-17d70cc6eb8a",
   "metadata": {},
   "outputs": [],
   "source": []
  }
 ],
 "metadata": {
  "kernelspec": {
   "display_name": "Python 3 (ipykernel)",
   "language": "python",
   "name": "python3"
  },
  "language_info": {
   "codemirror_mode": {
    "name": "ipython",
    "version": 3
   },
   "file_extension": ".py",
   "mimetype": "text/x-python",
   "name": "python",
   "nbconvert_exporter": "python",
   "pygments_lexer": "ipython3",
   "version": "3.12.5"
  }
 },
 "nbformat": 4,
 "nbformat_minor": 5
}
