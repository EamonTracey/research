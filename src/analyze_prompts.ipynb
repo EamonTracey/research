{
 "cells": [
  {
   "cell_type": "code",
   "execution_count": 1,
   "id": "122ca430-78da-4388-95d8-af2e41bbf75c",
   "metadata": {},
   "outputs": [],
   "source": [
    "import json\n",
    "from IPython.display import display, Markdown\n",
    "\n",
    "# Define parameters.\n",
    "\n",
    "PROMPTS = \"../data/prompts/nothing/taskvine_nothing_gpt4o_1_analysis.json\""
   ]
  },
  {
   "cell_type": "code",
   "execution_count": 2,
   "id": "56593ff3-41f1-4323-b088-3ad72feae9bf",
   "metadata": {},
   "outputs": [],
   "source": [
    "# Analyze a singular prompt.\n",
    "\n",
    "def analyze(prompt: dict):\n",
    "    print(prompt[\"content\"])\n",
    "    display(Markdown(prompt[\"response\"]))\n",
    "    return input(\"Analysis: \")"
   ]
  },
  {
   "cell_type": "code",
   "execution_count": null,
   "id": "71388e0a-7dd3-4dee-a935-eeae2d51dc0b",
   "metadata": {},
   "outputs": [
    {
     "name": "stdin",
     "output_type": "stream",
     "text": [
      "Override analysis? (y/n) n\n",
      "Override analysis? (y/n) y\n"
     ]
    },
    {
     "name": "stdout",
     "output_type": "stream",
     "text": [
      "Write a Python TaskVine application to count the number of times the keywords \"wealth\", \"nation\", \"labour\", \"price\", \"nature\", and \"commodity\" appear in Adam Smith's Wealth of Nations. The text is available at \"https://www.gutenberg.org/cache/epub/3300/pg3300.txt\".\n"
     ]
    },
    {
     "data": {
      "text/markdown": [
       "```python\n",
       "import ndcctools.taskvine as vine\n",
       "import requests\n",
       "\n",
       "# Download the text of \"Wealth of Nations\"\n",
       "url = \"https://www.gutenberg.org/cache/epub/3300/pg3300.txt\"\n",
       "response = requests.get(url)\n",
       "text = response.text\n",
       "\n",
       "# Save the text to a file\n",
       "with open(\"wealth_of_nations.txt\", \"w\") as file:\n",
       "    file.write(text)\n",
       "\n",
       "# Keywords to search for\n",
       "keywords = [\"wealth\", \"nation\", \"labour\", \"price\", \"nature\", \"commodity\"]\n",
       "\n",
       "# Create a TaskVine application\n",
       "app = vine.Application()\n",
       "\n",
       "# Function to create a task for each keyword\n",
       "def create_count_task(keyword):\n",
       "    task = vine.Task(command=f\"grep -o -i '\\\\b{keyword}\\\\b' wealth_of_nations.txt | wc -l\")\n",
       "    task.set_name(f\"count_{keyword}\")\n",
       "    return task\n",
       "\n",
       "# Add tasks to the application\n",
       "for keyword in keywords:\n",
       "    task = create_count_task(keyword)\n",
       "    app.add_task(task)\n",
       "\n",
       "# Run the application\n",
       "app.run()\n",
       "\n",
       "# Collect and print the results\n",
       "for keyword in keywords:\n",
       "    task = app.get_task_by_name(f\"count_{keyword}\")\n",
       "    count = task.stdout.strip()\n",
       "    print(f\"The keyword '{keyword}' appears {count} times.\")\n",
       "```"
      ],
      "text/plain": [
       "<IPython.core.display.Markdown object>"
      ]
     },
     "metadata": {},
     "output_type": "display_data"
    },
    {
     "name": "stdin",
     "output_type": "stream",
     "text": [
      "Analysis:  q\n",
      "Override analysis? (y/n) y\n"
     ]
    },
    {
     "name": "stdout",
     "output_type": "stream",
     "text": [
      "Write a Python TaskVine application to run my program \"script.sh\" with various input arguments and organizes all output data. \"script.sh\" takes, as input, an integer and two files. \"script.sh\" outputs a file named \"output{i}.txt\" where \"{i}\" is the input integer. The application must run \"script.sh\" with input integers 1-1000 and input files \"file1.input\" and \"file2.input\" which are stored in the directory \"script_inputs\". The application must store all output files in a directory named \"script_outputs\".\n"
     ]
    },
    {
     "data": {
      "text/markdown": [
       "```python\n",
       "import os\n",
       "from ndcctools.taskvine import Manager, Task\n",
       "\n",
       "# Create the output directory if it doesn't exist\n",
       "output_dir = \"script_outputs\"\n",
       "os.makedirs(output_dir, exist_ok=True)\n",
       "\n",
       "# Initialize the TaskVine manager\n",
       "manager = Manager()\n",
       "\n",
       "# Define the input files\n",
       "input_file1 = \"script_inputs/file1.input\"\n",
       "input_file2 = \"script_inputs/file2.input\"\n",
       "\n",
       "# Add tasks to the manager\n",
       "for i in range(1, 1001):\n",
       "    output_file = f\"output{i}.txt\"\n",
       "    task = Task(f\"./script.sh {i} {input_file1} {input_file2}\")\n",
       "    task.set_input_files([input_file1, input_file2])\n",
       "    task.set_output_files([output_file])\n",
       "    task.specify_output_file(output_file, os.path.join(output_dir, output_file))\n",
       "    manager.add_task(task)\n",
       "\n",
       "# Wait for all tasks to complete\n",
       "manager.wait_for_all()\n",
       "```"
      ],
      "text/plain": [
       "<IPython.core.display.Markdown object>"
      ]
     },
     "metadata": {},
     "output_type": "display_data"
    }
   ],
   "source": [
    "# Load prompts from file.\n",
    "with open(PROMPTS, \"r\") as fp:\n",
    "    prompts = json.load(fp)\n",
    "\n",
    "# Perform the zeroshot prompting.\n",
    "for prompt in prompts[\"prompts\"]:\n",
    "    if \"analysis\" not in prompt or input(\"Override analysis? (y/n)\").lower() in [\"y\", \"yes\"]:\n",
    "        analysis = analyze(prompt)\n",
    "        prompt[\"analysis\"] = analysis"
   ]
  },
  {
   "cell_type": "code",
   "execution_count": null,
   "id": "67274ceb-7d0c-48e9-9604-44ee1218dfb4",
   "metadata": {},
   "outputs": [],
   "source": []
  },
  {
   "cell_type": "code",
   "execution_count": null,
   "id": "30e1ea3a-e99f-42f6-b076-17d70cc6eb8a",
   "metadata": {},
   "outputs": [],
   "source": []
  }
 ],
 "metadata": {
  "kernelspec": {
   "display_name": "Python 3 (ipykernel)",
   "language": "python",
   "name": "python3"
  },
  "language_info": {
   "codemirror_mode": {
    "name": "ipython",
    "version": 3
   },
   "file_extension": ".py",
   "mimetype": "text/x-python",
   "name": "python",
   "nbconvert_exporter": "python",
   "pygments_lexer": "ipython3",
   "version": "3.12.5"
  }
 },
 "nbformat": 4,
 "nbformat_minor": 5
}
