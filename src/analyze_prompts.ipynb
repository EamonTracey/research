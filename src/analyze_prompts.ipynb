{
 "cells": [
  {
   "cell_type": "code",
   "execution_count": 17,
   "id": "b5d1df09-ef34-4115-8a71-8f76b98aaf8c",
   "metadata": {},
   "outputs": [],
   "source": [
    "# Import libraries.\n",
    "\n",
    "import json\n",
    "\n",
    "from IPython.display import Markdown, display"
   ]
  },
  {
   "cell_type": "code",
   "execution_count": 18,
   "id": "122ca430-78da-4388-95d8-af2e41bbf75c",
   "metadata": {},
   "outputs": [],
   "source": [
    "# Define parameters.\n",
    "\n",
    "PROMPTS = \"../data/prompts/nothing/taskvine_nothing_gpt4o_1_analysis.json\""
   ]
  },
  {
   "cell_type": "code",
   "execution_count": 19,
   "id": "56593ff3-41f1-4323-b088-3ad72feae9bf",
   "metadata": {},
   "outputs": [],
   "source": [
    "# Analyze a singular prompt.\n",
    "\n",
    "def analyze(prompt: dict):\n",
    "    print(prompt[\"content\"])\n",
    "    display(Markdown(prompt[\"response\"]))\n",
    "    return input(\"Analysis: \")"
   ]
  },
  {
   "cell_type": "code",
   "execution_count": 1,
   "id": "71388e0a-7dd3-4dee-a935-eeae2d51dc0b",
   "metadata": {},
   "outputs": [],
   "source": [
    "# Load prompts from file.\n",
    "with open(PROMPTS, \"r\") as fp:\n",
    "    prompts = json.load(fp)\n",
    "\n",
    "# Perform the zeroshot prompting.\n",
    "for prompt in prompts[\"prompts\"]:\n",
    "    if \"analysis\" not in prompt or input(\"Override analysis? (y/n)\").lower() in [\"y\", \"yes\"]:\n",
    "        analysis = analyze(prompt)\n",
    "        prompt[\"analysis\"] = analysis"
   ]
  }
 ],
 "metadata": {
  "kernelspec": {
   "display_name": "Python 3 (ipykernel)",
   "language": "python",
   "name": "python3"
  },
  "language_info": {
   "codemirror_mode": {
    "name": "ipython",
    "version": 3
   },
   "file_extension": ".py",
   "mimetype": "text/x-python",
   "name": "python",
   "nbconvert_exporter": "python",
   "pygments_lexer": "ipython3",
   "version": "3.12.5"
  }
 },
 "nbformat": 4,
 "nbformat_minor": 5
}
